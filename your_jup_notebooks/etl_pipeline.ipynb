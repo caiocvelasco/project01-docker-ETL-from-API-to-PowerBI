{
 "cells": [
  {
   "cell_type": "markdown",
   "metadata": {},
   "source": [
    "# Building an ETL Pipeline"
   ]
  },
  {
   "cell_type": "markdown",
   "metadata": {},
   "source": [
    "## Importing Libraries"
   ]
  },
  {
   "cell_type": "code",
   "execution_count": 1,
   "metadata": {},
   "outputs": [],
   "source": [
    "import pandas as pd # Data Transformation\n",
    "import requests     # Establishing connection with the web (API)\n",
    "import json         # Exposes an API familiar to users of the standard library marshal and pickle modules\n",
    "import pytest       # Makes it easy to write small, readable tests\n",
    "import os\n",
    "from dotenv import load_dotenv\n",
    "import sqlalchemy\n",
    "from sqlalchemy.engine import Engine, create_engine"
   ]
  },
  {
   "cell_type": "markdown",
   "metadata": {},
   "source": [
    "## [E] Extraction"
   ]
  },
  {
   "cell_type": "markdown",
   "metadata": {},
   "source": [
    "### API\n",
    "- Data Source: https://docs.coincap.io/#89deffa0-ab03-4e0a-8d92-637a857d2c91\n",
    "- Data comes in a JSON format (semi-structured data) from a 3rd Party"
   ]
  },
  {
   "cell_type": "markdown",
   "metadata": {},
   "source": [
    "### Extraction Function"
   ]
  },
  {
   "cell_type": "code",
   "execution_count": 2,
   "metadata": {},
   "outputs": [],
   "source": [
    "def extract(api_get_request_url):\n",
    "    \"\"\"\n",
    "    Create and return a raw JSON extracted from an external API via GET Request.\n",
    "\n",
    "    Args:\n",
    "        api_get_request_url: The URL for API's GET Request.\n",
    "\n",
    "    Returns:\n",
    "        raw_data_json: a raw JSON with the API data.\n",
    "    \"\"\"\n",
    "    \n",
    "    # GET Request. Package the request, send the request and catch the response r\n",
    "    r = requests.get(api_get_request_url)\n",
    "    \n",
    "    # Check if the request was successful\n",
    "    if r.status_code == 200:\n",
    "        # Extract JSON data from response: Decode the JSON data into a dictionary\n",
    "        raw_data_json = r.json()\n",
    "    else:\n",
    "        print(f\"Error. Non-success status code: {r.status_code}\")\n",
    "    \n",
    "    # Return the json\n",
    "    return raw_data_json\n",
    "\n",
    "# Call the extract() function\n",
    "raw_data_json = extract(\"https://api.coincap.io/v2/assets\")"
   ]
  },
  {
   "cell_type": "code",
   "execution_count": 3,
   "metadata": {},
   "outputs": [
    {
     "name": "stdout",
     "output_type": "stream",
     "text": [
      "Printing JSON names:\n",
      "data : [{'id': 'bitcoin', 'rank': '1', 'symbol': 'BTC', 'name': 'Bitcoin', 'supply': '19707950.0000000000000000', 'maxSupply': '21000000.0000000000000000', 'marketCapUsd': '1397983178503.6699137374477800', 'volumeUsd24Hr': '10219566110.0425448570490033', 'priceUsd': '70934.9870739305667884', 'changePercent24Hr': '1.9758934324479065', 'vwap24Hr': '70672.9205297634327363', 'explorer': 'https://blockchain.info/'}, {'id': 'ethereum', 'rank': '2', 'symbol': 'ETH', 'name': 'Ethereum', 'supply': '120148357.7907781000000000', 'maxSupply': None, 'marketCapUsd': '456760101948.6325321128685489', 'volumeUsd24Hr': '5057888039.6298236783693074', 'priceUsd': '3801.6341658536661433', 'changePercent24Hr': '0.6011630154207898', 'vwap24Hr': '3805.9410678215918472', 'explorer': 'https://etherscan.io/'}, {'id': 'binance-coin', 'rank': '3', 'symbol': 'BNB', 'name': 'BNB', 'supply': '166801148.0000000000000000', 'maxSupply': '166801148.0000000000000000', 'marketCapUsd': '117057469991.6590236522724376', 'volumeUsd24Hr': '987590875.2955303843850514', 'priceUsd': '701.7785632486115962', 'changePercent24Hr': '5.6462764551551897', 'vwap24Hr': '687.2213157272743816', 'explorer': 'https://etherscan.io/token/0xB8c77482e45F1F44dE1745F52C74426C631bDD52'}, {'id': 'tether', 'rank': '4', 'symbol': 'USDT', 'name': 'Tether', 'supply': '112316773848.0826100000000000', 'maxSupply': None, 'marketCapUsd': '112343743800.8871265920943768', 'volumeUsd24Hr': '17155501015.6674041696246270', 'priceUsd': '1.0002401239982284', 'changePercent24Hr': '0.0324394856643047', 'vwap24Hr': '0.9994418187866353', 'explorer': 'https://www.omniexplorer.info/asset/31'}, {'id': 'solana', 'rank': '5', 'symbol': 'SOL', 'name': 'Solana', 'supply': '459924921.2833028400000000', 'maxSupply': None, 'marketCapUsd': '79438989442.0515292703817045', 'volumeUsd24Hr': '763555787.0779496281191389', 'priceUsd': '172.7216460034332352', 'changePercent24Hr': '3.7544411836496214', 'vwap24Hr': '171.4056131004012586', 'explorer': 'https://explorer.solana.com/'}, {'id': 'usd-coin', 'rank': '6', 'symbol': 'USDC', 'name': 'USDC', 'supply': '32378750476.2465700000000000', 'maxSupply': None, 'marketCapUsd': '32397425167.1002329485385717', 'volumeUsd24Hr': '1688902714.0027115932795351', 'priceUsd': '1.0005767576135269', 'changePercent24Hr': '0.0014622045042735', 'vwap24Hr': '0.9998310049393876', 'explorer': 'https://etherscan.io/token/0xa0b86991c6218b36c1d19d4a2e9eb0ce3606eb48'}, {'id': 'xrp', 'rank': '7', 'symbol': 'XRP', 'name': 'XRP', 'supply': '45404028640.0000000000000000', 'maxSupply': '100000000000.0000000000000000', 'marketCapUsd': '23966175189.3056206346013120', 'volumeUsd24Hr': '532372305.0303436577768592', 'priceUsd': '0.5278424824221858', 'changePercent24Hr': '0.2410792230147329', 'vwap24Hr': '0.5268738129407885', 'explorer': 'https://xrpcharts.ripple.com/#/graph/'}, {'id': 'dogecoin', 'rank': '8', 'symbol': 'DOGE', 'name': 'Dogecoin', 'supply': '144584496383.7052000000000000', 'maxSupply': None, 'marketCapUsd': '23500918561.1003226533906111', 'volumeUsd24Hr': '335819571.2816724854979854', 'priceUsd': '0.1625410687099706', 'changePercent24Hr': '1.9665118819301862', 'vwap24Hr': '0.1619269467023239', 'explorer': 'http://dogechain.info/chain/Dogecoin'}, {'id': 'cardano', 'rank': '9', 'symbol': 'ADA', 'name': 'Cardano', 'supply': '35707269939.5540000000000000', 'maxSupply': '45000000000.0000000000000000', 'marketCapUsd': '16448206484.9707806620008191', 'volumeUsd24Hr': '96294287.7461145526926915', 'priceUsd': '0.4606402705335536', 'changePercent24Hr': '0.7021655383058966', 'vwap24Hr': '0.4613701556114404', 'explorer': 'https://cardanoexplorer.com/'}, {'id': 'shiba-inu', 'rank': '10', 'symbol': 'SHIB', 'name': 'Shiba Inu', 'supply': '589271803029900.4000000000000000', 'maxSupply': None, 'marketCapUsd': '15123317501.4566970763392508', 'volumeUsd24Hr': '364231332.3630366449088856', 'priceUsd': '0.0000256644173770', 'changePercent24Hr': '6.4575000324297982', 'vwap24Hr': '0.0000253686487936', 'explorer': 'https://etherscan.io/token/0x95ad61b0a150d79219dcf64e1e6cc01f0b64c4ce'}, {'id': 'avalanche', 'rank': '11', 'symbol': 'AVAX', 'name': 'Avalanche', 'supply': '393232626.0171106500000000', 'maxSupply': '715748719.0000000000000000', 'marketCapUsd': '14191740457.0621249975821359', 'volumeUsd24Hr': '121072539.6815815238867665', 'priceUsd': '36.0899363839779732', 'changePercent24Hr': '2.7332642912045572', 'vwap24Hr': '36.0344457079989345', 'explorer': 'https://avascan.info/'}, {'id': 'wrapped-bitcoin', 'rank': '12', 'symbol': 'WBTC', 'name': 'Wrapped Bitcoin', 'supply': '153235.7378324500000000', 'maxSupply': None, 'marketCapUsd': '10850902068.6386099421712348', 'volumeUsd24Hr': '106799777.3405917625824922', 'priceUsd': '70811.8238090329229946', 'changePercent24Hr': '1.8830223060741656', 'vwap24Hr': '70759.1150178823152891', 'explorer': 'https://etherscan.io/token/0x2260fac5e5542a773aa44fbcfedf7c193bc2c599'}, {'id': 'chainlink', 'rank': '13', 'symbol': 'LINK', 'name': 'Chainlink', 'supply': '587099970.4527867000000000', 'maxSupply': None, 'marketCapUsd': '10394317387.4193934179360812', 'volumeUsd24Hr': '166604527.3804004402640643', 'priceUsd': '17.7045101525095065', 'changePercent24Hr': '-0.0375752702763852', 'vwap24Hr': '17.7955563385640443', 'explorer': 'https://etherscan.io/token/0x514910771af9ca656af840dff83e8264ecf986ca'}, {'id': 'tron', 'rank': '14', 'symbol': 'TRX', 'name': 'TRON', 'supply': '87346473577.3712000000000000', 'maxSupply': None, 'marketCapUsd': '9998100962.1475458597460742', 'volumeUsd24Hr': '95703255.2636540454393472', 'priceUsd': '0.1144648496117163', 'changePercent24Hr': '0.2734571898445897', 'vwap24Hr': '0.1142672486926353', 'explorer': 'https://tronscan.org/#/'}, {'id': 'polkadot', 'rank': '15', 'symbol': 'DOT', 'name': 'Polkadot', 'supply': '1372229623.8595700000000000', 'maxSupply': None, 'marketCapUsd': '9889285868.3198736701726232', 'volumeUsd24Hr': '89716328.6587521193988804', 'priceUsd': '7.2067281571323332', 'changePercent24Hr': '1.9737752564722240', 'vwap24Hr': '7.1936192815128096', 'explorer': 'https://polkascan.io/polkadot'}, {'id': 'bitcoin-cash', 'rank': '16', 'symbol': 'BCH', 'name': 'Bitcoin Cash', 'supply': '19715293.7500000000000000', 'maxSupply': '21000000.0000000000000000', 'marketCapUsd': '9482359085.1858602025278494', 'volumeUsd24Hr': '105859786.0575290841056098', 'priceUsd': '480.9646361564285697', 'changePercent24Hr': '2.1780110632910812', 'vwap24Hr': '478.8177949500129976', 'explorer': 'https://blockchair.com/bitcoin-cash/blocks'}, {'id': 'near-protocol', 'rank': '17', 'symbol': 'NEAR', 'name': 'NEAR Protocol', 'supply': '1082557522.0000000000000000', 'maxSupply': None, 'marketCapUsd': '8185553918.3757329933326186', 'volumeUsd24Hr': '89039570.9275204175431183', 'priceUsd': '7.5613108329367213', 'changePercent24Hr': '4.5927970161893943', 'vwap24Hr': '7.4837130319585616', 'explorer': 'https://explorer.nearprotocol.com/'}, {'id': 'polygon', 'rank': '18', 'symbol': 'MATIC', 'name': 'Polygon', 'supply': '9897472464.0868050000000000', 'maxSupply': None, 'marketCapUsd': '7048692110.2345266069594374', 'volumeUsd24Hr': '75961238.9299962999260267', 'priceUsd': '0.7121709240223562', 'changePercent24Hr': '0.1802546502766937', 'vwap24Hr': '0.7144127761803483', 'explorer': 'https://etherscan.io/token/0x7D1AfA7B718fb893dB30A3aBc0Cfc608AaCfeBB0'}, {'id': 'uniswap', 'rank': '19', 'symbol': 'UNI', 'name': 'Uniswap', 'supply': '599957294.7100000000000000', 'maxSupply': None, 'marketCapUsd': '6563646566.9112458168962099', 'volumeUsd24Hr': '408278565.3188100085243658', 'priceUsd': '10.9401896181359055', 'changePercent24Hr': '13.8032294450571568', 'vwap24Hr': '11.1367487206101759', 'explorer': 'https://etherscan.io/token/0x1f9840a85d5af5bf1d1762f925bdaddc4201f984'}, {'id': 'litecoin', 'rank': '20', 'symbol': 'LTC', 'name': 'Litecoin', 'supply': '74608362.3575049000000000', 'maxSupply': '84000000.0000000000000000', 'marketCapUsd': '6290451439.4466088408156184', 'volumeUsd24Hr': '155300596.7324043632519128', 'priceUsd': '84.3129542142248690', 'changePercent24Hr': '2.2975348167007237', 'vwap24Hr': '83.5328884089872769', 'explorer': 'http://explorer.litecoin.net/chain/Litecoin'}, {'id': 'internet-computer', 'rank': '21', 'symbol': 'ICP', 'name': 'Internet Computer', 'supply': '464458198.5703910600000000', 'maxSupply': None, 'marketCapUsd': '5723701545.1790075753790346', 'volumeUsd24Hr': '37501410.8836797696197346', 'priceUsd': '12.3233943609923182', 'changePercent24Hr': '0.2371199677307785', 'vwap24Hr': '12.3453144197720001', 'explorer': 'https://www.dfinityexplorer.org/#/'}, {'id': 'unus-sed-leo', 'rank': '22', 'symbol': 'LEO', 'name': 'UNUS SED LEO', 'supply': '926270045.9000000000000000', 'maxSupply': None, 'marketCapUsd': '5516275150.1517378263847913', 'volumeUsd24Hr': '144848.7147745887483642', 'priceUsd': '5.9553638537365314', 'changePercent24Hr': '0.3858477487470721', 'vwap24Hr': '5.9433110395515361', 'explorer': 'https://eospark.com/account/bitfinexleo1'}, {'id': 'multi-collateral-dai', 'rank': '23', 'symbol': 'DAI', 'name': 'Multi Collateral DAI', 'supply': '5347888595.7464075000000000', 'maxSupply': None, 'marketCapUsd': '5350130204.3101191616252985', 'volumeUsd24Hr': '172096088.3976180522690595', 'priceUsd': '1.0004191576775729', 'changePercent24Hr': '-0.0398427827267903', 'vwap24Hr': '0.9999755026967374', 'explorer': 'https://etherscan.io/token/0x89d24a6b4ccb1b6faa2625fe562bdd9a23260359'}, {'id': 'ethereum-classic', 'rank': '24', 'symbol': 'ETC', 'name': 'Ethereum Classic', 'supply': '147393000.9971825200000000', 'maxSupply': '210700000.0000000000000000', 'marketCapUsd': '4343891840.7531753469069693', 'volumeUsd24Hr': '69031014.7564730056400407', 'priceUsd': '29.4714932959144423', 'changePercent24Hr': '2.1705104282428958', 'vwap24Hr': '29.5514755742659505', 'explorer': 'http://gastracker.io/'}, {'id': 'render-token', 'rank': '25', 'symbol': 'RNDR', 'name': 'Render Token', 'supply': '369614008.1087959400000000', 'maxSupply': '536870912.0000000000000000', 'marketCapUsd': '3887220314.0868062947757392', 'volumeUsd24Hr': '11450568.1192691605439780', 'priceUsd': '10.5169723787703479', 'changePercent24Hr': '2.4655517056698447', 'vwap24Hr': '10.4647984592281344', 'explorer': 'https://etherscan.io/token/0x6de037ef9ad2725eb40118bb1702ebb27e4aeb24'}, {'id': 'filecoin', 'rank': '26', 'symbol': 'FIL', 'name': 'Filecoin', 'supply': '559906937.0000000000000000', 'maxSupply': None, 'marketCapUsd': '3352862288.7505693278818953', 'volumeUsd24Hr': '102440699.0553738656249794', 'priceUsd': '5.9882492378381969', 'changePercent24Hr': '2.3532074761085855', 'vwap24Hr': '5.9776070479084395', 'explorer': 'https://protocol.ai'}, {'id': 'stacks', 'rank': '27', 'symbol': 'STX', 'name': 'Stacks', 'supply': '1462785929.2107330000000000', 'maxSupply': '1818000000.0000000000000000', 'marketCapUsd': '3240933624.1297215420192182', 'volumeUsd24Hr': '57054310.3191021894377563', 'priceUsd': '2.2155898271993999', 'changePercent24Hr': '9.7275170724995297', 'vwap24Hr': '2.1561787017020236', 'explorer': 'https://explorer.xinfin.network/'}, {'id': 'stellar', 'rank': '28', 'symbol': 'XLM', 'name': 'Stellar', 'supply': '29039752374.5250050000000000', 'maxSupply': '50001806812.0000000000000000', 'marketCapUsd': '3102506339.4461927213276060', 'volumeUsd24Hr': '31601790.3662976216478650', 'priceUsd': '0.1068365287497373', 'changePercent24Hr': '1.2269417770264477', 'vwap24Hr': '0.1064452133234477', 'explorer': 'https://dashboard.stellar.org/'}, {'id': 'monero', 'rank': '29', 'symbol': 'XMR', 'name': 'Monero', 'supply': '18445963.5855500300000000', 'maxSupply': None, 'marketCapUsd': '3028384573.3343617718858724', 'volumeUsd24Hr': '47133514.4245951772049796', 'priceUsd': '164.1760030203409970', 'changePercent24Hr': '4.2238216028910054', 'vwap24Hr': '160.0439247234104852', 'explorer': 'http://moneroblocks.info/'}, {'id': 'crypto-com-coin', 'rank': '30', 'symbol': 'CRO', 'name': 'Crypto.com Coin', 'supply': '25263013692.0000000000000000', 'maxSupply': '30263013692.0000000000000000', 'marketCapUsd': '2965287685.3242143901472716', 'volumeUsd24Hr': '7875946.7595006390519287', 'priceUsd': '0.1173766408662173', 'changePercent24Hr': '7.8869847954439125', 'vwap24Hr': '0.1124898832398032', 'explorer': 'https://etherscan.io/token/0xa0b73e1ff0b80914ab6fe0444e65848c4c34450b'}, {'id': 'okb', 'rank': '31', 'symbol': 'OKB', 'name': 'OKB', 'supply': '60000000.0000000000000000', 'maxSupply': None, 'marketCapUsd': '2933507510.4981027840000000', 'volumeUsd24Hr': '504089.3353146222088373', 'priceUsd': '48.8917918416350464', 'changePercent24Hr': '1.7567984996023678', 'vwap24Hr': '48.6900665326322413', 'explorer': 'https://etherscan.io/token/0x75231f58b43240c9718dd58b4967c5114342a86c'}, {'id': 'arweave', 'rank': '32', 'symbol': 'AR', 'name': 'Arweave', 'supply': '65652466.0000000000000000', 'maxSupply': '66000000.0000000000000000', 'marketCapUsd': '2909309305.3843785785015010', 'volumeUsd24Hr': '46100410.5647789893202945', 'priceUsd': '44.3137856449196985', 'changePercent24Hr': '-3.6898995112583934', 'vwap24Hr': '45.5411818793046236', 'explorer': 'https://viewblock.io/arweave'}, {'id': 'the-graph', 'rank': '33', 'symbol': 'GRT', 'name': 'The Graph', 'supply': '9509671264.7660220000000000', 'maxSupply': None, 'marketCapUsd': '2861413484.3546860056188018', 'volumeUsd24Hr': '25188820.9728437768988656', 'priceUsd': '0.3008950998081729', 'changePercent24Hr': '0.3620061252650904', 'vwap24Hr': '0.3003569692267089', 'explorer': 'https://etherscan.io/token/0xc944e90c64b2c07662a292be6244bdf05cda44a7'}, {'id': 'vechain', 'rank': '34', 'symbol': 'VET', 'name': 'VeChain', 'supply': '72714516834.0000000000000000', 'maxSupply': '86712634466.0000000000000000', 'marketCapUsd': '2558415427.5344636787969930', 'volumeUsd24Hr': '23855192.6407958156725050', 'priceUsd': '0.0351843832418645', 'changePercent24Hr': '3.0940593077852008', 'vwap24Hr': '0.0346040835982736', 'explorer': 'https://explore.veforge.com/'}, {'id': 'maker', 'rank': '35', 'symbol': 'MKR', 'name': 'Maker', 'supply': '927770.0324557000000000', 'maxSupply': '1005577.0000000000000000', 'marketCapUsd': '2474744315.5324453771978440', 'volumeUsd24Hr': '28814383.5693214469124653', 'priceUsd': '2667.4113508302087781', 'changePercent24Hr': '3.3719796123806907', 'vwap24Hr': '2636.2514814377809424', 'explorer': 'https://etherscan.io/token/Maker'}, {'id': 'fantom', 'rank': '36', 'symbol': 'FTM', 'name': 'Fantom', 'supply': '2803634835.5265927000000000', 'maxSupply': None, 'marketCapUsd': '2329371346.9473734119057635', 'volumeUsd24Hr': '73126982.8368450580598854', 'priceUsd': '0.8308397789292910', 'changePercent24Hr': '1.9846308232480172', 'vwap24Hr': '0.8360502194286011', 'explorer': 'https://etherscan.io/token/0x4e15361fd6b4bb609fa63c81a2be19d873717870'}, {'id': 'theta', 'rank': '37', 'symbol': 'THETA', 'name': 'THETA', 'supply': '1000000000.0000000000000000', 'maxSupply': '1000000000.0000000000000000', 'marketCapUsd': '2204332137.1133931000000000', 'volumeUsd24Hr': '11540988.8273377956818897', 'priceUsd': '2.2043321371133931', 'changePercent24Hr': '4.4692890974112829', 'vwap24Hr': '2.1730966088525054', 'explorer': 'https://explorer.thetatoken.org/'}, {'id': 'cosmos', 'rank': '38', 'symbol': 'ATOM', 'name': 'Cosmos', 'supply': '248453201.0000000000000000', 'maxSupply': None, 'marketCapUsd': '2141304066.4440304354383062', 'volumeUsd24Hr': '51034828.6200122708493635', 'priceUsd': '8.6185408673564662', 'changePercent24Hr': '2.1070172208001357', 'vwap24Hr': '8.5335454897201577', 'explorer': 'https://www.mintscan.io/'}, {'id': 'thorchain', 'rank': '39', 'symbol': 'RUNE', 'name': 'THORChain', 'supply': '334967874.0000000000000000', 'maxSupply': None, 'marketCapUsd': '2085106924.2443954008029792', 'volumeUsd24Hr': '53040353.4917617132676605', 'priceUsd': '6.2247967225788208', 'changePercent24Hr': '2.1160060902671284', 'vwap24Hr': '6.2207093780878485', 'explorer': 'https://explorer.binance.org/asset/RUNE-B1A'}, {'id': 'lido-dao', 'rank': '40', 'symbol': 'LDO', 'name': 'Lido DAO', 'supply': '892321246.9947464000000000', 'maxSupply': None, 'marketCapUsd': '2010792346.1777303191286027', 'volumeUsd24Hr': '4379936.7439547449748030', 'priceUsd': '2.2534399499618426', 'changePercent24Hr': '-2.1833789204707432', 'vwap24Hr': '2.3010887267040239', 'explorer': 'https://etherscan.io/token/0x5a98fcbea516cf06857215779fd812ca3bef1b32'}, {'id': 'injective-protocol', 'rank': '41', 'symbol': 'INJ', 'name': 'Injective', 'supply': '73005554.3300000000000000', 'maxSupply': '100000000.0000000000000000', 'marketCapUsd': '1913835430.7190920754530068', 'volumeUsd24Hr': '38351453.4729097759592556', 'priceUsd': '26.2149291007115085', 'changePercent24Hr': '4.7308282082649415', 'vwap24Hr': '25.9464413317193260', 'explorer': 'https://etherscan.io/token/0xe28b3b32b6c345a34ff64674606124dd5aceca30'}, {'id': 'fetch', 'rank': '42', 'symbol': 'FET', 'name': 'Fetch.ai', 'supply': '848193895.9129184000000000', 'maxSupply': None, 'marketCapUsd': '1833326663.3341733948901983', 'volumeUsd24Hr': '62873735.1007046425683626', 'priceUsd': '2.1614476031579408', 'changePercent24Hr': '1.9256743907496904', 'vwap24Hr': '2.1493099939419252', 'explorer': 'https://etherscan.io/token/0x1d287cc25dad7ccaf76a26bc660c5f7c8e2a05bd'}, {'id': 'algorand', 'rank': '43', 'symbol': 'ALGO', 'name': 'Algorand', 'supply': '8175360184.0828670000000000', 'maxSupply': '10000000000.0000000000000000', 'marketCapUsd': '1538492707.3145686544103272', 'volumeUsd24Hr': '27227939.4520075233077178', 'priceUsd': '0.1881865352318004', 'changePercent24Hr': '2.7358861470660286', 'vwap24Hr': '0.1864665179105806', 'explorer': 'https://algoexplorer.io/'}, {'id': 'aave', 'rank': '44', 'symbol': 'AAVE', 'name': 'Aave', 'supply': '14845425.2407286500000000', 'maxSupply': None, 'marketCapUsd': '1527721485.9332892427084237', 'volumeUsd24Hr': '26180342.6751795115484844', 'priceUsd': '102.9085702268711107', 'changePercent24Hr': '2.5500788315122489', 'vwap24Hr': '102.6699578548256920', 'explorer': 'https://etherscan.io/token/0x80fB784B7eD66730e8b1DBd9820aFD29931aab03'}, {'id': 'hedera-hashgraph', 'rank': '45', 'symbol': 'HBAR', 'name': 'Hedera Hashgraph', 'supply': '14832756028.0000000000000000', 'maxSupply': '50000000000.0000000000000000', 'marketCapUsd': '1522497055.9112400653883132', 'volumeUsd24Hr': '18843405.2947149277265094', 'priceUsd': '0.1026442458189969', 'changePercent24Hr': '1.6490260324170341', 'vwap24Hr': '0.1025009257460928', 'explorer': 'https://hash-hash.info/'}, {'id': 'gala', 'rank': '46', 'symbol': 'GALA', 'name': 'Gala', 'supply': '31570783817.9282500000000000', 'maxSupply': None, 'marketCapUsd': '1484111252.9742357121118988', 'volumeUsd24Hr': '76734812.2856920342762232', 'priceUsd': '0.0470090087573767', 'changePercent24Hr': '4.8199651303806596', 'vwap24Hr': '0.0465998590094336', 'explorer': 'https://ethplorer.io/es/address/0x15d4c048f83bd7e37d49ea4c83a07267ec4203da#chart=candlestick'}, {'id': 'flow', 'rank': '47', 'symbol': 'FLOW', 'name': 'Flow', 'supply': '1510362347.0000000000000000', 'maxSupply': None, 'marketCapUsd': '1406702353.6590604928207067', 'volumeUsd24Hr': '16265443.8663119037451548', 'priceUsd': '0.9313674671863761', 'changePercent24Hr': '5.4756752428908062', 'vwap24Hr': '0.9163454390437077', 'explorer': 'https://flowscan.org/'}, {'id': 'chiliz', 'rank': '48', 'symbol': 'CHZ', 'name': 'Chiliz', 'supply': '8888289967.1249620000000000', 'maxSupply': None, 'marketCapUsd': '1274646743.5302889950764638', 'volumeUsd24Hr': '41914743.3612239354192535', 'priceUsd': '0.1434074212525484', 'changePercent24Hr': '-1.4546595692268888', 'vwap24Hr': '0.1447867903611692', 'explorer': 'https://etherscan.io/token/0x3506424f91fd33084466f402d5d97f05f8e3b4af'}, {'id': 'axie-infinity', 'rank': '49', 'symbol': 'AXS', 'name': 'Axie Infinity', 'supply': '145582213.4503752600000000', 'maxSupply': None, 'marketCapUsd': '1252937575.5280947709024236', 'volumeUsd24Hr': '21977895.3115661820636449', 'priceUsd': '8.6063918512626869', 'changePercent24Hr': '6.8122669791036584', 'vwap24Hr': '8.2396619656706837', 'explorer': 'https://etherscan.io/token/0xf5d669627376ebd411e34b98f19c868c8aba5ada'}, {'id': 'bitcoin-sv', 'rank': '50', 'symbol': 'BSV', 'name': 'Bitcoin SV', 'supply': '19711175.0000000000000000', 'maxSupply': None, 'marketCapUsd': '1240646670.5481335823396775', 'volumeUsd24Hr': '6312554.0412397267738123', 'priceUsd': '62.9412843500264993', 'changePercent24Hr': '2.1173075533223180', 'vwap24Hr': '62.8917715865449157', 'explorer': 'https://bsvexplorer.io/'}, {'id': 'singularitynet', 'rank': '51', 'symbol': 'AGIX', 'name': 'SingularityNET', 'supply': '1284793189.6314576000000000', 'maxSupply': '2000000000.0000000000000000', 'marketCapUsd': '1170129716.0779375973659056', 'volumeUsd24Hr': '3026911.4460784929362091', 'priceUsd': '0.9107533613356005', 'changePercent24Hr': '2.7578944024472287', 'vwap24Hr': '0.9012597312128171', 'explorer': 'https://etherscan.io/token/0x8eb24319393716668d768dcec29356ae9cffe285'}, {'id': 'quant', 'rank': '52', 'symbol': 'QNT', 'name': 'Quant', 'supply': '12072738.0000000000000000', 'maxSupply': '14881364.0000000000000000', 'marketCapUsd': '1090867752.4481599709844408', 'volumeUsd24Hr': '8088166.7982825411677001', 'priceUsd': '90.3579413756978716', 'changePercent24Hr': '0.2444880921582659', 'vwap24Hr': '90.7387904104137042', 'explorer': 'https://etherscan.io/token/0x4a220e6096b25eadb88358cb44068a3248254675'}, {'id': 'akash-network', 'rank': '53', 'symbol': 'AKT', 'name': 'Akash Network', 'supply': '239325651.2756240000000000', 'maxSupply': '388539008.0000000000000000', 'marketCapUsd': '1078180029.9460426366308618', 'volumeUsd24Hr': '4881304.4242572696252088', 'priceUsd': '4.5050750899423473', 'changePercent24Hr': '3.4869435406317958', 'vwap24Hr': '4.4663838567263738', 'explorer': 'https://akash.bigdipper.live/'}, {'id': 'neo', 'rank': '54', 'symbol': 'NEO', 'name': 'Neo', 'supply': '70538831.0000000000000000', 'maxSupply': '100000000.0000000000000000', 'marketCapUsd': '1073883352.9838016164452803', 'volumeUsd24Hr': '11670343.4730078270917098', 'priceUsd': '15.2240026912808013', 'changePercent24Hr': '1.7880244842946834', 'vwap24Hr': '15.2000518436563347', 'explorer': 'https://neotracker.io'}, {'id': 'the-sandbox', 'rank': '55', 'symbol': 'SAND', 'name': 'The Sandbox', 'supply': '2265731926.2233224000000000', 'maxSupply': None, 'marketCapUsd': '1062769537.4869056797088768', 'volumeUsd24Hr': '25965022.8566876995302160', 'priceUsd': '0.4690623481032917', 'changePercent24Hr': '3.2848980840791416', 'vwap24Hr': '0.4628898526014886', 'explorer': 'https://etherscan.io/token/0x3845badAde8e6dFF049820680d1F14bD3903a5d0'}, {'id': 'mina', 'rank': '56', 'symbol': 'MINA', 'name': 'Mina', 'supply': '1115997009.8400393000000000', 'maxSupply': None, 'marketCapUsd': '967188861.5666065307144400', 'volumeUsd24Hr': '10017315.8682983246170351', 'priceUsd': '0.8666590080785592', 'changePercent24Hr': '3.2013270338695461', 'vwap24Hr': '0.8585390353088704', 'explorer': 'https://minaexplorer.com/'}, {'id': 'kucoin-token', 'rank': '57', 'symbol': 'KCS', 'name': 'KuCoin Token', 'supply': '95642961.2885607500000000', 'maxSupply': '170118638.0000000000000000', 'marketCapUsd': '966752405.7503958432215511', 'volumeUsd24Hr': '692571.8058025120759077', 'priceUsd': '10.1079305024197634', 'changePercent24Hr': '0.3096849147270277', 'vwap24Hr': '10.0887011384645296', 'explorer': 'https://etherscan.io/token/0xf34960d9d60be18cc1d5afc1a6f012a723a28811'}, {'id': 'elrond-egld', 'rank': '58', 'symbol': 'EGLD', 'name': 'MultiversX', 'supply': '24184559.1898415400000000', 'maxSupply': '31415926.0000000000000000', 'marketCapUsd': '958002171.7249063439812352', 'volumeUsd24Hr': '16399454.8362456020474693', 'priceUsd': '39.6121411271082706', 'changePercent24Hr': '1.2859400623309388', 'vwap24Hr': '39.4494363286679052', 'explorer': 'https://explorer.elrond.com/'}, {'id': 'pendle', 'rank': '59', 'symbol': 'PENDLE', 'name': 'Pendle', 'supply': '154274800.2480423500000000', 'maxSupply': None, 'marketCapUsd': '937516639.1820606016356860', 'volumeUsd24Hr': '2635227.0960385290436847', 'priceUsd': '6.0769266119594739', 'changePercent24Hr': '-0.1999633271937407', 'vwap24Hr': '6.1355737549334404', 'explorer': 'https://etherscan.io/token/0x808507121b80c02388fad14726482e061b8da827'}, {'id': 'tezos', 'rank': '60', 'symbol': 'XTZ', 'name': 'Tezos', 'supply': '984330137.3620110000000000', 'maxSupply': None, 'marketCapUsd': '931852513.8204960351875599', 'volumeUsd24Hr': '19040840.8741583727909303', 'priceUsd': '0.9466869685793080', 'changePercent24Hr': '1.2531608550349168', 'vwap24Hr': '0.9484808505871234', 'explorer': 'https://tzkt.io/'}, {'id': 'ecash', 'rank': '61', 'symbol': 'XEC', 'name': 'eCash', 'supply': '19711432798092.0000000000000000', 'maxSupply': '21000000000000.0000000000000000', 'marketCapUsd': '926122901.1133386314064996', 'volumeUsd24Hr': '5020014.2024573375344316', 'priceUsd': '0.0000469840478163', 'changePercent24Hr': '2.6988191429781288', 'vwap24Hr': '0.0000468362689140', 'explorer': 'https://explorer.bitcoinabc.org/'}, {'id': 'eos', 'rank': '62', 'symbol': 'EOS', 'name': 'EOS', 'supply': '1127540931.1325000000000000', 'maxSupply': None, 'marketCapUsd': '910114553.3816860093873293', 'volumeUsd24Hr': '57273662.5564589360936456', 'priceUsd': '0.8071676408833945', 'changePercent24Hr': '1.0400736217169510', 'vwap24Hr': '0.8081352233649663', 'explorer': 'https://bloks.io/'}, {'id': 'conflux-network', 'rank': '63', 'symbol': 'CFX', 'name': 'Conflux', 'supply': '4044948533.4600000000000000', 'maxSupply': None, 'marketCapUsd': '906659582.9248453820377638', 'volumeUsd24Hr': '14128026.4246167903004830', 'priceUsd': '0.2241461357109777', 'changePercent24Hr': '2.8682012474861948', 'vwap24Hr': '0.2257340256140095', 'explorer': 'http://www.confluxscan.io/'}, {'id': 'decentraland', 'rank': '64', 'symbol': 'MANA', 'name': 'Decentraland', 'supply': '1908319865.3915880000000000', 'maxSupply': None, 'marketCapUsd': '895842053.0326386772942917', 'volumeUsd24Hr': '14117427.7321589240095563', 'priceUsd': '0.4694401967297089', 'changePercent24Hr': '2.1614400996481136', 'vwap24Hr': '0.4664664629813326', 'explorer': 'https://etherscan.io/token/decentraland'}, {'id': 'gnosis-gno', 'rank': '65', 'symbol': 'GNO', 'name': 'Gnosis', 'supply': '2589588.0000000000000000', 'maxSupply': '3000000.0000000000000000', 'marketCapUsd': '863581163.4308545176879900', 'volumeUsd24Hr': '9857492.9690587193399739', 'priceUsd': '333.4820687425391675', 'changePercent24Hr': '1.5823155065022382', 'vwap24Hr': '330.6765093457733915', 'explorer': 'https://etherscan.io/token/Gnosis'}, {'id': 'gatetoken', 'rank': '66', 'symbol': 'GT', 'name': 'GateToken', 'supply': '93240300.3813759800000000', 'maxSupply': None, 'marketCapUsd': '841235070.4446134665174387', 'volumeUsd24Hr': '6996611.9981356320184938', 'priceUsd': '9.0222260868289050', 'changePercent24Hr': '6.8248834660024676', 'vwap24Hr': '8.8422828504960781', 'explorer': None}, {'id': 'pancakeswap', 'rank': '67', 'symbol': 'CAKE', 'name': 'PancakeSwap', 'supply': '266320791.5881531500000000', 'maxSupply': '450000000.0000000000000000', 'marketCapUsd': '828835437.0992910255217096', 'volumeUsd24Hr': '78840661.9217885363892743', 'priceUsd': '3.1121694710979540', 'changePercent24Hr': '11.4960855167880049', 'vwap24Hr': '3.0738832409256645', 'explorer': 'https://bscscan.com/token/0x0e09fabb73bd3ade0a17ecc321fd13a19e81ce82'}, {'id': 'aioz-network', 'rank': '68', 'symbol': 'AIOZ', 'name': 'AIOZ Network', 'supply': '1098367146.0383960000000000', 'maxSupply': None, 'marketCapUsd': '827860485.1538660264268090', 'volumeUsd24Hr': '2653506.6584350132320022', 'priceUsd': '0.7537192715020686', 'changePercent24Hr': '5.0067889965684345', 'vwap24Hr': '0.7538951159588693', 'explorer': 'https://etherscan.io/token/0x626e8036deb333b408be468f951bdb42433cbf18'}, {'id': 'nexo', 'rank': '69', 'symbol': 'NEXO', 'name': 'Nexo', 'supply': '560000011.0000000000000000', 'maxSupply': None, 'marketCapUsd': '823716755.7414783293832303', 'volumeUsd24Hr': '604436.7667553187642770', 'priceUsd': '1.4709227492166573', 'changePercent24Hr': '5.2505229057731306', 'vwap24Hr': '1.4601136682870505', 'explorer': 'https://etherscan.io/token/0xb62132e35a6c13ee1ee0f84dc5d40bad8d815206'}, {'id': 'klaytn', 'rank': '70', 'symbol': 'KLAY', 'name': 'Klaytn', 'supply': '3692764216.8640532000000000', 'maxSupply': None, 'marketCapUsd': '789292550.0923869872184228', 'volumeUsd24Hr': '3739092.3322232498859141', 'priceUsd': '0.2137403050234995', 'changePercent24Hr': '-1.6617309138451906', 'vwap24Hr': '0.2167666764543592', 'explorer': 'https://scope.klaytn.com/blocks'}, {'id': 'dexe', 'rank': '71', 'symbol': 'DEXE', 'name': 'DeXe', 'supply': '57103082.8341114900000000', 'maxSupply': '98942301.0000000000000000', 'marketCapUsd': '783018498.6997642990970806', 'volumeUsd24Hr': '2358107.4202212012149315', 'priceUsd': '13.7123682266768089', 'changePercent24Hr': '4.4369383869052477', 'vwap24Hr': '13.3798916131940226', 'explorer': 'https://etherscan.io/token/0xde4EE8057785A7e8e800Db58F9784845A5C2Cbd6'}, {'id': 'oasis-network', 'rank': '72', 'symbol': 'ROSE', 'name': 'Oasis', 'supply': '6713599876.0000000000000000', 'maxSupply': None, 'marketCapUsd': '776512066.4869298611759608', 'volumeUsd24Hr': '16255113.9081609152481832', 'priceUsd': '0.1156625477879358', 'changePercent24Hr': '2.1660048029273009', 'vwap24Hr': '0.1154564361998507', 'explorer': 'https://www.oasisscan.com/'}, {'id': 'nervos-network', 'rank': '73', 'symbol': 'CKB', 'name': 'Nervos Network', 'supply': '44295742424.4981900000000000', 'maxSupply': None, 'marketCapUsd': '776328132.3674673902775014', 'volumeUsd24Hr': '114399124.1115930665279786', 'priceUsd': '0.0175260214611080', 'changePercent24Hr': '10.7473459310647941', 'vwap24Hr': '0.0181777002543673', 'explorer': 'https://explorer.nervos.org/'}, {'id': 'iota', 'rank': '74', 'symbol': 'IOTA', 'name': 'IOTA', 'supply': '3286918475.0000000000000000', 'maxSupply': None, 'marketCapUsd': '757315820.4012555658734675', 'volumeUsd24Hr': '13727837.3057415653997695', 'priceUsd': '0.2304029826603033', 'changePercent24Hr': '2.3410071781132836', 'vwap24Hr': '0.2331296130035518', 'explorer': 'https://thetangle.org/'}, {'id': 'kava', 'rank': '75', 'symbol': 'KAVA', 'name': 'Kava', 'supply': '1082856238.0000000000000000', 'maxSupply': '1082860679.0000000000000000', 'marketCapUsd': '749459939.8252044146509278', 'volumeUsd24Hr': '6445013.7014724893882194', 'priceUsd': '0.6921139792383081', 'changePercent24Hr': '5.1664227999816638', 'vwap24Hr': '0.6793393517256424', 'explorer': 'https://www.mintscan.io/kava'}, {'id': 'livepeer', 'rank': '76', 'symbol': 'LPT', 'name': 'Livepeer', 'supply': '32615411.2951117200000000', 'maxSupply': None, 'marketCapUsd': '701984100.2148354373119283', 'volumeUsd24Hr': '18867444.2872182919708508', 'priceUsd': '21.5230798061420209', 'changePercent24Hr': '-0.9597590662267922', 'vwap24Hr': '21.6477427605184285', 'explorer': 'https://explorer.livepeer.org/'}, {'id': 'synthetix-network-token', 'rank': '77', 'symbol': 'SNX', 'name': 'Synthetix', 'supply': '233716733.4900000000000000', 'maxSupply': '212424133.0000000000000000', 'marketCapUsd': '651822206.7089356499498574', 'volumeUsd24Hr': '12691181.9325788877859846', 'priceUsd': '2.7889411124977282', 'changePercent24Hr': '4.9863188821372544', 'vwap24Hr': '2.7483641188550765', 'explorer': 'https://etherscan.io/token/0xc011a72400e58ecd99ee497cf89e3775d4bd732f'}, {'id': 'helium', 'rank': '78', 'symbol': 'HNT', 'name': 'Helium', 'supply': '160875441.8242133300000000', 'maxSupply': None, 'marketCapUsd': '647074271.9421316130446482', 'volumeUsd24Hr': '7307252.5002571779393573', 'priceUsd': '4.0222066500938156', 'changePercent24Hr': '-1.0042987985401937', 'vwap24Hr': '4.0688100352950609', 'explorer': 'https://explorer.helium.com/'}, {'id': 'theta-fuel', 'rank': '79', 'symbol': 'TFUEL', 'name': 'Theta Fuel', 'supply': '6570829972.0000000000000000', 'maxSupply': None, 'marketCapUsd': '624499097.3488713727521044', 'volumeUsd24Hr': '1811399.7740750848772446', 'priceUsd': '0.0950411287478177', 'changePercent24Hr': '4.4358617587466861', 'vwap24Hr': '0.0937015122349277', 'explorer': 'https://explorer.thetatoken.org/'}, {'id': 'wootrade', 'rank': '80', 'symbol': 'WOO', 'name': 'WOO', 'supply': '1874845632.7667956000000000', 'maxSupply': None, 'marketCapUsd': '614169108.6527767935997157', 'volumeUsd24Hr': '12190886.4492531429271385', 'priceUsd': '0.3275838276596774', 'changePercent24Hr': '2.5895227707651053', 'vwap24Hr': '0.3278764724778403', 'explorer': 'https://etherscan.io/token/0x4691937a7508860f876c9c0a2a617e7d9e945d4b'}, {'id': 'iotex', 'rank': '81', 'symbol': 'IOTX', 'name': 'IoTeX', 'supply': '9441378955.0000000000000000', 'maxSupply': '10000000000.0000000000000000', 'marketCapUsd': '578380681.1747486949813855', 'volumeUsd24Hr': '8590511.1605015597310018', 'priceUsd': '0.0612601913270781', 'changePercent24Hr': '3.9463505728956676', 'vwap24Hr': '0.0614515543272422', 'explorer': 'https://etherscan.io/token/0x6fb3e0a217407efff7ca062d46c26e5d60a14d69'}, {'id': 'trust-wallet-token', 'rank': '82', 'symbol': 'TWT', 'name': 'Trust Wallet Token', 'supply': '416649900.0000000000000000', 'maxSupply': None, 'marketCapUsd': '577653143.3054373809655900', 'volumeUsd24Hr': '16688878.5986788598694854', 'priceUsd': '1.3864233336079941', 'changePercent24Hr': '9.0137825397956308', 'vwap24Hr': '1.3589212280694793', 'explorer': 'https://explorer.binance.org/asset/TWT-8C2'}, {'id': '1inch', 'rank': '83', 'symbol': '1INCH', 'name': '1inch Network', 'supply': '1186234881.6612947000000000', 'maxSupply': None, 'marketCapUsd': '574607712.5574722546707656', 'volumeUsd24Hr': '10849886.2563574847538912', 'priceUsd': '0.4843962367324314', 'changePercent24Hr': '3.0974508335202793', 'vwap24Hr': '0.4794651254212682', 'explorer': 'https://etherscan.io/token/0x111111111117dc0aa78b770fa6a738034120c302'}, {'id': 'curve-dao-token', 'rank': '84', 'symbol': 'CRV', 'name': 'Curve DAO Token', 'supply': '1232452359.0000000000000000', 'maxSupply': None, 'marketCapUsd': '568367824.0647606755081076', 'volumeUsd24Hr': '4727379.2288059147993589', 'priceUsd': '0.4611681903273964', 'changePercent24Hr': '-0.9145820863202304', 'vwap24Hr': '0.4660058474573448', 'explorer': 'https://etherscan.io/token/0xD533a949740bb3306d119CC777fa900bA034cd52'}, {'id': 'superfarm', 'rank': '85', 'symbol': 'SUPER', 'name': 'SuperVerse', 'supply': '487776093.4169172600000000', 'maxSupply': '1000000000.0000000000000000', 'marketCapUsd': '542283563.2441645808921424', 'volumeUsd24Hr': '6416182.5063211141343153', 'priceUsd': '1.1117469071627053', 'changePercent24Hr': '7.7363633741660712', 'vwap24Hr': '1.0895064133611276', 'explorer': 'https://etherscan.io/token/0xe53ec727dbdeb9e2d5456c3be40cff031ab40a55'}, {'id': 'nxm', 'rank': '86', 'symbol': 'NXM', 'name': 'NXM', 'supply': '6594067.8412913900000000', 'maxSupply': None, 'marketCapUsd': '530211434.2802097295216330', 'volumeUsd24Hr': '7709527.1801581454866071', 'priceUsd': '80.4073368733149853', 'changePercent24Hr': '-0.0482729935997484', 'vwap24Hr': '79.9960363952998903', 'explorer': 'https://etherscan.io/token/0xd7c49cee7e9188cca6ad8ff264c1da2e69d4cf3b'}, {'id': 'ftx-token', 'rank': '87', 'symbol': 'FTT', 'name': 'FTX Token', 'supply': '328895103.8132070000000000', 'maxSupply': None, 'marketCapUsd': '526060775.5041539024069385', 'volumeUsd24Hr': '12865760.3605948689473492', 'priceUsd': '1.5994788897889017', 'changePercent24Hr': '2.0094088330302587', 'vwap24Hr': '1.6087314627916099', 'explorer': 'https://etherscan.io/token/0x50d1c9771902476076ecfc8b2a83ad6b9355a4c9'}, {'id': 'ocean-protocol', 'rank': '88', 'symbol': 'OCEAN', 'name': 'Ocean Protocol', 'supply': '568381102.7486407000000000', 'maxSupply': '1410000000.0000000000000000', 'marketCapUsd': '520105659.1196156320050009', 'volumeUsd24Hr': '6296696.6015168704456997', 'priceUsd': '0.9150650093826672', 'changePercent24Hr': '1.7388216676272276', 'vwap24Hr': '0.9086355545492214', 'explorer': 'https://etherscan.io/token/0x7AFeBBB46fDb47ed17b22ed075Cde2447694fB9e'}, {'id': 'golem-network-tokens', 'rank': '89', 'symbol': 'GLM', 'name': 'Golem', 'supply': '1000000000.0000000000000000', 'maxSupply': None, 'marketCapUsd': '510611799.5884110000000000', 'volumeUsd24Hr': '690578.1561996316982276', 'priceUsd': '0.5106117995884110', 'changePercent24Hr': '9.4310456622049930', 'vwap24Hr': '0.4938278149497876', 'explorer': 'https://etherscan.io/token/Golem'}, {'id': 'trueusd', 'rank': '90', 'symbol': 'TUSD', 'name': 'TrueUSD', 'supply': '498201479.0100000000000000', 'maxSupply': None, 'marketCapUsd': '498085789.2891871949709162', 'volumeUsd24Hr': '8009033.5061974074077997', 'priceUsd': '0.9997677852722503', 'changePercent24Hr': '0.0141933898813762', 'vwap24Hr': '1.0002020656020722', 'explorer': 'https://etherscan.io/token/0x8dd5fbce2f6a956c3022ba3663759011dd51e73e'}, {'id': 'compound', 'rank': '91', 'symbol': 'COMP', 'name': 'Compound', 'supply': '8324365.2581172300000000', 'maxSupply': None, 'marketCapUsd': '496108029.7915666906031908', 'volumeUsd24Hr': '19212578.0061586168440531', 'priceUsd': '59.5971001281813435', 'changePercent24Hr': '1.1306567247982675', 'vwap24Hr': '59.8337282737747337', 'explorer': 'https://etherscan.io/token/0xc00e94cb662c3520282e6f5717214004a7f26888'}, {'id': 'wemix', 'rank': '92', 'symbol': 'WEMIX', 'name': 'WEMIX', 'supply': '361826511.2253543000000000', 'maxSupply': '980000000.0000000000000000', 'marketCapUsd': '491500579.8499915877746147', 'volumeUsd24Hr': '1382956.1228135346783663', 'priceUsd': '1.3583874166254035', 'changePercent24Hr': '-0.1767301730469707', 'vwap24Hr': '1.3728385303230744', 'explorer': 'https://scope.klaytn.com/token/0x5096db80b21ef45230c9e423c373f1fc9c0198dd?tabId=kctTransfer'}, {'id': 'xinfin-network', 'rank': '93', 'symbol': 'XDC', 'name': 'XinFin Network', 'supply': '12293293518.5500000000000000', 'maxSupply': None, 'marketCapUsd': '481387944.4007381814091857', 'volumeUsd24Hr': '1304769.2377476369449291', 'priceUsd': '0.0391585821711933', 'changePercent24Hr': '1.7741026343152175', 'vwap24Hr': '0.0365635208886023', 'explorer': 'https://etherscan.io/token/0x41ab1b6fcbb2fa9dced81acbdec13ea6315f2bf2'}, {'id': 'raydium', 'rank': '94', 'symbol': 'RAY', 'name': 'Raydium', 'supply': '262842336.7973760000000000', 'maxSupply': None, 'marketCapUsd': '478632539.9988324236762683', 'volumeUsd24Hr': '9528663.4241843406020920', 'priceUsd': '1.8209872345177335', 'changePercent24Hr': '3.2974399216397459', 'vwap24Hr': '1.8018727965626724', 'explorer': 'https://explorer.solana.com/address/4k3Dyjzvzp8eMZWUXbBCjEvwSkkk59S5iCNLY3QrkX6R'}, {'id': 'mantra-dao', 'rank': '95', 'symbol': 'OM', 'name': 'MANTRA DAO', 'supply': '500205033.1781248500000000', 'maxSupply': '888888888.0000000000000000', 'marketCapUsd': '465323927.8688498024461741', 'volumeUsd24Hr': '34073038.9372056675948335', 'priceUsd': '0.9302663847909468', 'changePercent24Hr': '3.5255063470718753', 'vwap24Hr': '0.9440208644170255', 'explorer': 'https://etherscan.io/token/0x3593d125a4f7849a1b059e64f4517a86dd60c95d'}, {'id': '0x', 'rank': '96', 'symbol': 'ZRX', 'name': '0x Protocol', 'supply': '847496054.8027713000000000', 'maxSupply': '1000000000.0000000000000000', 'marketCapUsd': '460724060.4979189709049094', 'volumeUsd24Hr': '12221031.7819973339926485', 'priceUsd': '0.5436297406778352', 'changePercent24Hr': '6.7361995286768965', 'vwap24Hr': '0.5272977685472120', 'explorer': 'https://etherscan.io/token/ZRX'}, {'id': 'celo', 'rank': '97', 'symbol': 'CELO', 'name': 'Celo', 'supply': '539537130.0000000000000000', 'maxSupply': '1000000000.0000000000000000', 'marketCapUsd': '446939721.4432512904407360', 'volumeUsd24Hr': '2977820.4742598390471929', 'priceUsd': '0.8283762072931872', 'changePercent24Hr': '0.5534061798321151', 'vwap24Hr': '0.8316009625159600', 'explorer': 'https://explorer.celo.org/blocks'}, {'id': 'enjin-coin', 'rank': '98', 'symbol': 'ENJ', 'name': 'Enjin Coin', 'supply': '1467617220.1923869000000000', 'maxSupply': None, 'marketCapUsd': '445086896.4118293859290992', 'volumeUsd24Hr': '13818321.3289514155195874', 'priceUsd': '0.3032717865994267', 'changePercent24Hr': '1.4740565224043610', 'vwap24Hr': '0.2981143003721081', 'explorer': 'https://etherscan.io/token/0xf629cbd94d3791c9250152bd8dfbdf380e2a3b9c'}, {'id': 'holo', 'rank': '99', 'symbol': 'HOT', 'name': 'Holo', 'supply': '173416737599.1556700000000000', 'maxSupply': None, 'marketCapUsd': '444053237.1692212922727550', 'volumeUsd24Hr': '3202658.8576555974627490', 'priceUsd': '0.0025606134870074', 'changePercent24Hr': '2.4754652991204420', 'vwap24Hr': '0.0025563408764025', 'explorer': 'https://etherscan.io/token/0x6c6ee5e31d828de241282b9606c8e98ea48526e2'}, {'id': 'zilliqa', 'rank': '100', 'symbol': 'ZIL', 'name': 'Zilliqa', 'supply': '18466564812.1682550000000000', 'maxSupply': '21000000000.0000000000000000', 'marketCapUsd': '437327391.6637672108350723', 'volumeUsd24Hr': '6509028.9296426854756485', 'priceUsd': '0.0236821193390336', 'changePercent24Hr': '1.8923321277049241', 'vwap24Hr': '0.0235790349511436', 'explorer': 'https://etherscan.io/token/0x05f4a42e251f2d52b8ed15e9fedaacfcef1fad27'}]\n",
      "timestamp : 1717598604041\n"
     ]
    }
   ],
   "source": [
    "# Quick visualization\n",
    "print(\"Printing JSON names:\")\n",
    "for key, value in raw_data_json.items():\n",
    "    print(key, \":\", raw_data_json[key])"
   ]
  },
  {
   "cell_type": "markdown",
   "metadata": {},
   "source": [
    "## [T] Transformation\n",
    "* Exploring JSON Structure\n",
    "* Data Normalization\n",
    "    * Transforming the JSON into a table (as a Dataframe)\n",
    "* Data Exploration & Cleaning\n",
    "    * Check for: Missing Data, Data Types, Rounding needs."
   ]
  },
  {
   "cell_type": "markdown",
   "metadata": {},
   "source": [
    "### Exploring JSON Structure\n",
    "* Exploring the JSON name-value pairs\n"
   ]
  },
  {
   "cell_type": "code",
   "execution_count": 4,
   "metadata": {},
   "outputs": [
    {
     "name": "stdout",
     "output_type": "stream",
     "text": [
      "This is the Json's type from the API request: <class 'dict'>\n",
      "It's a dict, so let's check how many keys it has: 2\n",
      "Let's print both keys: ['data', 'timestamp']\n",
      "-> data : [{'id': 'bitcoin', 'rank': '1', 'symbol': 'BTC', 'name': 'Bitcoin', 'supply': '19707950.0000000000000000', 'maxSupply': '21000000.0000000000000000', 'marketCapUsd': '1397983178503.6699137374477800', 'volumeUsd24Hr': '10219566110.0425448570490033', 'priceUsd': '70934.9870739305667884', 'changePercent24Hr': '1.9758934324479065', 'vwap24Hr': '70672.9205297634327363', 'explorer': 'https://blockchain.info/'}, {'id': 'ethereum', 'rank': '2', 'symbol': 'ETH', 'name': 'Ethereum', 'supply': '120148357.7907781000000000', 'maxSupply': None, 'marketCapUsd': '456760101948.6325321128685489', 'volumeUsd24Hr': '5057888039.6298236783693074', 'priceUsd': '3801.6341658536661433', 'changePercent24Hr': '0.6011630154207898', 'vwap24Hr': '3805.9410678215918472', 'explorer': 'https://etherscan.io/'}, {'id': 'binance-coin', 'rank': '3', 'symbol': 'BNB', 'name': 'BNB', 'supply': '166801148.0000000000000000', 'maxSupply': '166801148.0000000000000000', 'marketCapUsd': '117057469991.6590236522724376', 'volumeUsd24Hr': '987590875.2955303843850514', 'priceUsd': '701.7785632486115962', 'changePercent24Hr': '5.6462764551551897', 'vwap24Hr': '687.2213157272743816', 'explorer': 'https://etherscan.io/token/0xB8c77482e45F1F44dE1745F52C74426C631bDD52'}, {'id': 'tether', 'rank': '4', 'symbol': 'USDT', 'name': 'Tether', 'supply': '112316773848.0826100000000000', 'maxSupply': None, 'marketCapUsd': '112343743800.8871265920943768', 'volumeUsd24Hr': '17155501015.6674041696246270', 'priceUsd': '1.0002401239982284', 'changePercent24Hr': '0.0324394856643047', 'vwap24Hr': '0.9994418187866353', 'explorer': 'https://www.omniexplorer.info/asset/31'}, {'id': 'solana', 'rank': '5', 'symbol': 'SOL', 'name': 'Solana', 'supply': '459924921.2833028400000000', 'maxSupply': None, 'marketCapUsd': '79438989442.0515292703817045', 'volumeUsd24Hr': '763555787.0779496281191389', 'priceUsd': '172.7216460034332352', 'changePercent24Hr': '3.7544411836496214', 'vwap24Hr': '171.4056131004012586', 'explorer': 'https://explorer.solana.com/'}, {'id': 'usd-coin', 'rank': '6', 'symbol': 'USDC', 'name': 'USDC', 'supply': '32378750476.2465700000000000', 'maxSupply': None, 'marketCapUsd': '32397425167.1002329485385717', 'volumeUsd24Hr': '1688902714.0027115932795351', 'priceUsd': '1.0005767576135269', 'changePercent24Hr': '0.0014622045042735', 'vwap24Hr': '0.9998310049393876', 'explorer': 'https://etherscan.io/token/0xa0b86991c6218b36c1d19d4a2e9eb0ce3606eb48'}, {'id': 'xrp', 'rank': '7', 'symbol': 'XRP', 'name': 'XRP', 'supply': '45404028640.0000000000000000', 'maxSupply': '100000000000.0000000000000000', 'marketCapUsd': '23966175189.3056206346013120', 'volumeUsd24Hr': '532372305.0303436577768592', 'priceUsd': '0.5278424824221858', 'changePercent24Hr': '0.2410792230147329', 'vwap24Hr': '0.5268738129407885', 'explorer': 'https://xrpcharts.ripple.com/#/graph/'}, {'id': 'dogecoin', 'rank': '8', 'symbol': 'DOGE', 'name': 'Dogecoin', 'supply': '144584496383.7052000000000000', 'maxSupply': None, 'marketCapUsd': '23500918561.1003226533906111', 'volumeUsd24Hr': '335819571.2816724854979854', 'priceUsd': '0.1625410687099706', 'changePercent24Hr': '1.9665118819301862', 'vwap24Hr': '0.1619269467023239', 'explorer': 'http://dogechain.info/chain/Dogecoin'}, {'id': 'cardano', 'rank': '9', 'symbol': 'ADA', 'name': 'Cardano', 'supply': '35707269939.5540000000000000', 'maxSupply': '45000000000.0000000000000000', 'marketCapUsd': '16448206484.9707806620008191', 'volumeUsd24Hr': '96294287.7461145526926915', 'priceUsd': '0.4606402705335536', 'changePercent24Hr': '0.7021655383058966', 'vwap24Hr': '0.4613701556114404', 'explorer': 'https://cardanoexplorer.com/'}, {'id': 'shiba-inu', 'rank': '10', 'symbol': 'SHIB', 'name': 'Shiba Inu', 'supply': '589271803029900.4000000000000000', 'maxSupply': None, 'marketCapUsd': '15123317501.4566970763392508', 'volumeUsd24Hr': '364231332.3630366449088856', 'priceUsd': '0.0000256644173770', 'changePercent24Hr': '6.4575000324297982', 'vwap24Hr': '0.0000253686487936', 'explorer': 'https://etherscan.io/token/0x95ad61b0a150d79219dcf64e1e6cc01f0b64c4ce'}, {'id': 'avalanche', 'rank': '11', 'symbol': 'AVAX', 'name': 'Avalanche', 'supply': '393232626.0171106500000000', 'maxSupply': '715748719.0000000000000000', 'marketCapUsd': '14191740457.0621249975821359', 'volumeUsd24Hr': '121072539.6815815238867665', 'priceUsd': '36.0899363839779732', 'changePercent24Hr': '2.7332642912045572', 'vwap24Hr': '36.0344457079989345', 'explorer': 'https://avascan.info/'}, {'id': 'wrapped-bitcoin', 'rank': '12', 'symbol': 'WBTC', 'name': 'Wrapped Bitcoin', 'supply': '153235.7378324500000000', 'maxSupply': None, 'marketCapUsd': '10850902068.6386099421712348', 'volumeUsd24Hr': '106799777.3405917625824922', 'priceUsd': '70811.8238090329229946', 'changePercent24Hr': '1.8830223060741656', 'vwap24Hr': '70759.1150178823152891', 'explorer': 'https://etherscan.io/token/0x2260fac5e5542a773aa44fbcfedf7c193bc2c599'}, {'id': 'chainlink', 'rank': '13', 'symbol': 'LINK', 'name': 'Chainlink', 'supply': '587099970.4527867000000000', 'maxSupply': None, 'marketCapUsd': '10394317387.4193934179360812', 'volumeUsd24Hr': '166604527.3804004402640643', 'priceUsd': '17.7045101525095065', 'changePercent24Hr': '-0.0375752702763852', 'vwap24Hr': '17.7955563385640443', 'explorer': 'https://etherscan.io/token/0x514910771af9ca656af840dff83e8264ecf986ca'}, {'id': 'tron', 'rank': '14', 'symbol': 'TRX', 'name': 'TRON', 'supply': '87346473577.3712000000000000', 'maxSupply': None, 'marketCapUsd': '9998100962.1475458597460742', 'volumeUsd24Hr': '95703255.2636540454393472', 'priceUsd': '0.1144648496117163', 'changePercent24Hr': '0.2734571898445897', 'vwap24Hr': '0.1142672486926353', 'explorer': 'https://tronscan.org/#/'}, {'id': 'polkadot', 'rank': '15', 'symbol': 'DOT', 'name': 'Polkadot', 'supply': '1372229623.8595700000000000', 'maxSupply': None, 'marketCapUsd': '9889285868.3198736701726232', 'volumeUsd24Hr': '89716328.6587521193988804', 'priceUsd': '7.2067281571323332', 'changePercent24Hr': '1.9737752564722240', 'vwap24Hr': '7.1936192815128096', 'explorer': 'https://polkascan.io/polkadot'}, {'id': 'bitcoin-cash', 'rank': '16', 'symbol': 'BCH', 'name': 'Bitcoin Cash', 'supply': '19715293.7500000000000000', 'maxSupply': '21000000.0000000000000000', 'marketCapUsd': '9482359085.1858602025278494', 'volumeUsd24Hr': '105859786.0575290841056098', 'priceUsd': '480.9646361564285697', 'changePercent24Hr': '2.1780110632910812', 'vwap24Hr': '478.8177949500129976', 'explorer': 'https://blockchair.com/bitcoin-cash/blocks'}, {'id': 'near-protocol', 'rank': '17', 'symbol': 'NEAR', 'name': 'NEAR Protocol', 'supply': '1082557522.0000000000000000', 'maxSupply': None, 'marketCapUsd': '8185553918.3757329933326186', 'volumeUsd24Hr': '89039570.9275204175431183', 'priceUsd': '7.5613108329367213', 'changePercent24Hr': '4.5927970161893943', 'vwap24Hr': '7.4837130319585616', 'explorer': 'https://explorer.nearprotocol.com/'}, {'id': 'polygon', 'rank': '18', 'symbol': 'MATIC', 'name': 'Polygon', 'supply': '9897472464.0868050000000000', 'maxSupply': None, 'marketCapUsd': '7048692110.2345266069594374', 'volumeUsd24Hr': '75961238.9299962999260267', 'priceUsd': '0.7121709240223562', 'changePercent24Hr': '0.1802546502766937', 'vwap24Hr': '0.7144127761803483', 'explorer': 'https://etherscan.io/token/0x7D1AfA7B718fb893dB30A3aBc0Cfc608AaCfeBB0'}, {'id': 'uniswap', 'rank': '19', 'symbol': 'UNI', 'name': 'Uniswap', 'supply': '599957294.7100000000000000', 'maxSupply': None, 'marketCapUsd': '6563646566.9112458168962099', 'volumeUsd24Hr': '408278565.3188100085243658', 'priceUsd': '10.9401896181359055', 'changePercent24Hr': '13.8032294450571568', 'vwap24Hr': '11.1367487206101759', 'explorer': 'https://etherscan.io/token/0x1f9840a85d5af5bf1d1762f925bdaddc4201f984'}, {'id': 'litecoin', 'rank': '20', 'symbol': 'LTC', 'name': 'Litecoin', 'supply': '74608362.3575049000000000', 'maxSupply': '84000000.0000000000000000', 'marketCapUsd': '6290451439.4466088408156184', 'volumeUsd24Hr': '155300596.7324043632519128', 'priceUsd': '84.3129542142248690', 'changePercent24Hr': '2.2975348167007237', 'vwap24Hr': '83.5328884089872769', 'explorer': 'http://explorer.litecoin.net/chain/Litecoin'}, {'id': 'internet-computer', 'rank': '21', 'symbol': 'ICP', 'name': 'Internet Computer', 'supply': '464458198.5703910600000000', 'maxSupply': None, 'marketCapUsd': '5723701545.1790075753790346', 'volumeUsd24Hr': '37501410.8836797696197346', 'priceUsd': '12.3233943609923182', 'changePercent24Hr': '0.2371199677307785', 'vwap24Hr': '12.3453144197720001', 'explorer': 'https://www.dfinityexplorer.org/#/'}, {'id': 'unus-sed-leo', 'rank': '22', 'symbol': 'LEO', 'name': 'UNUS SED LEO', 'supply': '926270045.9000000000000000', 'maxSupply': None, 'marketCapUsd': '5516275150.1517378263847913', 'volumeUsd24Hr': '144848.7147745887483642', 'priceUsd': '5.9553638537365314', 'changePercent24Hr': '0.3858477487470721', 'vwap24Hr': '5.9433110395515361', 'explorer': 'https://eospark.com/account/bitfinexleo1'}, {'id': 'multi-collateral-dai', 'rank': '23', 'symbol': 'DAI', 'name': 'Multi Collateral DAI', 'supply': '5347888595.7464075000000000', 'maxSupply': None, 'marketCapUsd': '5350130204.3101191616252985', 'volumeUsd24Hr': '172096088.3976180522690595', 'priceUsd': '1.0004191576775729', 'changePercent24Hr': '-0.0398427827267903', 'vwap24Hr': '0.9999755026967374', 'explorer': 'https://etherscan.io/token/0x89d24a6b4ccb1b6faa2625fe562bdd9a23260359'}, {'id': 'ethereum-classic', 'rank': '24', 'symbol': 'ETC', 'name': 'Ethereum Classic', 'supply': '147393000.9971825200000000', 'maxSupply': '210700000.0000000000000000', 'marketCapUsd': '4343891840.7531753469069693', 'volumeUsd24Hr': '69031014.7564730056400407', 'priceUsd': '29.4714932959144423', 'changePercent24Hr': '2.1705104282428958', 'vwap24Hr': '29.5514755742659505', 'explorer': 'http://gastracker.io/'}, {'id': 'render-token', 'rank': '25', 'symbol': 'RNDR', 'name': 'Render Token', 'supply': '369614008.1087959400000000', 'maxSupply': '536870912.0000000000000000', 'marketCapUsd': '3887220314.0868062947757392', 'volumeUsd24Hr': '11450568.1192691605439780', 'priceUsd': '10.5169723787703479', 'changePercent24Hr': '2.4655517056698447', 'vwap24Hr': '10.4647984592281344', 'explorer': 'https://etherscan.io/token/0x6de037ef9ad2725eb40118bb1702ebb27e4aeb24'}, {'id': 'filecoin', 'rank': '26', 'symbol': 'FIL', 'name': 'Filecoin', 'supply': '559906937.0000000000000000', 'maxSupply': None, 'marketCapUsd': '3352862288.7505693278818953', 'volumeUsd24Hr': '102440699.0553738656249794', 'priceUsd': '5.9882492378381969', 'changePercent24Hr': '2.3532074761085855', 'vwap24Hr': '5.9776070479084395', 'explorer': 'https://protocol.ai'}, {'id': 'stacks', 'rank': '27', 'symbol': 'STX', 'name': 'Stacks', 'supply': '1462785929.2107330000000000', 'maxSupply': '1818000000.0000000000000000', 'marketCapUsd': '3240933624.1297215420192182', 'volumeUsd24Hr': '57054310.3191021894377563', 'priceUsd': '2.2155898271993999', 'changePercent24Hr': '9.7275170724995297', 'vwap24Hr': '2.1561787017020236', 'explorer': 'https://explorer.xinfin.network/'}, {'id': 'stellar', 'rank': '28', 'symbol': 'XLM', 'name': 'Stellar', 'supply': '29039752374.5250050000000000', 'maxSupply': '50001806812.0000000000000000', 'marketCapUsd': '3102506339.4461927213276060', 'volumeUsd24Hr': '31601790.3662976216478650', 'priceUsd': '0.1068365287497373', 'changePercent24Hr': '1.2269417770264477', 'vwap24Hr': '0.1064452133234477', 'explorer': 'https://dashboard.stellar.org/'}, {'id': 'monero', 'rank': '29', 'symbol': 'XMR', 'name': 'Monero', 'supply': '18445963.5855500300000000', 'maxSupply': None, 'marketCapUsd': '3028384573.3343617718858724', 'volumeUsd24Hr': '47133514.4245951772049796', 'priceUsd': '164.1760030203409970', 'changePercent24Hr': '4.2238216028910054', 'vwap24Hr': '160.0439247234104852', 'explorer': 'http://moneroblocks.info/'}, {'id': 'crypto-com-coin', 'rank': '30', 'symbol': 'CRO', 'name': 'Crypto.com Coin', 'supply': '25263013692.0000000000000000', 'maxSupply': '30263013692.0000000000000000', 'marketCapUsd': '2965287685.3242143901472716', 'volumeUsd24Hr': '7875946.7595006390519287', 'priceUsd': '0.1173766408662173', 'changePercent24Hr': '7.8869847954439125', 'vwap24Hr': '0.1124898832398032', 'explorer': 'https://etherscan.io/token/0xa0b73e1ff0b80914ab6fe0444e65848c4c34450b'}, {'id': 'okb', 'rank': '31', 'symbol': 'OKB', 'name': 'OKB', 'supply': '60000000.0000000000000000', 'maxSupply': None, 'marketCapUsd': '2933507510.4981027840000000', 'volumeUsd24Hr': '504089.3353146222088373', 'priceUsd': '48.8917918416350464', 'changePercent24Hr': '1.7567984996023678', 'vwap24Hr': '48.6900665326322413', 'explorer': 'https://etherscan.io/token/0x75231f58b43240c9718dd58b4967c5114342a86c'}, {'id': 'arweave', 'rank': '32', 'symbol': 'AR', 'name': 'Arweave', 'supply': '65652466.0000000000000000', 'maxSupply': '66000000.0000000000000000', 'marketCapUsd': '2909309305.3843785785015010', 'volumeUsd24Hr': '46100410.5647789893202945', 'priceUsd': '44.3137856449196985', 'changePercent24Hr': '-3.6898995112583934', 'vwap24Hr': '45.5411818793046236', 'explorer': 'https://viewblock.io/arweave'}, {'id': 'the-graph', 'rank': '33', 'symbol': 'GRT', 'name': 'The Graph', 'supply': '9509671264.7660220000000000', 'maxSupply': None, 'marketCapUsd': '2861413484.3546860056188018', 'volumeUsd24Hr': '25188820.9728437768988656', 'priceUsd': '0.3008950998081729', 'changePercent24Hr': '0.3620061252650904', 'vwap24Hr': '0.3003569692267089', 'explorer': 'https://etherscan.io/token/0xc944e90c64b2c07662a292be6244bdf05cda44a7'}, {'id': 'vechain', 'rank': '34', 'symbol': 'VET', 'name': 'VeChain', 'supply': '72714516834.0000000000000000', 'maxSupply': '86712634466.0000000000000000', 'marketCapUsd': '2558415427.5344636787969930', 'volumeUsd24Hr': '23855192.6407958156725050', 'priceUsd': '0.0351843832418645', 'changePercent24Hr': '3.0940593077852008', 'vwap24Hr': '0.0346040835982736', 'explorer': 'https://explore.veforge.com/'}, {'id': 'maker', 'rank': '35', 'symbol': 'MKR', 'name': 'Maker', 'supply': '927770.0324557000000000', 'maxSupply': '1005577.0000000000000000', 'marketCapUsd': '2474744315.5324453771978440', 'volumeUsd24Hr': '28814383.5693214469124653', 'priceUsd': '2667.4113508302087781', 'changePercent24Hr': '3.3719796123806907', 'vwap24Hr': '2636.2514814377809424', 'explorer': 'https://etherscan.io/token/Maker'}, {'id': 'fantom', 'rank': '36', 'symbol': 'FTM', 'name': 'Fantom', 'supply': '2803634835.5265927000000000', 'maxSupply': None, 'marketCapUsd': '2329371346.9473734119057635', 'volumeUsd24Hr': '73126982.8368450580598854', 'priceUsd': '0.8308397789292910', 'changePercent24Hr': '1.9846308232480172', 'vwap24Hr': '0.8360502194286011', 'explorer': 'https://etherscan.io/token/0x4e15361fd6b4bb609fa63c81a2be19d873717870'}, {'id': 'theta', 'rank': '37', 'symbol': 'THETA', 'name': 'THETA', 'supply': '1000000000.0000000000000000', 'maxSupply': '1000000000.0000000000000000', 'marketCapUsd': '2204332137.1133931000000000', 'volumeUsd24Hr': '11540988.8273377956818897', 'priceUsd': '2.2043321371133931', 'changePercent24Hr': '4.4692890974112829', 'vwap24Hr': '2.1730966088525054', 'explorer': 'https://explorer.thetatoken.org/'}, {'id': 'cosmos', 'rank': '38', 'symbol': 'ATOM', 'name': 'Cosmos', 'supply': '248453201.0000000000000000', 'maxSupply': None, 'marketCapUsd': '2141304066.4440304354383062', 'volumeUsd24Hr': '51034828.6200122708493635', 'priceUsd': '8.6185408673564662', 'changePercent24Hr': '2.1070172208001357', 'vwap24Hr': '8.5335454897201577', 'explorer': 'https://www.mintscan.io/'}, {'id': 'thorchain', 'rank': '39', 'symbol': 'RUNE', 'name': 'THORChain', 'supply': '334967874.0000000000000000', 'maxSupply': None, 'marketCapUsd': '2085106924.2443954008029792', 'volumeUsd24Hr': '53040353.4917617132676605', 'priceUsd': '6.2247967225788208', 'changePercent24Hr': '2.1160060902671284', 'vwap24Hr': '6.2207093780878485', 'explorer': 'https://explorer.binance.org/asset/RUNE-B1A'}, {'id': 'lido-dao', 'rank': '40', 'symbol': 'LDO', 'name': 'Lido DAO', 'supply': '892321246.9947464000000000', 'maxSupply': None, 'marketCapUsd': '2010792346.1777303191286027', 'volumeUsd24Hr': '4379936.7439547449748030', 'priceUsd': '2.2534399499618426', 'changePercent24Hr': '-2.1833789204707432', 'vwap24Hr': '2.3010887267040239', 'explorer': 'https://etherscan.io/token/0x5a98fcbea516cf06857215779fd812ca3bef1b32'}, {'id': 'injective-protocol', 'rank': '41', 'symbol': 'INJ', 'name': 'Injective', 'supply': '73005554.3300000000000000', 'maxSupply': '100000000.0000000000000000', 'marketCapUsd': '1913835430.7190920754530068', 'volumeUsd24Hr': '38351453.4729097759592556', 'priceUsd': '26.2149291007115085', 'changePercent24Hr': '4.7308282082649415', 'vwap24Hr': '25.9464413317193260', 'explorer': 'https://etherscan.io/token/0xe28b3b32b6c345a34ff64674606124dd5aceca30'}, {'id': 'fetch', 'rank': '42', 'symbol': 'FET', 'name': 'Fetch.ai', 'supply': '848193895.9129184000000000', 'maxSupply': None, 'marketCapUsd': '1833326663.3341733948901983', 'volumeUsd24Hr': '62873735.1007046425683626', 'priceUsd': '2.1614476031579408', 'changePercent24Hr': '1.9256743907496904', 'vwap24Hr': '2.1493099939419252', 'explorer': 'https://etherscan.io/token/0x1d287cc25dad7ccaf76a26bc660c5f7c8e2a05bd'}, {'id': 'algorand', 'rank': '43', 'symbol': 'ALGO', 'name': 'Algorand', 'supply': '8175360184.0828670000000000', 'maxSupply': '10000000000.0000000000000000', 'marketCapUsd': '1538492707.3145686544103272', 'volumeUsd24Hr': '27227939.4520075233077178', 'priceUsd': '0.1881865352318004', 'changePercent24Hr': '2.7358861470660286', 'vwap24Hr': '0.1864665179105806', 'explorer': 'https://algoexplorer.io/'}, {'id': 'aave', 'rank': '44', 'symbol': 'AAVE', 'name': 'Aave', 'supply': '14845425.2407286500000000', 'maxSupply': None, 'marketCapUsd': '1527721485.9332892427084237', 'volumeUsd24Hr': '26180342.6751795115484844', 'priceUsd': '102.9085702268711107', 'changePercent24Hr': '2.5500788315122489', 'vwap24Hr': '102.6699578548256920', 'explorer': 'https://etherscan.io/token/0x80fB784B7eD66730e8b1DBd9820aFD29931aab03'}, {'id': 'hedera-hashgraph', 'rank': '45', 'symbol': 'HBAR', 'name': 'Hedera Hashgraph', 'supply': '14832756028.0000000000000000', 'maxSupply': '50000000000.0000000000000000', 'marketCapUsd': '1522497055.9112400653883132', 'volumeUsd24Hr': '18843405.2947149277265094', 'priceUsd': '0.1026442458189969', 'changePercent24Hr': '1.6490260324170341', 'vwap24Hr': '0.1025009257460928', 'explorer': 'https://hash-hash.info/'}, {'id': 'gala', 'rank': '46', 'symbol': 'GALA', 'name': 'Gala', 'supply': '31570783817.9282500000000000', 'maxSupply': None, 'marketCapUsd': '1484111252.9742357121118988', 'volumeUsd24Hr': '76734812.2856920342762232', 'priceUsd': '0.0470090087573767', 'changePercent24Hr': '4.8199651303806596', 'vwap24Hr': '0.0465998590094336', 'explorer': 'https://ethplorer.io/es/address/0x15d4c048f83bd7e37d49ea4c83a07267ec4203da#chart=candlestick'}, {'id': 'flow', 'rank': '47', 'symbol': 'FLOW', 'name': 'Flow', 'supply': '1510362347.0000000000000000', 'maxSupply': None, 'marketCapUsd': '1406702353.6590604928207067', 'volumeUsd24Hr': '16265443.8663119037451548', 'priceUsd': '0.9313674671863761', 'changePercent24Hr': '5.4756752428908062', 'vwap24Hr': '0.9163454390437077', 'explorer': 'https://flowscan.org/'}, {'id': 'chiliz', 'rank': '48', 'symbol': 'CHZ', 'name': 'Chiliz', 'supply': '8888289967.1249620000000000', 'maxSupply': None, 'marketCapUsd': '1274646743.5302889950764638', 'volumeUsd24Hr': '41914743.3612239354192535', 'priceUsd': '0.1434074212525484', 'changePercent24Hr': '-1.4546595692268888', 'vwap24Hr': '0.1447867903611692', 'explorer': 'https://etherscan.io/token/0x3506424f91fd33084466f402d5d97f05f8e3b4af'}, {'id': 'axie-infinity', 'rank': '49', 'symbol': 'AXS', 'name': 'Axie Infinity', 'supply': '145582213.4503752600000000', 'maxSupply': None, 'marketCapUsd': '1252937575.5280947709024236', 'volumeUsd24Hr': '21977895.3115661820636449', 'priceUsd': '8.6063918512626869', 'changePercent24Hr': '6.8122669791036584', 'vwap24Hr': '8.2396619656706837', 'explorer': 'https://etherscan.io/token/0xf5d669627376ebd411e34b98f19c868c8aba5ada'}, {'id': 'bitcoin-sv', 'rank': '50', 'symbol': 'BSV', 'name': 'Bitcoin SV', 'supply': '19711175.0000000000000000', 'maxSupply': None, 'marketCapUsd': '1240646670.5481335823396775', 'volumeUsd24Hr': '6312554.0412397267738123', 'priceUsd': '62.9412843500264993', 'changePercent24Hr': '2.1173075533223180', 'vwap24Hr': '62.8917715865449157', 'explorer': 'https://bsvexplorer.io/'}, {'id': 'singularitynet', 'rank': '51', 'symbol': 'AGIX', 'name': 'SingularityNET', 'supply': '1284793189.6314576000000000', 'maxSupply': '2000000000.0000000000000000', 'marketCapUsd': '1170129716.0779375973659056', 'volumeUsd24Hr': '3026911.4460784929362091', 'priceUsd': '0.9107533613356005', 'changePercent24Hr': '2.7578944024472287', 'vwap24Hr': '0.9012597312128171', 'explorer': 'https://etherscan.io/token/0x8eb24319393716668d768dcec29356ae9cffe285'}, {'id': 'quant', 'rank': '52', 'symbol': 'QNT', 'name': 'Quant', 'supply': '12072738.0000000000000000', 'maxSupply': '14881364.0000000000000000', 'marketCapUsd': '1090867752.4481599709844408', 'volumeUsd24Hr': '8088166.7982825411677001', 'priceUsd': '90.3579413756978716', 'changePercent24Hr': '0.2444880921582659', 'vwap24Hr': '90.7387904104137042', 'explorer': 'https://etherscan.io/token/0x4a220e6096b25eadb88358cb44068a3248254675'}, {'id': 'akash-network', 'rank': '53', 'symbol': 'AKT', 'name': 'Akash Network', 'supply': '239325651.2756240000000000', 'maxSupply': '388539008.0000000000000000', 'marketCapUsd': '1078180029.9460426366308618', 'volumeUsd24Hr': '4881304.4242572696252088', 'priceUsd': '4.5050750899423473', 'changePercent24Hr': '3.4869435406317958', 'vwap24Hr': '4.4663838567263738', 'explorer': 'https://akash.bigdipper.live/'}, {'id': 'neo', 'rank': '54', 'symbol': 'NEO', 'name': 'Neo', 'supply': '70538831.0000000000000000', 'maxSupply': '100000000.0000000000000000', 'marketCapUsd': '1073883352.9838016164452803', 'volumeUsd24Hr': '11670343.4730078270917098', 'priceUsd': '15.2240026912808013', 'changePercent24Hr': '1.7880244842946834', 'vwap24Hr': '15.2000518436563347', 'explorer': 'https://neotracker.io'}, {'id': 'the-sandbox', 'rank': '55', 'symbol': 'SAND', 'name': 'The Sandbox', 'supply': '2265731926.2233224000000000', 'maxSupply': None, 'marketCapUsd': '1062769537.4869056797088768', 'volumeUsd24Hr': '25965022.8566876995302160', 'priceUsd': '0.4690623481032917', 'changePercent24Hr': '3.2848980840791416', 'vwap24Hr': '0.4628898526014886', 'explorer': 'https://etherscan.io/token/0x3845badAde8e6dFF049820680d1F14bD3903a5d0'}, {'id': 'mina', 'rank': '56', 'symbol': 'MINA', 'name': 'Mina', 'supply': '1115997009.8400393000000000', 'maxSupply': None, 'marketCapUsd': '967188861.5666065307144400', 'volumeUsd24Hr': '10017315.8682983246170351', 'priceUsd': '0.8666590080785592', 'changePercent24Hr': '3.2013270338695461', 'vwap24Hr': '0.8585390353088704', 'explorer': 'https://minaexplorer.com/'}, {'id': 'kucoin-token', 'rank': '57', 'symbol': 'KCS', 'name': 'KuCoin Token', 'supply': '95642961.2885607500000000', 'maxSupply': '170118638.0000000000000000', 'marketCapUsd': '966752405.7503958432215511', 'volumeUsd24Hr': '692571.8058025120759077', 'priceUsd': '10.1079305024197634', 'changePercent24Hr': '0.3096849147270277', 'vwap24Hr': '10.0887011384645296', 'explorer': 'https://etherscan.io/token/0xf34960d9d60be18cc1d5afc1a6f012a723a28811'}, {'id': 'elrond-egld', 'rank': '58', 'symbol': 'EGLD', 'name': 'MultiversX', 'supply': '24184559.1898415400000000', 'maxSupply': '31415926.0000000000000000', 'marketCapUsd': '958002171.7249063439812352', 'volumeUsd24Hr': '16399454.8362456020474693', 'priceUsd': '39.6121411271082706', 'changePercent24Hr': '1.2859400623309388', 'vwap24Hr': '39.4494363286679052', 'explorer': 'https://explorer.elrond.com/'}, {'id': 'pendle', 'rank': '59', 'symbol': 'PENDLE', 'name': 'Pendle', 'supply': '154274800.2480423500000000', 'maxSupply': None, 'marketCapUsd': '937516639.1820606016356860', 'volumeUsd24Hr': '2635227.0960385290436847', 'priceUsd': '6.0769266119594739', 'changePercent24Hr': '-0.1999633271937407', 'vwap24Hr': '6.1355737549334404', 'explorer': 'https://etherscan.io/token/0x808507121b80c02388fad14726482e061b8da827'}, {'id': 'tezos', 'rank': '60', 'symbol': 'XTZ', 'name': 'Tezos', 'supply': '984330137.3620110000000000', 'maxSupply': None, 'marketCapUsd': '931852513.8204960351875599', 'volumeUsd24Hr': '19040840.8741583727909303', 'priceUsd': '0.9466869685793080', 'changePercent24Hr': '1.2531608550349168', 'vwap24Hr': '0.9484808505871234', 'explorer': 'https://tzkt.io/'}, {'id': 'ecash', 'rank': '61', 'symbol': 'XEC', 'name': 'eCash', 'supply': '19711432798092.0000000000000000', 'maxSupply': '21000000000000.0000000000000000', 'marketCapUsd': '926122901.1133386314064996', 'volumeUsd24Hr': '5020014.2024573375344316', 'priceUsd': '0.0000469840478163', 'changePercent24Hr': '2.6988191429781288', 'vwap24Hr': '0.0000468362689140', 'explorer': 'https://explorer.bitcoinabc.org/'}, {'id': 'eos', 'rank': '62', 'symbol': 'EOS', 'name': 'EOS', 'supply': '1127540931.1325000000000000', 'maxSupply': None, 'marketCapUsd': '910114553.3816860093873293', 'volumeUsd24Hr': '57273662.5564589360936456', 'priceUsd': '0.8071676408833945', 'changePercent24Hr': '1.0400736217169510', 'vwap24Hr': '0.8081352233649663', 'explorer': 'https://bloks.io/'}, {'id': 'conflux-network', 'rank': '63', 'symbol': 'CFX', 'name': 'Conflux', 'supply': '4044948533.4600000000000000', 'maxSupply': None, 'marketCapUsd': '906659582.9248453820377638', 'volumeUsd24Hr': '14128026.4246167903004830', 'priceUsd': '0.2241461357109777', 'changePercent24Hr': '2.8682012474861948', 'vwap24Hr': '0.2257340256140095', 'explorer': 'http://www.confluxscan.io/'}, {'id': 'decentraland', 'rank': '64', 'symbol': 'MANA', 'name': 'Decentraland', 'supply': '1908319865.3915880000000000', 'maxSupply': None, 'marketCapUsd': '895842053.0326386772942917', 'volumeUsd24Hr': '14117427.7321589240095563', 'priceUsd': '0.4694401967297089', 'changePercent24Hr': '2.1614400996481136', 'vwap24Hr': '0.4664664629813326', 'explorer': 'https://etherscan.io/token/decentraland'}, {'id': 'gnosis-gno', 'rank': '65', 'symbol': 'GNO', 'name': 'Gnosis', 'supply': '2589588.0000000000000000', 'maxSupply': '3000000.0000000000000000', 'marketCapUsd': '863581163.4308545176879900', 'volumeUsd24Hr': '9857492.9690587193399739', 'priceUsd': '333.4820687425391675', 'changePercent24Hr': '1.5823155065022382', 'vwap24Hr': '330.6765093457733915', 'explorer': 'https://etherscan.io/token/Gnosis'}, {'id': 'gatetoken', 'rank': '66', 'symbol': 'GT', 'name': 'GateToken', 'supply': '93240300.3813759800000000', 'maxSupply': None, 'marketCapUsd': '841235070.4446134665174387', 'volumeUsd24Hr': '6996611.9981356320184938', 'priceUsd': '9.0222260868289050', 'changePercent24Hr': '6.8248834660024676', 'vwap24Hr': '8.8422828504960781', 'explorer': None}, {'id': 'pancakeswap', 'rank': '67', 'symbol': 'CAKE', 'name': 'PancakeSwap', 'supply': '266320791.5881531500000000', 'maxSupply': '450000000.0000000000000000', 'marketCapUsd': '828835437.0992910255217096', 'volumeUsd24Hr': '78840661.9217885363892743', 'priceUsd': '3.1121694710979540', 'changePercent24Hr': '11.4960855167880049', 'vwap24Hr': '3.0738832409256645', 'explorer': 'https://bscscan.com/token/0x0e09fabb73bd3ade0a17ecc321fd13a19e81ce82'}, {'id': 'aioz-network', 'rank': '68', 'symbol': 'AIOZ', 'name': 'AIOZ Network', 'supply': '1098367146.0383960000000000', 'maxSupply': None, 'marketCapUsd': '827860485.1538660264268090', 'volumeUsd24Hr': '2653506.6584350132320022', 'priceUsd': '0.7537192715020686', 'changePercent24Hr': '5.0067889965684345', 'vwap24Hr': '0.7538951159588693', 'explorer': 'https://etherscan.io/token/0x626e8036deb333b408be468f951bdb42433cbf18'}, {'id': 'nexo', 'rank': '69', 'symbol': 'NEXO', 'name': 'Nexo', 'supply': '560000011.0000000000000000', 'maxSupply': None, 'marketCapUsd': '823716755.7414783293832303', 'volumeUsd24Hr': '604436.7667553187642770', 'priceUsd': '1.4709227492166573', 'changePercent24Hr': '5.2505229057731306', 'vwap24Hr': '1.4601136682870505', 'explorer': 'https://etherscan.io/token/0xb62132e35a6c13ee1ee0f84dc5d40bad8d815206'}, {'id': 'klaytn', 'rank': '70', 'symbol': 'KLAY', 'name': 'Klaytn', 'supply': '3692764216.8640532000000000', 'maxSupply': None, 'marketCapUsd': '789292550.0923869872184228', 'volumeUsd24Hr': '3739092.3322232498859141', 'priceUsd': '0.2137403050234995', 'changePercent24Hr': '-1.6617309138451906', 'vwap24Hr': '0.2167666764543592', 'explorer': 'https://scope.klaytn.com/blocks'}, {'id': 'dexe', 'rank': '71', 'symbol': 'DEXE', 'name': 'DeXe', 'supply': '57103082.8341114900000000', 'maxSupply': '98942301.0000000000000000', 'marketCapUsd': '783018498.6997642990970806', 'volumeUsd24Hr': '2358107.4202212012149315', 'priceUsd': '13.7123682266768089', 'changePercent24Hr': '4.4369383869052477', 'vwap24Hr': '13.3798916131940226', 'explorer': 'https://etherscan.io/token/0xde4EE8057785A7e8e800Db58F9784845A5C2Cbd6'}, {'id': 'oasis-network', 'rank': '72', 'symbol': 'ROSE', 'name': 'Oasis', 'supply': '6713599876.0000000000000000', 'maxSupply': None, 'marketCapUsd': '776512066.4869298611759608', 'volumeUsd24Hr': '16255113.9081609152481832', 'priceUsd': '0.1156625477879358', 'changePercent24Hr': '2.1660048029273009', 'vwap24Hr': '0.1154564361998507', 'explorer': 'https://www.oasisscan.com/'}, {'id': 'nervos-network', 'rank': '73', 'symbol': 'CKB', 'name': 'Nervos Network', 'supply': '44295742424.4981900000000000', 'maxSupply': None, 'marketCapUsd': '776328132.3674673902775014', 'volumeUsd24Hr': '114399124.1115930665279786', 'priceUsd': '0.0175260214611080', 'changePercent24Hr': '10.7473459310647941', 'vwap24Hr': '0.0181777002543673', 'explorer': 'https://explorer.nervos.org/'}, {'id': 'iota', 'rank': '74', 'symbol': 'IOTA', 'name': 'IOTA', 'supply': '3286918475.0000000000000000', 'maxSupply': None, 'marketCapUsd': '757315820.4012555658734675', 'volumeUsd24Hr': '13727837.3057415653997695', 'priceUsd': '0.2304029826603033', 'changePercent24Hr': '2.3410071781132836', 'vwap24Hr': '0.2331296130035518', 'explorer': 'https://thetangle.org/'}, {'id': 'kava', 'rank': '75', 'symbol': 'KAVA', 'name': 'Kava', 'supply': '1082856238.0000000000000000', 'maxSupply': '1082860679.0000000000000000', 'marketCapUsd': '749459939.8252044146509278', 'volumeUsd24Hr': '6445013.7014724893882194', 'priceUsd': '0.6921139792383081', 'changePercent24Hr': '5.1664227999816638', 'vwap24Hr': '0.6793393517256424', 'explorer': 'https://www.mintscan.io/kava'}, {'id': 'livepeer', 'rank': '76', 'symbol': 'LPT', 'name': 'Livepeer', 'supply': '32615411.2951117200000000', 'maxSupply': None, 'marketCapUsd': '701984100.2148354373119283', 'volumeUsd24Hr': '18867444.2872182919708508', 'priceUsd': '21.5230798061420209', 'changePercent24Hr': '-0.9597590662267922', 'vwap24Hr': '21.6477427605184285', 'explorer': 'https://explorer.livepeer.org/'}, {'id': 'synthetix-network-token', 'rank': '77', 'symbol': 'SNX', 'name': 'Synthetix', 'supply': '233716733.4900000000000000', 'maxSupply': '212424133.0000000000000000', 'marketCapUsd': '651822206.7089356499498574', 'volumeUsd24Hr': '12691181.9325788877859846', 'priceUsd': '2.7889411124977282', 'changePercent24Hr': '4.9863188821372544', 'vwap24Hr': '2.7483641188550765', 'explorer': 'https://etherscan.io/token/0xc011a72400e58ecd99ee497cf89e3775d4bd732f'}, {'id': 'helium', 'rank': '78', 'symbol': 'HNT', 'name': 'Helium', 'supply': '160875441.8242133300000000', 'maxSupply': None, 'marketCapUsd': '647074271.9421316130446482', 'volumeUsd24Hr': '7307252.5002571779393573', 'priceUsd': '4.0222066500938156', 'changePercent24Hr': '-1.0042987985401937', 'vwap24Hr': '4.0688100352950609', 'explorer': 'https://explorer.helium.com/'}, {'id': 'theta-fuel', 'rank': '79', 'symbol': 'TFUEL', 'name': 'Theta Fuel', 'supply': '6570829972.0000000000000000', 'maxSupply': None, 'marketCapUsd': '624499097.3488713727521044', 'volumeUsd24Hr': '1811399.7740750848772446', 'priceUsd': '0.0950411287478177', 'changePercent24Hr': '4.4358617587466861', 'vwap24Hr': '0.0937015122349277', 'explorer': 'https://explorer.thetatoken.org/'}, {'id': 'wootrade', 'rank': '80', 'symbol': 'WOO', 'name': 'WOO', 'supply': '1874845632.7667956000000000', 'maxSupply': None, 'marketCapUsd': '614169108.6527767935997157', 'volumeUsd24Hr': '12190886.4492531429271385', 'priceUsd': '0.3275838276596774', 'changePercent24Hr': '2.5895227707651053', 'vwap24Hr': '0.3278764724778403', 'explorer': 'https://etherscan.io/token/0x4691937a7508860f876c9c0a2a617e7d9e945d4b'}, {'id': 'iotex', 'rank': '81', 'symbol': 'IOTX', 'name': 'IoTeX', 'supply': '9441378955.0000000000000000', 'maxSupply': '10000000000.0000000000000000', 'marketCapUsd': '578380681.1747486949813855', 'volumeUsd24Hr': '8590511.1605015597310018', 'priceUsd': '0.0612601913270781', 'changePercent24Hr': '3.9463505728956676', 'vwap24Hr': '0.0614515543272422', 'explorer': 'https://etherscan.io/token/0x6fb3e0a217407efff7ca062d46c26e5d60a14d69'}, {'id': 'trust-wallet-token', 'rank': '82', 'symbol': 'TWT', 'name': 'Trust Wallet Token', 'supply': '416649900.0000000000000000', 'maxSupply': None, 'marketCapUsd': '577653143.3054373809655900', 'volumeUsd24Hr': '16688878.5986788598694854', 'priceUsd': '1.3864233336079941', 'changePercent24Hr': '9.0137825397956308', 'vwap24Hr': '1.3589212280694793', 'explorer': 'https://explorer.binance.org/asset/TWT-8C2'}, {'id': '1inch', 'rank': '83', 'symbol': '1INCH', 'name': '1inch Network', 'supply': '1186234881.6612947000000000', 'maxSupply': None, 'marketCapUsd': '574607712.5574722546707656', 'volumeUsd24Hr': '10849886.2563574847538912', 'priceUsd': '0.4843962367324314', 'changePercent24Hr': '3.0974508335202793', 'vwap24Hr': '0.4794651254212682', 'explorer': 'https://etherscan.io/token/0x111111111117dc0aa78b770fa6a738034120c302'}, {'id': 'curve-dao-token', 'rank': '84', 'symbol': 'CRV', 'name': 'Curve DAO Token', 'supply': '1232452359.0000000000000000', 'maxSupply': None, 'marketCapUsd': '568367824.0647606755081076', 'volumeUsd24Hr': '4727379.2288059147993589', 'priceUsd': '0.4611681903273964', 'changePercent24Hr': '-0.9145820863202304', 'vwap24Hr': '0.4660058474573448', 'explorer': 'https://etherscan.io/token/0xD533a949740bb3306d119CC777fa900bA034cd52'}, {'id': 'superfarm', 'rank': '85', 'symbol': 'SUPER', 'name': 'SuperVerse', 'supply': '487776093.4169172600000000', 'maxSupply': '1000000000.0000000000000000', 'marketCapUsd': '542283563.2441645808921424', 'volumeUsd24Hr': '6416182.5063211141343153', 'priceUsd': '1.1117469071627053', 'changePercent24Hr': '7.7363633741660712', 'vwap24Hr': '1.0895064133611276', 'explorer': 'https://etherscan.io/token/0xe53ec727dbdeb9e2d5456c3be40cff031ab40a55'}, {'id': 'nxm', 'rank': '86', 'symbol': 'NXM', 'name': 'NXM', 'supply': '6594067.8412913900000000', 'maxSupply': None, 'marketCapUsd': '530211434.2802097295216330', 'volumeUsd24Hr': '7709527.1801581454866071', 'priceUsd': '80.4073368733149853', 'changePercent24Hr': '-0.0482729935997484', 'vwap24Hr': '79.9960363952998903', 'explorer': 'https://etherscan.io/token/0xd7c49cee7e9188cca6ad8ff264c1da2e69d4cf3b'}, {'id': 'ftx-token', 'rank': '87', 'symbol': 'FTT', 'name': 'FTX Token', 'supply': '328895103.8132070000000000', 'maxSupply': None, 'marketCapUsd': '526060775.5041539024069385', 'volumeUsd24Hr': '12865760.3605948689473492', 'priceUsd': '1.5994788897889017', 'changePercent24Hr': '2.0094088330302587', 'vwap24Hr': '1.6087314627916099', 'explorer': 'https://etherscan.io/token/0x50d1c9771902476076ecfc8b2a83ad6b9355a4c9'}, {'id': 'ocean-protocol', 'rank': '88', 'symbol': 'OCEAN', 'name': 'Ocean Protocol', 'supply': '568381102.7486407000000000', 'maxSupply': '1410000000.0000000000000000', 'marketCapUsd': '520105659.1196156320050009', 'volumeUsd24Hr': '6296696.6015168704456997', 'priceUsd': '0.9150650093826672', 'changePercent24Hr': '1.7388216676272276', 'vwap24Hr': '0.9086355545492214', 'explorer': 'https://etherscan.io/token/0x7AFeBBB46fDb47ed17b22ed075Cde2447694fB9e'}, {'id': 'golem-network-tokens', 'rank': '89', 'symbol': 'GLM', 'name': 'Golem', 'supply': '1000000000.0000000000000000', 'maxSupply': None, 'marketCapUsd': '510611799.5884110000000000', 'volumeUsd24Hr': '690578.1561996316982276', 'priceUsd': '0.5106117995884110', 'changePercent24Hr': '9.4310456622049930', 'vwap24Hr': '0.4938278149497876', 'explorer': 'https://etherscan.io/token/Golem'}, {'id': 'trueusd', 'rank': '90', 'symbol': 'TUSD', 'name': 'TrueUSD', 'supply': '498201479.0100000000000000', 'maxSupply': None, 'marketCapUsd': '498085789.2891871949709162', 'volumeUsd24Hr': '8009033.5061974074077997', 'priceUsd': '0.9997677852722503', 'changePercent24Hr': '0.0141933898813762', 'vwap24Hr': '1.0002020656020722', 'explorer': 'https://etherscan.io/token/0x8dd5fbce2f6a956c3022ba3663759011dd51e73e'}, {'id': 'compound', 'rank': '91', 'symbol': 'COMP', 'name': 'Compound', 'supply': '8324365.2581172300000000', 'maxSupply': None, 'marketCapUsd': '496108029.7915666906031908', 'volumeUsd24Hr': '19212578.0061586168440531', 'priceUsd': '59.5971001281813435', 'changePercent24Hr': '1.1306567247982675', 'vwap24Hr': '59.8337282737747337', 'explorer': 'https://etherscan.io/token/0xc00e94cb662c3520282e6f5717214004a7f26888'}, {'id': 'wemix', 'rank': '92', 'symbol': 'WEMIX', 'name': 'WEMIX', 'supply': '361826511.2253543000000000', 'maxSupply': '980000000.0000000000000000', 'marketCapUsd': '491500579.8499915877746147', 'volumeUsd24Hr': '1382956.1228135346783663', 'priceUsd': '1.3583874166254035', 'changePercent24Hr': '-0.1767301730469707', 'vwap24Hr': '1.3728385303230744', 'explorer': 'https://scope.klaytn.com/token/0x5096db80b21ef45230c9e423c373f1fc9c0198dd?tabId=kctTransfer'}, {'id': 'xinfin-network', 'rank': '93', 'symbol': 'XDC', 'name': 'XinFin Network', 'supply': '12293293518.5500000000000000', 'maxSupply': None, 'marketCapUsd': '481387944.4007381814091857', 'volumeUsd24Hr': '1304769.2377476369449291', 'priceUsd': '0.0391585821711933', 'changePercent24Hr': '1.7741026343152175', 'vwap24Hr': '0.0365635208886023', 'explorer': 'https://etherscan.io/token/0x41ab1b6fcbb2fa9dced81acbdec13ea6315f2bf2'}, {'id': 'raydium', 'rank': '94', 'symbol': 'RAY', 'name': 'Raydium', 'supply': '262842336.7973760000000000', 'maxSupply': None, 'marketCapUsd': '478632539.9988324236762683', 'volumeUsd24Hr': '9528663.4241843406020920', 'priceUsd': '1.8209872345177335', 'changePercent24Hr': '3.2974399216397459', 'vwap24Hr': '1.8018727965626724', 'explorer': 'https://explorer.solana.com/address/4k3Dyjzvzp8eMZWUXbBCjEvwSkkk59S5iCNLY3QrkX6R'}, {'id': 'mantra-dao', 'rank': '95', 'symbol': 'OM', 'name': 'MANTRA DAO', 'supply': '500205033.1781248500000000', 'maxSupply': '888888888.0000000000000000', 'marketCapUsd': '465323927.8688498024461741', 'volumeUsd24Hr': '34073038.9372056675948335', 'priceUsd': '0.9302663847909468', 'changePercent24Hr': '3.5255063470718753', 'vwap24Hr': '0.9440208644170255', 'explorer': 'https://etherscan.io/token/0x3593d125a4f7849a1b059e64f4517a86dd60c95d'}, {'id': '0x', 'rank': '96', 'symbol': 'ZRX', 'name': '0x Protocol', 'supply': '847496054.8027713000000000', 'maxSupply': '1000000000.0000000000000000', 'marketCapUsd': '460724060.4979189709049094', 'volumeUsd24Hr': '12221031.7819973339926485', 'priceUsd': '0.5436297406778352', 'changePercent24Hr': '6.7361995286768965', 'vwap24Hr': '0.5272977685472120', 'explorer': 'https://etherscan.io/token/ZRX'}, {'id': 'celo', 'rank': '97', 'symbol': 'CELO', 'name': 'Celo', 'supply': '539537130.0000000000000000', 'maxSupply': '1000000000.0000000000000000', 'marketCapUsd': '446939721.4432512904407360', 'volumeUsd24Hr': '2977820.4742598390471929', 'priceUsd': '0.8283762072931872', 'changePercent24Hr': '0.5534061798321151', 'vwap24Hr': '0.8316009625159600', 'explorer': 'https://explorer.celo.org/blocks'}, {'id': 'enjin-coin', 'rank': '98', 'symbol': 'ENJ', 'name': 'Enjin Coin', 'supply': '1467617220.1923869000000000', 'maxSupply': None, 'marketCapUsd': '445086896.4118293859290992', 'volumeUsd24Hr': '13818321.3289514155195874', 'priceUsd': '0.3032717865994267', 'changePercent24Hr': '1.4740565224043610', 'vwap24Hr': '0.2981143003721081', 'explorer': 'https://etherscan.io/token/0xf629cbd94d3791c9250152bd8dfbdf380e2a3b9c'}, {'id': 'holo', 'rank': '99', 'symbol': 'HOT', 'name': 'Holo', 'supply': '173416737599.1556700000000000', 'maxSupply': None, 'marketCapUsd': '444053237.1692212922727550', 'volumeUsd24Hr': '3202658.8576555974627490', 'priceUsd': '0.0025606134870074', 'changePercent24Hr': '2.4754652991204420', 'vwap24Hr': '0.0025563408764025', 'explorer': 'https://etherscan.io/token/0x6c6ee5e31d828de241282b9606c8e98ea48526e2'}, {'id': 'zilliqa', 'rank': '100', 'symbol': 'ZIL', 'name': 'Zilliqa', 'supply': '18466564812.1682550000000000', 'maxSupply': '21000000000.0000000000000000', 'marketCapUsd': '437327391.6637672108350723', 'volumeUsd24Hr': '6509028.9296426854756485', 'priceUsd': '0.0236821193390336', 'changePercent24Hr': '1.8923321277049241', 'vwap24Hr': '0.0235790349511436', 'explorer': 'https://etherscan.io/token/0x05f4a42e251f2d52b8ed15e9fedaacfcef1fad27'}]\n",
      "-> timestamp : 1717598604041\n",
      "It is a nested JSON, with two key-value pais: data and timestamp.\n",
      "The actual information comes in the 'data' key along with its associated 'timestamp' as another key.\n",
      "How many key-value pairs in the 'data' key: 100\n",
      "Let's explore the first element of 'data': {'id': 'bitcoin', 'rank': '1', 'symbol': 'BTC', 'name': 'Bitcoin', 'supply': '19707950.0000000000000000', 'maxSupply': '21000000.0000000000000000', 'marketCapUsd': '1397983178503.6699137374477800', 'volumeUsd24Hr': '10219566110.0425448570490033', 'priceUsd': '70934.9870739305667884', 'changePercent24Hr': '1.9758934324479065', 'vwap24Hr': '70672.9205297634327363', 'explorer': 'https://blockchain.info/'}\n",
      "-> There are 12 features in a single record of 'data'.\n",
      "-> In total, there are 100 records stored in 'data' and each record has 12 features.\n",
      "We should see the same when storing in Dataframe.\n"
     ]
    }
   ],
   "source": [
    "# Exploring the JSON structure\n",
    "print(\"This is the Json's type from the API request:\", type(raw_data_json))\n",
    "print(\"It's a dict, so let's check how many keys it has:\", len(raw_data_json))\n",
    "\n",
    "# Saving Keys and Values as Lists\n",
    "raw_data_json_keys_ls = list(raw_data_json.keys())\n",
    "raw_data_json_values_ls = list(raw_data_json.values())\n",
    "\n",
    "print(\"Let's print both keys:\", raw_data_json_keys_ls)\n",
    "for key, value in raw_data_json.items():\n",
    "    print(\"->\", key, \":\", raw_data_json[key])\n",
    "\n",
    "print(\"It is a nested JSON, with two key-value pais: data and timestamp.\")\n",
    "print(\"The actual information comes in the 'data' key along with its associated 'timestamp' as another key.\")\n",
    "print(\"How many key-value pairs in the 'data' key:\", len(raw_data_json_values_ls[0]))\n",
    "print(\"Let's explore the first element of 'data':\", raw_data_json_values_ls[0][0])\n",
    "potential_columns = len(raw_data_json_values_ls[0][0])\n",
    "potential_rows = len(raw_data_json_values_ls[0])\n",
    "print(f\"-> There are {potential_columns} features in a single record of 'data'.\")\n",
    "print(f\"-> In total, there are {potential_rows} records stored in 'data' and each record has {potential_columns} features.\")\n",
    "print(\"We should see the same when storing in Dataframe.\")\n"
   ]
  },
  {
   "cell_type": "markdown",
   "metadata": {},
   "source": [
    "### Transformation Function\n",
    "Notes: \n",
    "* The list of records are stored in the 'data' key of the JSON file, as seen above.\n",
    "* Before creating the transformation function, we performed a data exploration:\n",
    "    * There were some columns that are supposed to be **Numerical** data, but are stored as **Categorical** (`object`) data. We converted them.\n",
    "    * There were some **Missing** (`NULL`) data ('maxSupply', 'explorer'). We handled it by hardcoding within the transformation function."
   ]
  },
  {
   "cell_type": "code",
   "execution_count": 5,
   "metadata": {},
   "outputs": [],
   "source": [
    "# For the Converting part\n",
    "# Selecting the columns and their correct types\n",
    "cols_datatypes = {\n",
    "    'rank' : int,\n",
    "    'supply' : float,\n",
    "    'maxSupply' : float,\n",
    "    'marketCapUsd' : float,\n",
    "    'volumeUsd24Hr' : float,\n",
    "    'priceUsd' : float,\n",
    "    'changePercent24Hr' : float,\n",
    "    'vwap24Hr' : float\n",
    "}\n",
    "\n",
    "# For the Rounding part\n",
    "# Selecting the columns we want to round to some decimal places\n",
    "cols_to_round = ['supply', 'maxSupply', 'marketCapUsd', 'priceUsd', 'changePercent24Hr', 'vwap24Hr']"
   ]
  },
  {
   "cell_type": "code",
   "execution_count": 6,
   "metadata": {},
   "outputs": [],
   "source": [
    "def transform(raw_data_json, cols_datatypes, cols_to_round):\n",
    "    \"\"\"\n",
    "    Create and return a raw dataset in the DataFrame format based on a JSON.\n",
    "    Here, the function is not automated to both the missing values and the rounding parts.\n",
    "    You need to hardcode it here how to handle each case.\n",
    "\n",
    "    Args:\n",
    "        raw_data_json: The raw json returned by the extraction function.\n",
    "        cols_datatypes: A dictionary of columns and the associated types you want for them.\n",
    "    Returns:\n",
    "        raw_normalized_data_df: a raw, normalized dataset in the DataFrame format.\n",
    "    \"\"\"    \n",
    "    \n",
    "    # 1) Data Normalization\n",
    "    # record_path = \"data\": path to list of records.\n",
    "    # sep = \".\": Nested records will generate names separated by 'sep'.\n",
    "    raw_normalized_data_df = pd.json_normalize(raw_data_json, record_path = \"data\", sep = '.') \n",
    "\n",
    "    # Assert that the transform function returns a pd.DataFrame\n",
    "    assert isinstance(raw_normalized_data_df, pd.DataFrame)\n",
    "    \n",
    "    # 2) Data Cleaning\n",
    "    # Inner Function to Convert Categorical to Numerical\n",
    "    def convert_cols_cat_to_num(df, cols_datatypes):\n",
    "        \"\"\"\n",
    "        Gets a dataframe with specific categorical columns and convert them into numerical columns. \n",
    "\n",
    "        Args:\n",
    "            df: The dataframe with the columns you want to convert.\n",
    "            cols_datatypes: A dictionary of columns and the associated types you want for them. \n",
    "\n",
    "        Returns:\n",
    "            Engine: A dataframe with columns converted to the types you want. \n",
    "        \"\"\"\n",
    "        for col, datatype in cols_datatypes.items():\n",
    "            if col in df.columns:\n",
    "                df[col] = df[col].astype(datatype)\n",
    "        return df\n",
    "    \n",
    "    # Converting Categorical to Numerical\n",
    "    converted_data_df = convert_cols_cat_to_num(raw_normalized_data_df, cols_datatypes)\n",
    "    # Save a copy\n",
    "    cleaned_data_df = converted_data_df.copy()\n",
    "    \n",
    "    # Handling Missing Values\n",
    "    cleaned_data_df[\"maxSupply\"] = cleaned_data_df[\"maxSupply\"].fillna(0)\n",
    "    cleaned_data_df[\"explorer\"] = cleaned_data_df[\"explorer\"].fillna('not available')    \n",
    "\n",
    "    # Inner function to round columns\n",
    "    # def round_to_two_decimal_places(number):\n",
    "    #     return round(number, 2)\n",
    "\n",
    "    # Rounding columns\n",
    "    # Note: 'applymap' applies a function that accepts and returns a scalar to every element of a DataFrame\n",
    "    cleaned_data_df[cols_to_round] = cleaned_data_df[cols_to_round].apply(lambda x: x.round(2))\n",
    "\n",
    "    return cleaned_data_df\n",
    "\n",
    "# Try-except block for the transform function\n",
    "try:\n",
    "    # Transform the raw_data_json into a cleaned and tabular dataframe\n",
    "    cleaned_data_df = transform(raw_data_json, cols_datatypes, cols_to_round)\n",
    "except:\n",
    "    print(\"There is an error with the transform function.\")"
   ]
  },
  {
   "cell_type": "code",
   "execution_count": 7,
   "metadata": {},
   "outputs": [
    {
     "name": "stdout",
     "output_type": "stream",
     "text": [
      "<class 'pandas.core.frame.DataFrame'>\n",
      "RangeIndex: 100 entries, 0 to 99\n",
      "Data columns (total 12 columns):\n",
      " #   Column             Non-Null Count  Dtype  \n",
      "---  ------             --------------  -----  \n",
      " 0   id                 100 non-null    object \n",
      " 1   rank               100 non-null    int64  \n",
      " 2   symbol             100 non-null    object \n",
      " 3   name               100 non-null    object \n",
      " 4   supply             100 non-null    float64\n",
      " 5   maxSupply          100 non-null    float64\n",
      " 6   marketCapUsd       100 non-null    float64\n",
      " 7   volumeUsd24Hr      100 non-null    float64\n",
      " 8   priceUsd           100 non-null    float64\n",
      " 9   changePercent24Hr  100 non-null    float64\n",
      " 10  vwap24Hr           100 non-null    float64\n",
      " 11  explorer           100 non-null    object \n",
      "dtypes: float64(7), int64(1), object(4)\n",
      "memory usage: 9.5+ KB\n"
     ]
    }
   ],
   "source": [
    "# Checking the cleaned dataset\n",
    "cleaned_data_df.info()"
   ]
  },
  {
   "cell_type": "code",
   "execution_count": 8,
   "metadata": {},
   "outputs": [
    {
     "data": {
      "text/html": [
       "<div>\n",
       "<style scoped>\n",
       "    .dataframe tbody tr th:only-of-type {\n",
       "        vertical-align: middle;\n",
       "    }\n",
       "\n",
       "    .dataframe tbody tr th {\n",
       "        vertical-align: top;\n",
       "    }\n",
       "\n",
       "    .dataframe thead th {\n",
       "        text-align: right;\n",
       "    }\n",
       "</style>\n",
       "<table border=\"1\" class=\"dataframe\">\n",
       "  <thead>\n",
       "    <tr style=\"text-align: right;\">\n",
       "      <th></th>\n",
       "      <th>id</th>\n",
       "      <th>rank</th>\n",
       "      <th>symbol</th>\n",
       "      <th>name</th>\n",
       "      <th>supply</th>\n",
       "      <th>maxSupply</th>\n",
       "      <th>marketCapUsd</th>\n",
       "      <th>volumeUsd24Hr</th>\n",
       "      <th>priceUsd</th>\n",
       "      <th>changePercent24Hr</th>\n",
       "      <th>vwap24Hr</th>\n",
       "      <th>explorer</th>\n",
       "    </tr>\n",
       "  </thead>\n",
       "  <tbody>\n",
       "    <tr>\n",
       "      <th>0</th>\n",
       "      <td>bitcoin</td>\n",
       "      <td>1</td>\n",
       "      <td>BTC</td>\n",
       "      <td>Bitcoin</td>\n",
       "      <td>1.970795e+07</td>\n",
       "      <td>21000000.0</td>\n",
       "      <td>1.397983e+12</td>\n",
       "      <td>1.021957e+10</td>\n",
       "      <td>70934.99</td>\n",
       "      <td>1.98</td>\n",
       "      <td>70672.92</td>\n",
       "      <td>https://blockchain.info/</td>\n",
       "    </tr>\n",
       "    <tr>\n",
       "      <th>1</th>\n",
       "      <td>ethereum</td>\n",
       "      <td>2</td>\n",
       "      <td>ETH</td>\n",
       "      <td>Ethereum</td>\n",
       "      <td>1.201484e+08</td>\n",
       "      <td>0.0</td>\n",
       "      <td>4.567601e+11</td>\n",
       "      <td>5.057888e+09</td>\n",
       "      <td>3801.63</td>\n",
       "      <td>0.60</td>\n",
       "      <td>3805.94</td>\n",
       "      <td>https://etherscan.io/</td>\n",
       "    </tr>\n",
       "    <tr>\n",
       "      <th>2</th>\n",
       "      <td>binance-coin</td>\n",
       "      <td>3</td>\n",
       "      <td>BNB</td>\n",
       "      <td>BNB</td>\n",
       "      <td>1.668011e+08</td>\n",
       "      <td>166801148.0</td>\n",
       "      <td>1.170575e+11</td>\n",
       "      <td>9.875909e+08</td>\n",
       "      <td>701.78</td>\n",
       "      <td>5.65</td>\n",
       "      <td>687.22</td>\n",
       "      <td>https://etherscan.io/token/0xB8c77482e45F1F44d...</td>\n",
       "    </tr>\n",
       "    <tr>\n",
       "      <th>3</th>\n",
       "      <td>tether</td>\n",
       "      <td>4</td>\n",
       "      <td>USDT</td>\n",
       "      <td>Tether</td>\n",
       "      <td>1.123168e+11</td>\n",
       "      <td>0.0</td>\n",
       "      <td>1.123437e+11</td>\n",
       "      <td>1.715550e+10</td>\n",
       "      <td>1.00</td>\n",
       "      <td>0.03</td>\n",
       "      <td>1.00</td>\n",
       "      <td>https://www.omniexplorer.info/asset/31</td>\n",
       "    </tr>\n",
       "    <tr>\n",
       "      <th>4</th>\n",
       "      <td>solana</td>\n",
       "      <td>5</td>\n",
       "      <td>SOL</td>\n",
       "      <td>Solana</td>\n",
       "      <td>4.599249e+08</td>\n",
       "      <td>0.0</td>\n",
       "      <td>7.943899e+10</td>\n",
       "      <td>7.635558e+08</td>\n",
       "      <td>172.72</td>\n",
       "      <td>3.75</td>\n",
       "      <td>171.41</td>\n",
       "      <td>https://explorer.solana.com/</td>\n",
       "    </tr>\n",
       "  </tbody>\n",
       "</table>\n",
       "</div>"
      ],
      "text/plain": [
       "             id  rank symbol      name        supply    maxSupply  \\\n",
       "0       bitcoin     1    BTC   Bitcoin  1.970795e+07   21000000.0   \n",
       "1      ethereum     2    ETH  Ethereum  1.201484e+08          0.0   \n",
       "2  binance-coin     3    BNB       BNB  1.668011e+08  166801148.0   \n",
       "3        tether     4   USDT    Tether  1.123168e+11          0.0   \n",
       "4        solana     5    SOL    Solana  4.599249e+08          0.0   \n",
       "\n",
       "   marketCapUsd  volumeUsd24Hr  priceUsd  changePercent24Hr  vwap24Hr  \\\n",
       "0  1.397983e+12   1.021957e+10  70934.99               1.98  70672.92   \n",
       "1  4.567601e+11   5.057888e+09   3801.63               0.60   3805.94   \n",
       "2  1.170575e+11   9.875909e+08    701.78               5.65    687.22   \n",
       "3  1.123437e+11   1.715550e+10      1.00               0.03      1.00   \n",
       "4  7.943899e+10   7.635558e+08    172.72               3.75    171.41   \n",
       "\n",
       "                                            explorer  \n",
       "0                           https://blockchain.info/  \n",
       "1                              https://etherscan.io/  \n",
       "2  https://etherscan.io/token/0xB8c77482e45F1F44d...  \n",
       "3             https://www.omniexplorer.info/asset/31  \n",
       "4                       https://explorer.solana.com/  "
      ]
     },
     "execution_count": 8,
     "metadata": {},
     "output_type": "execute_result"
    }
   ],
   "source": [
    "# Checking the first records\n",
    "cleaned_data_df.head()"
   ]
  },
  {
   "cell_type": "markdown",
   "metadata": {},
   "source": [
    "## [L] Load\n",
    "* Loading data to Postgres.\n",
    "    * Open a SQL connection with SQLAlchemy\n",
    "    * .to_sql()\n",
    "* Data Quality checks:\n",
    "    * Validate that data was correctly persisted in postgres\n",
    "        * Ensure it can be queried\n",
    "            * pd.read_sql()\n",
    "        * Make sure counts match\n",
    "        * Validate each row is present"
   ]
  },
  {
   "cell_type": "code",
   "execution_count": 9,
   "metadata": {},
   "outputs": [],
   "source": [
    "# Create a Function that created the SQL Engine based on SQLAlchemy\n",
    "def create_db_engine(connection_uri: str) -> Engine: # Arrow indicates that the function returns an object of type Engine\n",
    "    \"\"\"\n",
    "    Create and return a SQLAlchemy engine based on the provided connection URI.\n",
    "\n",
    "    Args:\n",
    "        connection_uri (str): The connection URI for the database.\n",
    "\n",
    "    Returns:\n",
    "        Engine: A SQLAlchemy engine connected to the specified database.\n",
    "    \"\"\"\n",
    "    db_engine = create_engine(connection_uri)\n",
    "    return db_engine"
   ]
  },
  {
   "cell_type": "code",
   "execution_count": 10,
   "metadata": {},
   "outputs": [],
   "source": [
    "# Load environment variables from .env file\n",
    "load_dotenv()\n",
    "\n",
    "# Retrieve individual components from environment variables\n",
    "user = os.getenv('POSTGRES_USER')\n",
    "password = os.getenv('POSTGRES_PASSWORD')\n",
    "host = os.getenv('POSTGRES_HOST')\n",
    "db_name = os.getenv('POSTGRES_DB')\n",
    "\n",
    "# Ensure the connection URI is retrieved successfully\n",
    "if not all([user, password, host, db_name]):\n",
    "    raise ValueError(\"One or more environment variables for the database connection are not set\")\n",
    "\n",
    "# Construct the connection URI\n",
    "connection_uri = f\"postgresql://{user}:{password}@{host}/{db_name}\"\n",
    "\n",
    "# Ensure the connection URI is retrieved successfully\n",
    "if connection_uri is None:\n",
    "    raise ValueError(\"DATABASE_URL environment variable is not set\")\n",
    "\n",
    "# Create the database engine\n",
    "db_engine = create_db_engine(connection_uri)\n",
    "\n",
    "# Close the engine connection\n",
    "db_engine.dispose()"
   ]
  },
  {
   "cell_type": "code",
   "execution_count": 11,
   "metadata": {},
   "outputs": [],
   "source": [
    "# Load/Persist data in Postgres\n",
    "def load(cleaned_data_df, con_engine):\n",
    "    \"\"\"\n",
    "    Load/persist data in PostgreSQL database.\n",
    "\n",
    "    Args:\n",
    "        raw_normalized_data_df (DataFrame): The DataFrame containing the data to be loaded.\n",
    "        con_engine (Engine): SQLAlchemy engine for database connection.\n",
    "\n",
    "    Returns:\n",
    "        None\n",
    "    \"\"\"\n",
    "    # to_sql: Write records stored in a DataFrame to a SQL database.\n",
    "    cleaned_data_df.to_sql(name=\"crypto_mkt\", con=con_engine, if_exists=\"replace\", index=False)"
   ]
  },
  {
   "cell_type": "markdown",
   "metadata": {},
   "source": [
    "Note:\n",
    "* In the Load function, we are basically checking if a table named 'crypto_mkt' exists. If it exists, the `'if_exists' = 'replace'`  argument will drop the table before inserting new values.\n",
    "* If you want something different, please check the [to_sql()](https://pandas.pydata.org/docs/reference/api/pandas.DataFrame.to_sql.html) documentation."
   ]
  },
  {
   "cell_type": "code",
   "execution_count": 12,
   "metadata": {},
   "outputs": [
    {
     "name": "stdout",
     "output_type": "stream",
     "text": [
      "             id  rank symbol      name        supply    maxSupply  \\\n",
      "0       bitcoin     1    BTC   Bitcoin  1.970795e+07   21000000.0   \n",
      "1      ethereum     2    ETH  Ethereum  1.201484e+08          0.0   \n",
      "2  binance-coin     3    BNB       BNB  1.668011e+08  166801148.0   \n",
      "3        tether     4   USDT    Tether  1.123168e+11          0.0   \n",
      "4        solana     5    SOL    Solana  4.599249e+08          0.0   \n",
      "\n",
      "   marketCapUsd  volumeUsd24Hr  priceUsd  changePercent24Hr  vwap24Hr  \\\n",
      "0  1.397983e+12   1.021957e+10  70934.99               1.98  70672.92   \n",
      "1  4.567601e+11   5.057888e+09   3801.63               0.60   3805.94   \n",
      "2  1.170575e+11   9.875909e+08    701.78               5.65    687.22   \n",
      "3  1.123437e+11   1.715550e+10      1.00               0.03      1.00   \n",
      "4  7.943899e+10   7.635558e+08    172.72               3.75    171.41   \n",
      "\n",
      "                                            explorer  \n",
      "0                           https://blockchain.info/  \n",
      "1                              https://etherscan.io/  \n",
      "2  https://etherscan.io/token/0xB8c77482e45F1F44d...  \n",
      "3             https://www.omniexplorer.info/asset/31  \n",
      "4                       https://explorer.solana.com/  \n"
     ]
    }
   ],
   "source": [
    "# Call the load function to load the transformed data to persistent storage\n",
    "load(cleaned_data_df, db_engine)\n",
    "\n",
    "# Query the data in the crypto_mkt table, check the head of the DataFrame\n",
    "to_validate = pd.read_sql(\"SELECT * FROM crypto_mkt\", con=db_engine)\n",
    "print(to_validate.head())"
   ]
  }
 ],
 "metadata": {
  "kernelspec": {
   "display_name": "Python 3",
   "language": "python",
   "name": "python3"
  },
  "language_info": {
   "codemirror_mode": {
    "name": "ipython",
    "version": 3
   },
   "file_extension": ".py",
   "mimetype": "text/x-python",
   "name": "python",
   "nbconvert_exporter": "python",
   "pygments_lexer": "ipython3",
   "version": "3.9.13"
  }
 },
 "nbformat": 4,
 "nbformat_minor": 2
}
