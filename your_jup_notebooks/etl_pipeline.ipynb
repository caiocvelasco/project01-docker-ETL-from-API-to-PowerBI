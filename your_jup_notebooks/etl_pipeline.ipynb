{
 "cells": [
  {
   "cell_type": "markdown",
   "metadata": {},
   "source": [
    "# Building an ETL Pipeline"
   ]
  },
  {
   "cell_type": "markdown",
   "metadata": {},
   "source": [
    "## Importing Libraries"
   ]
  },
  {
   "cell_type": "code",
   "execution_count": 1,
   "metadata": {},
   "outputs": [],
   "source": [
    "import pandas as pd # Data Transformation\n",
    "import requests     # Establishing connection with the web (API)\n",
    "import json         # Exposes an API familiar to users of the standard library marshal and pickle modules\n",
    "import pytest       # Makes it easy to write small, readable tests\n",
    "import os\n",
    "from dotenv import load_dotenv\n",
    "import sqlalchemy\n",
    "from sqlalchemy.engine import Engine, create_engine"
   ]
  },
  {
   "cell_type": "markdown",
   "metadata": {},
   "source": [
    "## [E] Extraction"
   ]
  },
  {
   "cell_type": "markdown",
   "metadata": {},
   "source": [
    "### API\n",
    "- Data Source: https://docs.coincap.io/#89deffa0-ab03-4e0a-8d92-637a857d2c91\n",
    "- Data comes in a JSON format (semi-structured data) from a 3rd Party"
   ]
  },
  {
   "cell_type": "markdown",
   "metadata": {},
   "source": [
    "### Extraction Function"
   ]
  },
  {
   "cell_type": "code",
   "execution_count": 2,
   "metadata": {},
   "outputs": [],
   "source": [
    "def extract(api_get_request_url):\n",
    "    \"\"\"\n",
    "    Create and return a raw JSON extracted from an external API via GET Request.\n",
    "\n",
    "    Args:\n",
    "        api_get_request_url: The URL for API's GET Request.\n",
    "\n",
    "    Returns:\n",
    "        raw_data_json: a raw JSON with the API data.\n",
    "    \"\"\"\n",
    "    \n",
    "    # GET Request. Package the request, send the request and catch the response r\n",
    "    r = requests.get(api_get_request_url)\n",
    "    \n",
    "    # Check if the request was successful\n",
    "    if r.status_code == 200:\n",
    "        # Extract JSON data from response: Decode the JSON data into a dictionary\n",
    "        raw_data_json = r.json()\n",
    "    else:\n",
    "        print(f\"Error. Non-success status code: {r.status_code}\")\n",
    "    \n",
    "    # Return the json\n",
    "    return raw_data_json\n",
    "\n",
    "# Call the extract() function\n",
    "raw_data_json = extract(\"https://api.coincap.io/v2/assets\")"
   ]
  },
  {
   "cell_type": "code",
   "execution_count": 3,
   "metadata": {},
   "outputs": [
    {
     "name": "stdout",
     "output_type": "stream",
     "text": [
      "Printing JSON names:\n",
      "data : [{'id': 'bitcoin', 'rank': '1', 'symbol': 'BTC', 'name': 'Bitcoin', 'supply': '19707950.0000000000000000', 'maxSupply': '21000000.0000000000000000', 'marketCapUsd': '1390226307046.3059559047385650', 'volumeUsd24Hr': '10207734021.5157522211242496', 'priceUsd': '70541.3960887005475407', 'changePercent24Hr': '0.8787348433905804', 'vwap24Hr': '70672.9205297634327363', 'explorer': 'https://blockchain.info/'}, {'id': 'ethereum', 'rank': '2', 'symbol': 'ETH', 'name': 'Ethereum', 'supply': '120148357.7907781000000000', 'maxSupply': None, 'marketCapUsd': '455630676304.5848406653649875', 'volumeUsd24Hr': '5061351248.5780339227273620', 'priceUsd': '3792.2339071666982246', 'changePercent24Hr': '0.0203820854466687', 'vwap24Hr': '3805.9410678215918472', 'explorer': 'https://etherscan.io/'}, {'id': 'binance-coin', 'rank': '3', 'symbol': 'BNB', 'name': 'BNB', 'supply': '166801148.0000000000000000', 'maxSupply': '166801148.0000000000000000', 'marketCapUsd': '116831581654.3020946137178984', 'volumeUsd24Hr': '1022158618.1804534759940317', 'priceUsd': '700.4243259423016358', 'changePercent24Hr': '6.4573434339875620', 'vwap24Hr': '687.2213157272743816', 'explorer': 'https://etherscan.io/token/0xB8c77482e45F1F44dE1745F52C74426C631bDD52'}, {'id': 'tether', 'rank': '4', 'symbol': 'USDT', 'name': 'Tether', 'supply': '112316773848.0826100000000000', 'maxSupply': None, 'marketCapUsd': '112385014909.7176567038711722', 'volumeUsd24Hr': '17193549619.7399164812345205', 'priceUsd': '1.0006075767607726', 'changePercent24Hr': '0.0481035219609412', 'vwap24Hr': '0.9994418187866353', 'explorer': 'https://www.omniexplorer.info/asset/31'}, {'id': 'solana', 'rank': '5', 'symbol': 'SOL', 'name': 'Solana', 'supply': '459924921.2833028400000000', 'maxSupply': None, 'marketCapUsd': '79053429941.4459902388452648', 'volumeUsd24Hr': '769109322.2255968751682270', 'priceUsd': '171.8833363516541277', 'changePercent24Hr': '3.1444534026737929', 'vwap24Hr': '171.4056131004012586', 'explorer': 'https://explorer.solana.com/'}, {'id': 'usd-coin', 'rank': '6', 'symbol': 'USDC', 'name': 'USDC', 'supply': '32378750476.2465700000000000', 'maxSupply': None, 'marketCapUsd': '32402383668.4454087789208159', 'volumeUsd24Hr': '1688528532.7794504795815650', 'priceUsd': '1.0007298982156886', 'changePercent24Hr': '0.0128077023683969', 'vwap24Hr': '0.9998310049393876', 'explorer': 'https://etherscan.io/token/0xa0b86991c6218b36c1d19d4a2e9eb0ce3606eb48'}, {'id': 'xrp', 'rank': '7', 'symbol': 'XRP', 'name': 'XRP', 'supply': '45404028640.0000000000000000', 'maxSupply': '100000000000.0000000000000000', 'marketCapUsd': '23932448208.2920988018150080', 'volumeUsd24Hr': '513928013.1121178010331297', 'priceUsd': '0.5270996632930522', 'changePercent24Hr': '-0.2161440665080221', 'vwap24Hr': '0.5268738129407885', 'explorer': 'https://xrpcharts.ripple.com/#/graph/'}, {'id': 'dogecoin', 'rank': '8', 'symbol': 'DOGE', 'name': 'Dogecoin', 'supply': '144584496383.7052000000000000', 'maxSupply': None, 'marketCapUsd': '23402565928.3968591076536696', 'volumeUsd24Hr': '333518756.6312620964929585', 'priceUsd': '0.1618608254255008', 'changePercent24Hr': '1.3574310406922492', 'vwap24Hr': '0.1619269467023239', 'explorer': 'http://dogechain.info/chain/Dogecoin'}, {'id': 'cardano', 'rank': '9', 'symbol': 'ADA', 'name': 'Cardano', 'supply': '35707269939.5540000000000000', 'maxSupply': '45000000000.0000000000000000', 'marketCapUsd': '16388464089.6879136593512420', 'volumeUsd24Hr': '96317315.0633985856827074', 'priceUsd': '0.4589671547959461', 'changePercent24Hr': '0.2582289185502228', 'vwap24Hr': '0.4613701556114404', 'explorer': 'https://cardanoexplorer.com/'}, {'id': 'shiba-inu', 'rank': '10', 'symbol': 'SHIB', 'name': 'Shiba Inu', 'supply': '589271803029900.4000000000000000', 'maxSupply': None, 'marketCapUsd': '15045029907.0250401692274961', 'volumeUsd24Hr': '361807353.0035049162118891', 'priceUsd': '0.0000255315625653', 'changePercent24Hr': '6.0662248659735378', 'vwap24Hr': '0.0000253686487936', 'explorer': 'https://etherscan.io/token/0x95ad61b0a150d79219dcf64e1e6cc01f0b64c4ce'}, {'id': 'avalanche', 'rank': '11', 'symbol': 'AVAX', 'name': 'Avalanche', 'supply': '393232626.0171106500000000', 'maxSupply': '715748719.0000000000000000', 'marketCapUsd': '14171752675.3348216670452684', 'volumeUsd24Hr': '120152829.1215482708807049', 'priceUsd': '36.0391069756205049', 'changePercent24Hr': '2.4791038772137909', 'vwap24Hr': '36.0344457079989345', 'explorer': 'https://avascan.info/'}, {'id': 'wrapped-bitcoin', 'rank': '12', 'symbol': 'WBTC', 'name': 'Wrapped Bitcoin', 'supply': '153235.7378324500000000', 'maxSupply': None, 'marketCapUsd': '10804964369.2694117601780857', 'volumeUsd24Hr': '107142843.7467038985172339', 'priceUsd': '70512.0393069383327932', 'changePercent24Hr': '0.8604924086294734', 'vwap24Hr': '70759.1150178823152891', 'explorer': 'https://etherscan.io/token/0x2260fac5e5542a773aa44fbcfedf7c193bc2c599'}, {'id': 'chainlink', 'rank': '13', 'symbol': 'LINK', 'name': 'Chainlink', 'supply': '587099970.4527867000000000', 'maxSupply': None, 'marketCapUsd': '10376846509.7588084943667824', 'volumeUsd24Hr': '164385162.6016110748267695', 'priceUsd': '17.6747522261939747', 'changePercent24Hr': '-0.4432930961209344', 'vwap24Hr': '17.7955563385640443', 'explorer': 'https://etherscan.io/token/0x514910771af9ca656af840dff83e8264ecf986ca'}, {'id': 'tron', 'rank': '14', 'symbol': 'TRX', 'name': 'TRON', 'supply': '87346473577.3712000000000000', 'maxSupply': None, 'marketCapUsd': '9991661200.9461901595501495', 'volumeUsd24Hr': '95889790.1376016808229597', 'priceUsd': '0.1143911229810052', 'changePercent24Hr': '0.2446099475613086', 'vwap24Hr': '0.1142672486926353', 'explorer': 'https://tronscan.org/#/'}, {'id': 'polkadot', 'rank': '15', 'symbol': 'DOT', 'name': 'Polkadot', 'supply': '1372229623.9256900000000000', 'maxSupply': None, 'marketCapUsd': '9856239221.6476551711789926', 'volumeUsd24Hr': '92149729.7599449083169419', 'priceUsd': '7.1826457101624251', 'changePercent24Hr': '1.8124885144237213', 'vwap24Hr': '7.1936192815128096', 'explorer': 'https://polkascan.io/polkadot'}, {'id': 'bitcoin-cash', 'rank': '16', 'symbol': 'BCH', 'name': 'Bitcoin Cash', 'supply': '19715293.7500000000000000', 'maxSupply': '21000000.0000000000000000', 'marketCapUsd': '9452863840.7405887541267288', 'volumeUsd24Hr': '105810227.4360618452675918', 'priceUsd': '479.4685770654869778', 'changePercent24Hr': '1.5992721627402587', 'vwap24Hr': '478.8177949500129976', 'explorer': 'https://blockchair.com/bitcoin-cash/blocks'}, {'id': 'near-protocol', 'rank': '17', 'symbol': 'NEAR', 'name': 'NEAR Protocol', 'supply': '1082557522.0000000000000000', 'maxSupply': None, 'marketCapUsd': '8131340373.2147795950942990', 'volumeUsd24Hr': '89679458.5095183929584607', 'priceUsd': '7.5112316971317295', 'changePercent24Hr': '3.7396624828235555', 'vwap24Hr': '7.4837130319585616', 'explorer': 'https://explorer.nearprotocol.com/'}, {'id': 'polygon', 'rank': '18', 'symbol': 'MATIC', 'name': 'Polygon', 'supply': '9897472464.0868050000000000', 'maxSupply': None, 'marketCapUsd': '7032290376.0205812015067699', 'volumeUsd24Hr': '60948200.8713103250703968', 'priceUsd': '0.7105137601076841', 'changePercent24Hr': '-0.2588662758980841', 'vwap24Hr': '0.7144127761803483', 'explorer': 'https://etherscan.io/token/0x7D1AfA7B718fb893dB30A3aBc0Cfc608AaCfeBB0'}, {'id': 'uniswap', 'rank': '19', 'symbol': 'UNI', 'name': 'Uniswap', 'supply': '599957294.7100000000000000', 'maxSupply': None, 'marketCapUsd': '6720155753.6639717828767255', 'volumeUsd24Hr': '411000913.4410157227462072', 'priceUsd': '11.2010568300736776', 'changePercent24Hr': '15.9362660496637719', 'vwap24Hr': '11.1367487206101759', 'explorer': 'https://etherscan.io/token/0x1f9840a85d5af5bf1d1762f925bdaddc4201f984'}, {'id': 'litecoin', 'rank': '20', 'symbol': 'LTC', 'name': 'Litecoin', 'supply': '74608362.3575049000000000', 'maxSupply': '84000000.0000000000000000', 'marketCapUsd': '6261734879.6954791537619237', 'volumeUsd24Hr': '155138622.1118502663777292', 'priceUsd': '83.9280568804176075', 'changePercent24Hr': '1.5500215791851124', 'vwap24Hr': '83.5328884089872769', 'explorer': 'http://explorer.litecoin.net/chain/Litecoin'}, {'id': 'internet-computer', 'rank': '21', 'symbol': 'ICP', 'name': 'Internet Computer', 'supply': '464458198.5703910600000000', 'maxSupply': None, 'marketCapUsd': '5719325495.5148334182548581', 'volumeUsd24Hr': '37946797.5463609710619454', 'priceUsd': '12.3139725235101859', 'changePercent24Hr': '-0.2716053282570885', 'vwap24Hr': '12.3453144197720001', 'explorer': 'https://www.dfinityexplorer.org/#/'}, {'id': 'unus-sed-leo', 'rank': '22', 'symbol': 'LEO', 'name': 'UNUS SED LEO', 'supply': '926270045.9000000000000000', 'maxSupply': None, 'marketCapUsd': '5520035252.5024568647847299', 'volumeUsd24Hr': '145760.0969234839512057', 'priceUsd': '5.9594232556003427', 'changePercent24Hr': '0.1350904526682726', 'vwap24Hr': '5.9433110395515361', 'explorer': 'https://eospark.com/account/bitfinexleo1'}, {'id': 'multi-collateral-dai', 'rank': '23', 'symbol': 'DAI', 'name': 'Multi Collateral DAI', 'supply': '5347888595.7464075000000000', 'maxSupply': None, 'marketCapUsd': '5352195501.8326148972835993', 'volumeUsd24Hr': '171432033.7856449780965834', 'priceUsd': '1.0008053470092165', 'changePercent24Hr': '0.1524888162205344', 'vwap24Hr': '0.9999755026967374', 'explorer': 'https://etherscan.io/token/0x89d24a6b4ccb1b6faa2625fe562bdd9a23260359'}, {'id': 'ethereum-classic', 'rank': '24', 'symbol': 'ETC', 'name': 'Ethereum Classic', 'supply': '147393000.9971825200000000', 'maxSupply': '210700000.0000000000000000', 'marketCapUsd': '4324477393.3131683560115258', 'volumeUsd24Hr': '68856388.8309328895869600', 'priceUsd': '29.3397743722975868', 'changePercent24Hr': '1.5434019315048079', 'vwap24Hr': '29.5514755742659505', 'explorer': 'http://gastracker.io/'}, {'id': 'render-token', 'rank': '25', 'symbol': 'RNDR', 'name': 'Render Token', 'supply': '369614008.1087959400000000', 'maxSupply': '536870912.0000000000000000', 'marketCapUsd': '3859361719.9929268929964595', 'volumeUsd24Hr': '11350309.7567442641473264', 'priceUsd': '10.4416002514085537', 'changePercent24Hr': '0.6676421343579958', 'vwap24Hr': '10.4647984592281344', 'explorer': 'https://etherscan.io/token/0x6de037ef9ad2725eb40118bb1702ebb27e4aeb24'}, {'id': 'filecoin', 'rank': '26', 'symbol': 'FIL', 'name': 'Filecoin', 'supply': '559906937.0000000000000000', 'maxSupply': None, 'marketCapUsd': '3338689135.8834273650267543', 'volumeUsd24Hr': '102454506.0432832638493605', 'priceUsd': '5.9629358296081039', 'changePercent24Hr': '1.6972177532916842', 'vwap24Hr': '5.9776070479084395', 'explorer': 'https://protocol.ai'}, {'id': 'stacks', 'rank': '27', 'symbol': 'STX', 'name': 'Stacks', 'supply': '1462785929.2107330000000000', 'maxSupply': '1818000000.0000000000000000', 'marketCapUsd': '3245133687.1273045856789082', 'volumeUsd24Hr': '58131132.0559907883769011', 'priceUsd': '2.2184611037913543', 'changePercent24Hr': '10.0459997210532723', 'vwap24Hr': '2.1561787017020236', 'explorer': 'https://explorer.xinfin.network/'}, {'id': 'stellar', 'rank': '28', 'symbol': 'XLM', 'name': 'Stellar', 'supply': '29039752374.5250050000000000', 'maxSupply': '50001806812.0000000000000000', 'marketCapUsd': '3093487043.7725729378763817', 'volumeUsd24Hr': '29690323.8535192755263112', 'priceUsd': '0.1065259442944259', 'changePercent24Hr': '0.7419998077379892', 'vwap24Hr': '0.1064452133234477', 'explorer': 'https://dashboard.stellar.org/'}, {'id': 'monero', 'rank': '29', 'symbol': 'XMR', 'name': 'Monero', 'supply': '18445963.5855500300000000', 'maxSupply': None, 'marketCapUsd': '3014548957.6190866300438134', 'volumeUsd24Hr': '46682067.2915696333270622', 'priceUsd': '163.4259410541494604', 'changePercent24Hr': '3.6826433940352460', 'vwap24Hr': '160.0439247234104852', 'explorer': 'http://moneroblocks.info/'}, {'id': 'crypto-com-coin', 'rank': '30', 'symbol': 'CRO', 'name': 'Crypto.com Coin', 'supply': '25263013692.0000000000000000', 'maxSupply': '30263013692.0000000000000000', 'marketCapUsd': '2953087856.1747677677854900', 'volumeUsd24Hr': '7670029.2139163061703687', 'priceUsd': '0.1168937282059075', 'changePercent24Hr': '7.3070888141263326', 'vwap24Hr': '0.1124898832398032', 'explorer': 'https://etherscan.io/token/0xa0b73e1ff0b80914ab6fe0444e65848c4c34450b'}, {'id': 'okb', 'rank': '31', 'symbol': 'OKB', 'name': 'OKB', 'supply': '60000000.0000000000000000', 'maxSupply': None, 'marketCapUsd': '2929107754.2265136520000000', 'volumeUsd24Hr': '501036.6395970295229500', 'priceUsd': '48.8184625704418942', 'changePercent24Hr': '2.0636542483486972', 'vwap24Hr': '48.6900665326322413', 'explorer': 'https://etherscan.io/token/0x75231f58b43240c9718dd58b4967c5114342a86c'}, {'id': 'arweave', 'rank': '32', 'symbol': 'AR', 'name': 'Arweave', 'supply': '65652466.0000000000000000', 'maxSupply': '66000000.0000000000000000', 'marketCapUsd': '2923871415.9198845207780698', 'volumeUsd24Hr': '46320247.0324000826920419', 'priceUsd': '44.5355916397700053', 'changePercent24Hr': '-3.4300924403786209', 'vwap24Hr': '45.5411818793046236', 'explorer': 'https://viewblock.io/arweave'}, {'id': 'the-graph', 'rank': '33', 'symbol': 'GRT', 'name': 'The Graph', 'supply': '9509671264.7660220000000000', 'maxSupply': None, 'marketCapUsd': '2848093944.0667596212765152', 'volumeUsd24Hr': '25212601.6552260435154622', 'priceUsd': '0.2994944688171442', 'changePercent24Hr': '-0.1702054755043590', 'vwap24Hr': '0.3003569692267089', 'explorer': 'https://etherscan.io/token/0xc944e90c64b2c07662a292be6244bdf05cda44a7'}, {'id': 'vechain', 'rank': '34', 'symbol': 'VET', 'name': 'VeChain', 'supply': '72714516834.0000000000000000', 'maxSupply': '86712634466.0000000000000000', 'marketCapUsd': '2539046921.4873997438387008', 'volumeUsd24Hr': '23427601.5606000340298351', 'priceUsd': '0.0349180195652512', 'changePercent24Hr': '2.3632257437392601', 'vwap24Hr': '0.0346040835982736', 'explorer': 'https://explore.veforge.com/'}, {'id': 'maker', 'rank': '35', 'symbol': 'MKR', 'name': 'Maker', 'supply': '927770.0324557000000000', 'maxSupply': '1005577.0000000000000000', 'marketCapUsd': '2465523724.0045173294465345', 'volumeUsd24Hr': '28383130.3902008383677707', 'priceUsd': '2657.4729057356607163', 'changePercent24Hr': '3.1007344110957056', 'vwap24Hr': '2636.2514814377809424', 'explorer': 'https://etherscan.io/token/Maker'}, {'id': 'fantom', 'rank': '36', 'symbol': 'FTM', 'name': 'Fantom', 'supply': '2803634835.5265927000000000', 'maxSupply': None, 'marketCapUsd': '2321682285.5313155281796491', 'volumeUsd24Hr': '68448879.3240870943344300', 'priceUsd': '0.8280972458010016', 'changePercent24Hr': '1.0308802004104154', 'vwap24Hr': '0.8360502194286011', 'explorer': 'https://etherscan.io/token/0x4e15361fd6b4bb609fa63c81a2be19d873717870'}, {'id': 'theta', 'rank': '37', 'symbol': 'THETA', 'name': 'THETA', 'supply': '1000000000.0000000000000000', 'maxSupply': '1000000000.0000000000000000', 'marketCapUsd': '2200054752.1661728000000000', 'volumeUsd24Hr': '11552838.7509581679486968', 'priceUsd': '2.2000547521661728', 'changePercent24Hr': '4.2258093472874275', 'vwap24Hr': '2.1730966088525054', 'explorer': 'https://explorer.thetatoken.org/'}, {'id': 'cosmos', 'rank': '38', 'symbol': 'ATOM', 'name': 'Cosmos', 'supply': '248453201.0000000000000000', 'maxSupply': None, 'marketCapUsd': '2131911782.3239816115991308', 'volumeUsd24Hr': '50672838.0715039044457495', 'priceUsd': '8.5807378361125708', 'changePercent24Hr': '1.7451431919358565', 'vwap24Hr': '8.5335454897201577', 'explorer': 'https://www.mintscan.io/'}, {'id': 'thorchain', 'rank': '39', 'symbol': 'RUNE', 'name': 'THORChain', 'supply': '334967874.0000000000000000', 'maxSupply': None, 'marketCapUsd': '2074594317.2092194388201854', 'volumeUsd24Hr': '53099882.8114694968360153', 'priceUsd': '6.1934127963842271', 'changePercent24Hr': '1.2165128106661535', 'vwap24Hr': '6.2207093780878485', 'explorer': 'https://explorer.binance.org/asset/RUNE-B1A'}, {'id': 'lido-dao', 'rank': '40', 'symbol': 'LDO', 'name': 'Lido DAO', 'supply': '892321246.9947464000000000', 'maxSupply': None, 'marketCapUsd': '2006190865.3263104620756990', 'volumeUsd24Hr': '4373670.1074397349787324', 'priceUsd': '2.2482831963073519', 'changePercent24Hr': '-2.4638584531511146', 'vwap24Hr': '2.3010887267040239', 'explorer': 'https://etherscan.io/token/0x5a98fcbea516cf06857215779fd812ca3bef1b32'}, {'id': 'injective-protocol', 'rank': '41', 'symbol': 'INJ', 'name': 'Injective', 'supply': '73005554.3300000000000000', 'maxSupply': '100000000.0000000000000000', 'marketCapUsd': '1907624293.8056284398838156', 'volumeUsd24Hr': '38759679.8427966140763218', 'priceUsd': '26.1298515066782103', 'changePercent24Hr': '4.1755979995662575', 'vwap24Hr': '25.9464413317193260', 'explorer': 'https://etherscan.io/token/0xe28b3b32b6c345a34ff64674606124dd5aceca30'}, {'id': 'fetch', 'rank': '42', 'symbol': 'FET', 'name': 'Fetch.ai', 'supply': '848193895.9129184000000000', 'maxSupply': None, 'marketCapUsd': '1816320036.5032400231386608', 'volumeUsd24Hr': '62819101.3023784160207626', 'priceUsd': '2.1413972032283009', 'changePercent24Hr': '0.8516841656635962', 'vwap24Hr': '2.1493099939419252', 'explorer': 'https://etherscan.io/token/0x1d287cc25dad7ccaf76a26bc660c5f7c8e2a05bd'}, {'id': 'algorand', 'rank': '43', 'symbol': 'ALGO', 'name': 'Algorand', 'supply': '8175360184.0828670000000000', 'maxSupply': '10000000000.0000000000000000', 'marketCapUsd': '1533068276.2120548129925808', 'volumeUsd24Hr': '27064511.3247775719842702', 'priceUsd': '0.1875230254927341', 'changePercent24Hr': '2.4127158380304475', 'vwap24Hr': '0.1864665179105806', 'explorer': 'https://algoexplorer.io/'}, {'id': 'aave', 'rank': '44', 'symbol': 'AAVE', 'name': 'Aave', 'supply': '14845425.2407286500000000', 'maxSupply': None, 'marketCapUsd': '1528286772.9323140307916285', 'volumeUsd24Hr': '26408138.1705818725945827', 'priceUsd': '102.9466484219957552', 'changePercent24Hr': '2.1592796949226560', 'vwap24Hr': '102.6699578548256920', 'explorer': 'https://etherscan.io/token/0x80fB784B7eD66730e8b1DBd9820aFD29931aab03'}, {'id': 'hedera-hashgraph', 'rank': '45', 'symbol': 'HBAR', 'name': 'Hedera Hashgraph', 'supply': '14832756028.0000000000000000', 'maxSupply': '50000000000.0000000000000000', 'marketCapUsd': '1517836032.0598094772182920', 'volumeUsd24Hr': '18867120.4081466701083935', 'priceUsd': '0.1023300072619390', 'changePercent24Hr': '1.2272875824778604', 'vwap24Hr': '0.1025009257460928', 'explorer': 'https://hash-hash.info/'}, {'id': 'gala', 'rank': '46', 'symbol': 'GALA', 'name': 'Gala', 'supply': '31570783817.9282500000000000', 'maxSupply': None, 'marketCapUsd': '1488304701.4076370338093100', 'volumeUsd24Hr': '77495200.5723450799969172', 'priceUsd': '0.0471418356284986', 'changePercent24Hr': '4.6709289344249971', 'vwap24Hr': '0.0465998590094336', 'explorer': 'https://ethplorer.io/es/address/0x15d4c048f83bd7e37d49ea4c83a07267ec4203da#chart=candlestick'}, {'id': 'flow', 'rank': '47', 'symbol': 'FLOW', 'name': 'Flow', 'supply': '1510362347.0000000000000000', 'maxSupply': None, 'marketCapUsd': '1406620194.5153753805160088', 'volumeUsd24Hr': '16318223.4182439871120093', 'priceUsd': '0.9313130702108104', 'changePercent24Hr': '5.7845985795802708', 'vwap24Hr': '0.9163454390437077', 'explorer': 'https://flowscan.org/'}, {'id': 'chiliz', 'rank': '48', 'symbol': 'CHZ', 'name': 'Chiliz', 'supply': '8888289967.1249620000000000', 'maxSupply': None, 'marketCapUsd': '1266206068.3845903702523658', 'volumeUsd24Hr': '41972857.5479770222474541', 'priceUsd': '0.1424577813131542', 'changePercent24Hr': '-2.6807846935469513', 'vwap24Hr': '0.1447867903611692', 'explorer': 'https://etherscan.io/token/0x3506424f91fd33084466f402d5d97f05f8e3b4af'}, {'id': 'axie-infinity', 'rank': '49', 'symbol': 'AXS', 'name': 'Axie Infinity', 'supply': '145582213.4503752600000000', 'maxSupply': None, 'marketCapUsd': '1245568778.4923333201891381', 'volumeUsd24Hr': '21443335.0921260197125049', 'priceUsd': '8.5557757982358983', 'changePercent24Hr': '5.5866183414899776', 'vwap24Hr': '8.2396619656706837', 'explorer': 'https://etherscan.io/token/0xf5d669627376ebd411e34b98f19c868c8aba5ada'}, {'id': 'bitcoin-sv', 'rank': '50', 'symbol': 'BSV', 'name': 'Bitcoin SV', 'supply': '19711175.0000000000000000', 'maxSupply': None, 'marketCapUsd': '1234758849.1754989297743050', 'volumeUsd24Hr': '3618600.9497295983618545', 'priceUsd': '62.6425796115908326', 'changePercent24Hr': '1.4811262855845513', 'vwap24Hr': '62.8917715865449157', 'explorer': 'https://bsvexplorer.io/'}, {'id': 'singularitynet', 'rank': '51', 'symbol': 'AGIX', 'name': 'SingularityNET', 'supply': '1284793189.6314576000000000', 'maxSupply': '2000000000.0000000000000000', 'marketCapUsd': '1160165499.4603747548412880', 'volumeUsd24Hr': '3031540.6729831905261490', 'priceUsd': '0.9029978589730599', 'changePercent24Hr': '1.4315361369952453', 'vwap24Hr': '0.9012597312128171', 'explorer': 'https://etherscan.io/token/0x8eb24319393716668d768dcec29356ae9cffe285'}, {'id': 'quant', 'rank': '52', 'symbol': 'QNT', 'name': 'Quant', 'supply': '12072738.0000000000000000', 'maxSupply': '14881364.0000000000000000', 'marketCapUsd': '1086554334.2265761827635546', 'volumeUsd24Hr': '8022565.6417302218678759', 'priceUsd': '90.0006555452935517', 'changePercent24Hr': '-0.3870681723983916', 'vwap24Hr': '90.7387904104137042', 'explorer': 'https://etherscan.io/token/0x4a220e6096b25eadb88358cb44068a3248254675'}, {'id': 'akash-network', 'rank': '53', 'symbol': 'AKT', 'name': 'Akash Network', 'supply': '239325651.2756240000000000', 'maxSupply': '388539008.0000000000000000', 'marketCapUsd': '1077169778.0120857293996576', 'volumeUsd24Hr': '4854451.2323728345678941', 'priceUsd': '4.5008538460908329', 'changePercent24Hr': '3.8321366286809593', 'vwap24Hr': '4.4663838567263738', 'explorer': 'https://akash.bigdipper.live/'}, {'id': 'neo', 'rank': '54', 'symbol': 'NEO', 'name': 'Neo', 'supply': '70538831.0000000000000000', 'maxSupply': '100000000.0000000000000000', 'marketCapUsd': '1071570524.4602978087988564', 'volumeUsd24Hr': '11670388.3944334269087270', 'priceUsd': '15.1912146723880044', 'changePercent24Hr': '1.3991163446466703', 'vwap24Hr': '15.2000518436563347', 'explorer': 'https://neotracker.io'}, {'id': 'the-sandbox', 'rank': '55', 'symbol': 'SAND', 'name': 'The Sandbox', 'supply': '2265731926.2233224000000000', 'maxSupply': None, 'marketCapUsd': '1061083494.5585415677627449', 'volumeUsd24Hr': '26037665.8532335006463759', 'priceUsd': '0.4683181987585038', 'changePercent24Hr': '2.7486776007340225', 'vwap24Hr': '0.4628898526014886', 'explorer': 'https://etherscan.io/token/0x3845badAde8e6dFF049820680d1F14bD3903a5d0'}, {'id': 'kucoin-token', 'rank': '56', 'symbol': 'KCS', 'name': 'KuCoin Token', 'supply': '95642961.2885607500000000', 'maxSupply': '170118638.0000000000000000', 'marketCapUsd': '966006222.3973635663189305', 'volumeUsd24Hr': '706932.7842688251882115', 'priceUsd': '10.1001287432209762', 'changePercent24Hr': '0.2153002427986778', 'vwap24Hr': '10.0887011384645296', 'explorer': 'https://etherscan.io/token/0xf34960d9d60be18cc1d5afc1a6f012a723a28811'}, {'id': 'mina', 'rank': '57', 'symbol': 'MINA', 'name': 'Mina', 'supply': '1115997009.8400393000000000', 'maxSupply': None, 'marketCapUsd': '962672656.7413796480117912', 'volumeUsd24Hr': '10066591.0028301162636026', 'priceUsd': '0.8626122187185463', 'changePercent24Hr': '2.2599286214925522', 'vwap24Hr': '0.8585390353088704', 'explorer': 'https://minaexplorer.com/'}, {'id': 'elrond-egld', 'rank': '58', 'symbol': 'EGLD', 'name': 'MultiversX', 'supply': '24184559.1898415400000000', 'maxSupply': '31415926.0000000000000000', 'marketCapUsd': '952949683.2986606531709013', 'volumeUsd24Hr': '16315916.7960838674324776', 'priceUsd': '39.4032273161686057', 'changePercent24Hr': '0.5094347152782471', 'vwap24Hr': '39.4494363286679052', 'explorer': 'https://explorer.elrond.com/'}, {'id': 'tezos', 'rank': '59', 'symbol': 'XTZ', 'name': 'Tezos', 'supply': '984330137.3620110000000000', 'maxSupply': None, 'marketCapUsd': '933231562.7173087886156561', 'volumeUsd24Hr': '19096091.7645618540030811', 'priceUsd': '0.9480879709914749', 'changePercent24Hr': '1.3805795685454048', 'vwap24Hr': '0.9484808505871234', 'explorer': 'https://tzkt.io/'}, {'id': 'pendle', 'rank': '60', 'symbol': 'PENDLE', 'name': 'Pendle', 'supply': '154274800.2480423500000000', 'maxSupply': None, 'marketCapUsd': '933022482.6580696275257124', 'volumeUsd24Hr': '2626212.1863241971552085', 'priceUsd': '6.0477957589830624', 'changePercent24Hr': '-1.2366010087143441', 'vwap24Hr': '6.1355737549334404', 'explorer': 'https://etherscan.io/token/0x808507121b80c02388fad14726482e061b8da827'}, {'id': 'ecash', 'rank': '61', 'symbol': 'XEC', 'name': 'eCash', 'supply': '19711432798092.0000000000000000', 'maxSupply': '21000000000000.0000000000000000', 'marketCapUsd': '922433638.5572368383390816', 'volumeUsd24Hr': '4997181.5646343566166616', 'priceUsd': '0.0000467968842248', 'changePercent24Hr': '1.9981103253617105', 'vwap24Hr': '0.0000468362689140', 'explorer': 'https://explorer.bitcoinabc.org/'}, {'id': 'eos', 'rank': '62', 'symbol': 'EOS', 'name': 'EOS', 'supply': '1127540931.1325000000000000', 'maxSupply': None, 'marketCapUsd': '905575015.1092045616080423', 'volumeUsd24Hr': '57001652.9765645350695823', 'priceUsd': '0.8031415890149963', 'changePercent24Hr': '0.1589396422815804', 'vwap24Hr': '0.8081352233649663', 'explorer': 'https://bloks.io/'}, {'id': 'conflux-network', 'rank': '63', 'symbol': 'CFX', 'name': 'Conflux', 'supply': '4044948533.4600000000000000', 'maxSupply': None, 'marketCapUsd': '904013825.5130336818925611', 'volumeUsd24Hr': '14095094.5852338181553154', 'priceUsd': '0.2234920464463243', 'changePercent24Hr': '2.2531800034254053', 'vwap24Hr': '0.2257340256140095', 'explorer': 'http://www.confluxscan.io/'}, {'id': 'decentraland', 'rank': '64', 'symbol': 'MANA', 'name': 'Decentraland', 'supply': '1908319865.3915880000000000', 'maxSupply': None, 'marketCapUsd': '892487038.6791057460142367', 'volumeUsd24Hr': '14002867.0638599753122599', 'priceUsd': '0.4676820981979177', 'changePercent24Hr': '1.3890398221871260', 'vwap24Hr': '0.4664664629813326', 'explorer': 'https://etherscan.io/token/decentraland'}, {'id': 'gnosis-gno', 'rank': '65', 'symbol': 'GNO', 'name': 'Gnosis', 'supply': '2589588.0000000000000000', 'maxSupply': '3000000.0000000000000000', 'marketCapUsd': '861186951.0100065246088608', 'volumeUsd24Hr': '9844296.4091398341096168', 'priceUsd': '332.5575153306265416', 'changePercent24Hr': '0.9681489707241775', 'vwap24Hr': '330.6765093457733915', 'explorer': 'https://etherscan.io/token/Gnosis'}, {'id': 'aioz-network', 'rank': '66', 'symbol': 'AIOZ', 'name': 'AIOZ Network', 'supply': '1098367146.0383960000000000', 'maxSupply': None, 'marketCapUsd': '830234645.9222270807467140', 'volumeUsd24Hr': '2642812.0884912457054640', 'priceUsd': '0.7558808080856456', 'changePercent24Hr': '5.1510370038864622', 'vwap24Hr': '0.7538951159588693', 'explorer': 'https://etherscan.io/token/0x626e8036deb333b408be468f951bdb42433cbf18'}, {'id': 'gatetoken', 'rank': '67', 'symbol': 'GT', 'name': 'GateToken', 'supply': '93240300.3813759800000000', 'maxSupply': None, 'marketCapUsd': '827735733.8281362459872170', 'volumeUsd24Hr': '6707173.0644311672118869', 'priceUsd': '8.8774460232591655', 'changePercent24Hr': '5.7066706005786893', 'vwap24Hr': '8.8422828504960781', 'explorer': None}, {'id': 'pancakeswap', 'rank': '68', 'symbol': 'CAKE', 'name': 'PancakeSwap', 'supply': '266320791.5881531500000000', 'maxSupply': '450000000.0000000000000000', 'marketCapUsd': '827638845.6662867079084550', 'volumeUsd24Hr': '80461643.9056882660431616', 'priceUsd': '3.1076764256024496', 'changePercent24Hr': '12.3200495504706299', 'vwap24Hr': '3.0738832409256645', 'explorer': 'https://bscscan.com/token/0x0e09fabb73bd3ade0a17ecc321fd13a19e81ce82'}, {'id': 'nexo', 'rank': '69', 'symbol': 'NEXO', 'name': 'Nexo', 'supply': '560000011.0000000000000000', 'maxSupply': None, 'marketCapUsd': '820510571.5420488644172315', 'volumeUsd24Hr': '601969.3672195373102749', 'priceUsd': '1.4651974204015665', 'changePercent24Hr': '4.6663615409432919', 'vwap24Hr': '1.4601136682870505', 'explorer': 'https://etherscan.io/token/0xb62132e35a6c13ee1ee0f84dc5d40bad8d815206'}, {'id': 'klaytn', 'rank': '70', 'symbol': 'KLAY', 'name': 'Klaytn', 'supply': '3692764216.8640532000000000', 'maxSupply': None, 'marketCapUsd': '788076564.4558205454198894', 'volumeUsd24Hr': '3983154.3011511011037454', 'priceUsd': '0.2134110162942020', 'changePercent24Hr': '-2.2912675717598205', 'vwap24Hr': '0.2167666764543592', 'explorer': 'https://scope.klaytn.com/blocks'}, {'id': 'dexe', 'rank': '71', 'symbol': 'DEXE', 'name': 'DeXe', 'supply': '57103082.8341114900000000', 'maxSupply': '98942301.0000000000000000', 'marketCapUsd': '780639604.2590001507220638', 'volumeUsd24Hr': '2365915.6401790122275949', 'priceUsd': '13.6707085767473120', 'changePercent24Hr': '3.6256321593625913', 'vwap24Hr': '13.3798916131940226', 'explorer': 'https://etherscan.io/token/0xde4EE8057785A7e8e800Db58F9784845A5C2Cbd6'}, {'id': 'oasis-network', 'rank': '72', 'symbol': 'ROSE', 'name': 'Oasis', 'supply': '6713599876.0000000000000000', 'maxSupply': None, 'marketCapUsd': '774133448.4427973140372288', 'volumeUsd24Hr': '16316658.0582632369552631', 'priceUsd': '0.1153082493358288', 'changePercent24Hr': '1.9012746732094756', 'vwap24Hr': '0.1154564361998507', 'explorer': 'https://www.oasisscan.com/'}, {'id': 'nervos-network', 'rank': '73', 'symbol': 'CKB', 'name': 'Nervos Network', 'supply': '44295742424.4981900000000000', 'maxSupply': None, 'marketCapUsd': '773059285.0259155386161797', 'volumeUsd24Hr': '116083818.3692046547783854', 'priceUsd': '0.0174522254896978', 'changePercent24Hr': '12.2443689594984644', 'vwap24Hr': '0.0181777002543673', 'explorer': 'https://explorer.nervos.org/'}, {'id': 'iota', 'rank': '74', 'symbol': 'IOTA', 'name': 'IOTA', 'supply': '3286918475.0000000000000000', 'maxSupply': None, 'marketCapUsd': '755354955.3649376294523250', 'volumeUsd24Hr': '14280310.0539607435345053', 'priceUsd': '0.2298064162862870', 'changePercent24Hr': '2.3371007074253702', 'vwap24Hr': '0.2331296130035518', 'explorer': 'https://thetangle.org/'}, {'id': 'kava', 'rank': '75', 'symbol': 'KAVA', 'name': 'Kava', 'supply': '1082856238.0000000000000000', 'maxSupply': '1082860679.0000000000000000', 'marketCapUsd': '747329835.2895029339788370', 'volumeUsd24Hr': '6432005.1781648253280180', 'priceUsd': '0.6901468625879615', 'changePercent24Hr': '4.6393429576718344', 'vwap24Hr': '0.6793393517256424', 'explorer': 'https://www.mintscan.io/kava'}, {'id': 'livepeer', 'rank': '76', 'symbol': 'LPT', 'name': 'Livepeer', 'supply': '32615411.2951117200000000', 'maxSupply': None, 'marketCapUsd': '694673536.6702647651700835', 'volumeUsd24Hr': '18248129.3057810453679862', 'priceUsd': '21.2989353525147765', 'changePercent24Hr': '-2.4099119365349355', 'vwap24Hr': '21.6477427605184285', 'explorer': 'https://explorer.livepeer.org/'}, {'id': 'synthetix-network-token', 'rank': '77', 'symbol': 'SNX', 'name': 'Synthetix', 'supply': '233716733.4900000000000000', 'maxSupply': '212424133.0000000000000000', 'marketCapUsd': '650671710.6355846402762643', 'volumeUsd24Hr': '12770024.5698331793354877', 'priceUsd': '2.7840185035934743', 'changePercent24Hr': '4.5883012692725416', 'vwap24Hr': '2.7483641188550765', 'explorer': 'https://etherscan.io/token/0xc011a72400e58ecd99ee497cf89e3775d4bd732f'}, {'id': 'helium', 'rank': '78', 'symbol': 'HNT', 'name': 'Helium', 'supply': '160875441.8242133300000000', 'maxSupply': None, 'marketCapUsd': '646834263.0345506355553352', 'volumeUsd24Hr': '7293003.1898478652956085', 'priceUsd': '4.0207147573297029', 'changePercent24Hr': '-1.2902618807415182', 'vwap24Hr': '4.0688100352950609', 'explorer': 'https://explorer.helium.com/'}, {'id': 'theta-fuel', 'rank': '79', 'symbol': 'TFUEL', 'name': 'Theta Fuel', 'supply': '6570829972.0000000000000000', 'maxSupply': None, 'marketCapUsd': '622702171.2046319070945576', 'volumeUsd24Hr': '1796889.3449911524380070', 'priceUsd': '0.0947676585542658', 'changePercent24Hr': '4.0761762446320465', 'vwap24Hr': '0.0937015122349277', 'explorer': 'https://explorer.thetatoken.org/'}, {'id': 'wootrade', 'rank': '80', 'symbol': 'WOO', 'name': 'WOO', 'supply': '1874845632.7667956000000000', 'maxSupply': None, 'marketCapUsd': '614609593.6854019957742455', 'volumeUsd24Hr': '12183389.6738111133999062', 'priceUsd': '0.3278187723532174', 'changePercent24Hr': '2.3232321340599723', 'vwap24Hr': '0.3278764724778403', 'explorer': 'https://etherscan.io/token/0x4691937a7508860f876c9c0a2a617e7d9e945d4b'}, {'id': 'iotex', 'rank': '81', 'symbol': 'IOTX', 'name': 'IoTeX', 'supply': '9441378955.0000000000000000', 'maxSupply': '10000000000.0000000000000000', 'marketCapUsd': '579580001.3716444716697795', 'volumeUsd24Hr': '8639290.2981674240146245', 'priceUsd': '0.0613872194023849', 'changePercent24Hr': '4.0224540078987270', 'vwap24Hr': '0.0614515543272422', 'explorer': 'https://etherscan.io/token/0x6fb3e0a217407efff7ca062d46c26e5d60a14d69'}, {'id': '1inch', 'rank': '82', 'symbol': '1INCH', 'name': '1inch Network', 'supply': '1186234881.6612947000000000', 'maxSupply': None, 'marketCapUsd': '574742308.8089601995099382', 'volumeUsd24Hr': '10910578.5435468320799366', 'priceUsd': '0.4845097018257015', 'changePercent24Hr': '3.0681610894606359', 'vwap24Hr': '0.4794651254212682', 'explorer': 'https://etherscan.io/token/0x111111111117dc0aa78b770fa6a738034120c302'}, {'id': 'trust-wallet-token', 'rank': '83', 'symbol': 'TWT', 'name': 'Trust Wallet Token', 'supply': '416649900.0000000000000000', 'maxSupply': None, 'marketCapUsd': '573488202.7215359852457600', 'volumeUsd24Hr': '16500691.7799253131206045', 'priceUsd': '1.3764270739571424', 'changePercent24Hr': '8.5567731848755151', 'vwap24Hr': '1.3589212280694793', 'explorer': 'https://explorer.binance.org/asset/TWT-8C2'}, {'id': 'curve-dao-token', 'rank': '84', 'symbol': 'CRV', 'name': 'Curve DAO Token', 'supply': '1232452359.0000000000000000', 'maxSupply': None, 'marketCapUsd': '567206039.6611240931090217', 'volumeUsd24Hr': '4717431.7331377861933982', 'priceUsd': '0.4602255296272463', 'changePercent24Hr': '-1.6150432378137612', 'vwap24Hr': '0.4660058474573448', 'explorer': 'https://etherscan.io/token/0xD533a949740bb3306d119CC777fa900bA034cd52'}, {'id': 'superfarm', 'rank': '85', 'symbol': 'SUPER', 'name': 'SuperVerse', 'supply': '487776093.4169172600000000', 'maxSupply': '1000000000.0000000000000000', 'marketCapUsd': '536536395.0598944648155975', 'volumeUsd24Hr': '6390431.8288465210597398', 'priceUsd': '1.0999645171238441', 'changePercent24Hr': '7.2762135755631706', 'vwap24Hr': '1.0895064133611276', 'explorer': 'https://etherscan.io/token/0xe53ec727dbdeb9e2d5456c3be40cff031ab40a55'}, {'id': 'ftx-token', 'rank': '86', 'symbol': 'FTT', 'name': 'FTX Token', 'supply': '328895103.8132070000000000', 'maxSupply': None, 'marketCapUsd': '525257806.9032638336540205', 'volumeUsd24Hr': '13005924.7323777609195397', 'priceUsd': '1.5970374773398246', 'changePercent24Hr': '2.2560924841802585', 'vwap24Hr': '1.6087314627916099', 'explorer': 'https://etherscan.io/token/0x50d1c9771902476076ecfc8b2a83ad6b9355a4c9'}, {'id': 'nxm', 'rank': '87', 'symbol': 'NXM', 'name': 'NXM', 'supply': '6594067.8412913900000000', 'maxSupply': None, 'marketCapUsd': '521637092.4247118462942488', 'volumeUsd24Hr': '7827736.3947262399740527', 'priceUsd': '79.1070254325065944', 'changePercent24Hr': '-1.4683351225578412', 'vwap24Hr': '79.9960363952998903', 'explorer': 'https://etherscan.io/token/0xd7c49cee7e9188cca6ad8ff264c1da2e69d4cf3b'}, {'id': 'ocean-protocol', 'rank': '88', 'symbol': 'OCEAN', 'name': 'Ocean Protocol', 'supply': '568381102.7486407000000000', 'maxSupply': '1410000000.0000000000000000', 'marketCapUsd': '514500724.2207686097860442', 'volumeUsd24Hr': '6159399.5145327792621540', 'priceUsd': '0.9052037826956045', 'changePercent24Hr': '0.4171979646587173', 'vwap24Hr': '0.9086355545492214', 'explorer': 'https://etherscan.io/token/0x7AFeBBB46fDb47ed17b22ed075Cde2447694fB9e'}, {'id': 'golem-network-tokens', 'rank': '89', 'symbol': 'GLM', 'name': 'Golem', 'supply': '1000000000.0000000000000000', 'maxSupply': None, 'marketCapUsd': '506290038.6660831000000000', 'volumeUsd24Hr': '681221.2453599054992938', 'priceUsd': '0.5062900386660831', 'changePercent24Hr': '8.2662888794911732', 'vwap24Hr': '0.4938278149497876', 'explorer': 'https://etherscan.io/token/Golem'}, {'id': 'trueusd', 'rank': '90', 'symbol': 'TUSD', 'name': 'TrueUSD', 'supply': '498201479.0100000000000000', 'maxSupply': None, 'marketCapUsd': '498249646.9461899476767804', 'volumeUsd24Hr': '8005129.7198600664823598', 'priceUsd': '1.0000966836475188', 'changePercent24Hr': '-0.0099381612433227', 'vwap24Hr': '1.0002020656020722', 'explorer': 'https://etherscan.io/token/0x8dd5fbce2f6a956c3022ba3663759011dd51e73e'}, {'id': 'compound', 'rank': '91', 'symbol': 'COMP', 'name': 'Compound', 'supply': '8324365.2581172300000000', 'maxSupply': None, 'marketCapUsd': '495641448.3445975073973202', 'volumeUsd24Hr': '19210145.5498825246127168', 'priceUsd': '59.5410500351710432', 'changePercent24Hr': '0.9327229113663074', 'vwap24Hr': '59.8337282737747337', 'explorer': 'https://etherscan.io/token/0xc00e94cb662c3520282e6f5717214004a7f26888'}, {'id': 'wemix', 'rank': '92', 'symbol': 'WEMIX', 'name': 'WEMIX', 'supply': '361826511.2253543000000000', 'maxSupply': '980000000.0000000000000000', 'marketCapUsd': '492649552.1206975549646435', 'volumeUsd24Hr': '1371261.7510579461262867', 'priceUsd': '1.3615628950247471', 'changePercent24Hr': '-0.0182817868860341', 'vwap24Hr': '1.3728385303230744', 'explorer': 'https://scope.klaytn.com/token/0x5096db80b21ef45230c9e423c373f1fc9c0198dd?tabId=kctTransfer'}, {'id': 'xinfin-network', 'rank': '93', 'symbol': 'XDC', 'name': 'XinFin Network', 'supply': '12293293518.5500000000000000', 'maxSupply': None, 'marketCapUsd': '484291912.2456619478495209', 'volumeUsd24Hr': '1317152.3627665667674546', 'priceUsd': '0.0393948059171359', 'changePercent24Hr': '2.0960635426213600', 'vwap24Hr': '0.0365635208886023', 'explorer': 'https://etherscan.io/token/0x41ab1b6fcbb2fa9dced81acbdec13ea6315f2bf2'}, {'id': 'raydium', 'rank': '94', 'symbol': 'RAY', 'name': 'Raydium', 'supply': '262842336.7973760000000000', 'maxSupply': None, 'marketCapUsd': '478671263.8894780793006067', 'volumeUsd24Hr': '9141787.2278520100579266', 'priceUsd': '1.8211345619655012', 'changePercent24Hr': '3.1428059693367341', 'vwap24Hr': '1.8018727965626724', 'explorer': 'https://explorer.solana.com/address/4k3Dyjzvzp8eMZWUXbBCjEvwSkkk59S5iCNLY3QrkX6R'}, {'id': 'mantra-dao', 'rank': '95', 'symbol': 'OM', 'name': 'MANTRA DAO', 'supply': '500205033.1781248500000000', 'maxSupply': '888888888.0000000000000000', 'marketCapUsd': '463576702.8856737710099293', 'volumeUsd24Hr': '33855130.3405865913426778', 'priceUsd': '0.9267733671935932', 'changePercent24Hr': '2.8137002172486665', 'vwap24Hr': '0.9440208644170255', 'explorer': 'https://etherscan.io/token/0x3593d125a4f7849a1b059e64f4517a86dd60c95d'}, {'id': '0x', 'rank': '96', 'symbol': 'ZRX', 'name': '0x Protocol', 'supply': '847496054.8027713000000000', 'maxSupply': '1000000000.0000000000000000', 'marketCapUsd': '456939473.0027980090508575', 'volumeUsd24Hr': '12010400.0311133404003709', 'priceUsd': '0.5391641299252262', 'changePercent24Hr': '6.3653977600075258', 'vwap24Hr': '0.5272977685472120', 'explorer': 'https://etherscan.io/token/ZRX'}, {'id': 'celo', 'rank': '97', 'symbol': 'CELO', 'name': 'Celo', 'supply': '539537130.0000000000000000', 'maxSupply': '1000000000.0000000000000000', 'marketCapUsd': '445997738.4346841410681650', 'volumeUsd24Hr': '3030402.8504589322290153', 'priceUsd': '0.8266302977789205', 'changePercent24Hr': '0.4740608905381696', 'vwap24Hr': '0.8316009625159600', 'explorer': 'https://explorer.celo.org/blocks'}, {'id': 'enjin-coin', 'rank': '98', 'symbol': 'ENJ', 'name': 'Enjin Coin', 'supply': '1467617220.1923869000000000', 'maxSupply': None, 'marketCapUsd': '443457053.7968373692944464', 'volumeUsd24Hr': '14034510.2756199418675403', 'priceUsd': '0.3021612500149770', 'changePercent24Hr': '0.9804337333037152', 'vwap24Hr': '0.2981143003721081', 'explorer': 'https://etherscan.io/token/0xf629cbd94d3791c9250152bd8dfbdf380e2a3b9c'}, {'id': 'holo', 'rank': '99', 'symbol': 'HOT', 'name': 'Holo', 'supply': '173416737599.1556700000000000', 'maxSupply': None, 'marketCapUsd': '442234305.0161188182621717', 'volumeUsd24Hr': '3291032.2085957817939165', 'priceUsd': '0.0025501246946435', 'changePercent24Hr': '2.0901990697156409', 'vwap24Hr': '0.0025563408764025', 'explorer': 'https://etherscan.io/token/0x6c6ee5e31d828de241282b9606c8e98ea48526e2'}, {'id': 'zilliqa', 'rank': '100', 'symbol': 'ZIL', 'name': 'Zilliqa', 'supply': '18466564812.1682550000000000', 'maxSupply': '21000000000.0000000000000000', 'marketCapUsd': '434540871.8523547734524412', 'volumeUsd24Hr': '6459038.1788912080750221', 'priceUsd': '0.0235312239321317', 'changePercent24Hr': '1.1636744556582177', 'vwap24Hr': '0.0235790349511436', 'explorer': 'https://etherscan.io/token/0x05f4a42e251f2d52b8ed15e9fedaacfcef1fad27'}]\n",
      "timestamp : 1717597355906\n"
     ]
    }
   ],
   "source": [
    "# Quick visualization\n",
    "print(\"Printing JSON names:\")\n",
    "for key, value in raw_data_json.items():\n",
    "    print(key, \":\", raw_data_json[key])"
   ]
  },
  {
   "cell_type": "markdown",
   "metadata": {},
   "source": [
    "## [T] Transformation\n",
    "* Exploring JSON Structure\n",
    "* Data Normalization\n",
    "    * Transforming the JSON into a table (as a Dataframe)\n",
    "* Data Exploration & Cleaning\n",
    "    * Check for: Missing Data, Data Types, Rounding needs."
   ]
  },
  {
   "cell_type": "markdown",
   "metadata": {},
   "source": [
    "### Exploring JSON Structure\n",
    "* Exploring the JSON name-value pairs\n"
   ]
  },
  {
   "cell_type": "code",
   "execution_count": 4,
   "metadata": {},
   "outputs": [
    {
     "name": "stdout",
     "output_type": "stream",
     "text": [
      "This is the Json's type from the API request: <class 'dict'>\n",
      "It's a dict, so let's check how many keys it has: 2\n",
      "Let's print both keys: ['data', 'timestamp']\n",
      "-> data : [{'id': 'bitcoin', 'rank': '1', 'symbol': 'BTC', 'name': 'Bitcoin', 'supply': '19707950.0000000000000000', 'maxSupply': '21000000.0000000000000000', 'marketCapUsd': '1390226307046.3059559047385650', 'volumeUsd24Hr': '10207734021.5157522211242496', 'priceUsd': '70541.3960887005475407', 'changePercent24Hr': '0.8787348433905804', 'vwap24Hr': '70672.9205297634327363', 'explorer': 'https://blockchain.info/'}, {'id': 'ethereum', 'rank': '2', 'symbol': 'ETH', 'name': 'Ethereum', 'supply': '120148357.7907781000000000', 'maxSupply': None, 'marketCapUsd': '455630676304.5848406653649875', 'volumeUsd24Hr': '5061351248.5780339227273620', 'priceUsd': '3792.2339071666982246', 'changePercent24Hr': '0.0203820854466687', 'vwap24Hr': '3805.9410678215918472', 'explorer': 'https://etherscan.io/'}, {'id': 'binance-coin', 'rank': '3', 'symbol': 'BNB', 'name': 'BNB', 'supply': '166801148.0000000000000000', 'maxSupply': '166801148.0000000000000000', 'marketCapUsd': '116831581654.3020946137178984', 'volumeUsd24Hr': '1022158618.1804534759940317', 'priceUsd': '700.4243259423016358', 'changePercent24Hr': '6.4573434339875620', 'vwap24Hr': '687.2213157272743816', 'explorer': 'https://etherscan.io/token/0xB8c77482e45F1F44dE1745F52C74426C631bDD52'}, {'id': 'tether', 'rank': '4', 'symbol': 'USDT', 'name': 'Tether', 'supply': '112316773848.0826100000000000', 'maxSupply': None, 'marketCapUsd': '112385014909.7176567038711722', 'volumeUsd24Hr': '17193549619.7399164812345205', 'priceUsd': '1.0006075767607726', 'changePercent24Hr': '0.0481035219609412', 'vwap24Hr': '0.9994418187866353', 'explorer': 'https://www.omniexplorer.info/asset/31'}, {'id': 'solana', 'rank': '5', 'symbol': 'SOL', 'name': 'Solana', 'supply': '459924921.2833028400000000', 'maxSupply': None, 'marketCapUsd': '79053429941.4459902388452648', 'volumeUsd24Hr': '769109322.2255968751682270', 'priceUsd': '171.8833363516541277', 'changePercent24Hr': '3.1444534026737929', 'vwap24Hr': '171.4056131004012586', 'explorer': 'https://explorer.solana.com/'}, {'id': 'usd-coin', 'rank': '6', 'symbol': 'USDC', 'name': 'USDC', 'supply': '32378750476.2465700000000000', 'maxSupply': None, 'marketCapUsd': '32402383668.4454087789208159', 'volumeUsd24Hr': '1688528532.7794504795815650', 'priceUsd': '1.0007298982156886', 'changePercent24Hr': '0.0128077023683969', 'vwap24Hr': '0.9998310049393876', 'explorer': 'https://etherscan.io/token/0xa0b86991c6218b36c1d19d4a2e9eb0ce3606eb48'}, {'id': 'xrp', 'rank': '7', 'symbol': 'XRP', 'name': 'XRP', 'supply': '45404028640.0000000000000000', 'maxSupply': '100000000000.0000000000000000', 'marketCapUsd': '23932448208.2920988018150080', 'volumeUsd24Hr': '513928013.1121178010331297', 'priceUsd': '0.5270996632930522', 'changePercent24Hr': '-0.2161440665080221', 'vwap24Hr': '0.5268738129407885', 'explorer': 'https://xrpcharts.ripple.com/#/graph/'}, {'id': 'dogecoin', 'rank': '8', 'symbol': 'DOGE', 'name': 'Dogecoin', 'supply': '144584496383.7052000000000000', 'maxSupply': None, 'marketCapUsd': '23402565928.3968591076536696', 'volumeUsd24Hr': '333518756.6312620964929585', 'priceUsd': '0.1618608254255008', 'changePercent24Hr': '1.3574310406922492', 'vwap24Hr': '0.1619269467023239', 'explorer': 'http://dogechain.info/chain/Dogecoin'}, {'id': 'cardano', 'rank': '9', 'symbol': 'ADA', 'name': 'Cardano', 'supply': '35707269939.5540000000000000', 'maxSupply': '45000000000.0000000000000000', 'marketCapUsd': '16388464089.6879136593512420', 'volumeUsd24Hr': '96317315.0633985856827074', 'priceUsd': '0.4589671547959461', 'changePercent24Hr': '0.2582289185502228', 'vwap24Hr': '0.4613701556114404', 'explorer': 'https://cardanoexplorer.com/'}, {'id': 'shiba-inu', 'rank': '10', 'symbol': 'SHIB', 'name': 'Shiba Inu', 'supply': '589271803029900.4000000000000000', 'maxSupply': None, 'marketCapUsd': '15045029907.0250401692274961', 'volumeUsd24Hr': '361807353.0035049162118891', 'priceUsd': '0.0000255315625653', 'changePercent24Hr': '6.0662248659735378', 'vwap24Hr': '0.0000253686487936', 'explorer': 'https://etherscan.io/token/0x95ad61b0a150d79219dcf64e1e6cc01f0b64c4ce'}, {'id': 'avalanche', 'rank': '11', 'symbol': 'AVAX', 'name': 'Avalanche', 'supply': '393232626.0171106500000000', 'maxSupply': '715748719.0000000000000000', 'marketCapUsd': '14171752675.3348216670452684', 'volumeUsd24Hr': '120152829.1215482708807049', 'priceUsd': '36.0391069756205049', 'changePercent24Hr': '2.4791038772137909', 'vwap24Hr': '36.0344457079989345', 'explorer': 'https://avascan.info/'}, {'id': 'wrapped-bitcoin', 'rank': '12', 'symbol': 'WBTC', 'name': 'Wrapped Bitcoin', 'supply': '153235.7378324500000000', 'maxSupply': None, 'marketCapUsd': '10804964369.2694117601780857', 'volumeUsd24Hr': '107142843.7467038985172339', 'priceUsd': '70512.0393069383327932', 'changePercent24Hr': '0.8604924086294734', 'vwap24Hr': '70759.1150178823152891', 'explorer': 'https://etherscan.io/token/0x2260fac5e5542a773aa44fbcfedf7c193bc2c599'}, {'id': 'chainlink', 'rank': '13', 'symbol': 'LINK', 'name': 'Chainlink', 'supply': '587099970.4527867000000000', 'maxSupply': None, 'marketCapUsd': '10376846509.7588084943667824', 'volumeUsd24Hr': '164385162.6016110748267695', 'priceUsd': '17.6747522261939747', 'changePercent24Hr': '-0.4432930961209344', 'vwap24Hr': '17.7955563385640443', 'explorer': 'https://etherscan.io/token/0x514910771af9ca656af840dff83e8264ecf986ca'}, {'id': 'tron', 'rank': '14', 'symbol': 'TRX', 'name': 'TRON', 'supply': '87346473577.3712000000000000', 'maxSupply': None, 'marketCapUsd': '9991661200.9461901595501495', 'volumeUsd24Hr': '95889790.1376016808229597', 'priceUsd': '0.1143911229810052', 'changePercent24Hr': '0.2446099475613086', 'vwap24Hr': '0.1142672486926353', 'explorer': 'https://tronscan.org/#/'}, {'id': 'polkadot', 'rank': '15', 'symbol': 'DOT', 'name': 'Polkadot', 'supply': '1372229623.9256900000000000', 'maxSupply': None, 'marketCapUsd': '9856239221.6476551711789926', 'volumeUsd24Hr': '92149729.7599449083169419', 'priceUsd': '7.1826457101624251', 'changePercent24Hr': '1.8124885144237213', 'vwap24Hr': '7.1936192815128096', 'explorer': 'https://polkascan.io/polkadot'}, {'id': 'bitcoin-cash', 'rank': '16', 'symbol': 'BCH', 'name': 'Bitcoin Cash', 'supply': '19715293.7500000000000000', 'maxSupply': '21000000.0000000000000000', 'marketCapUsd': '9452863840.7405887541267288', 'volumeUsd24Hr': '105810227.4360618452675918', 'priceUsd': '479.4685770654869778', 'changePercent24Hr': '1.5992721627402587', 'vwap24Hr': '478.8177949500129976', 'explorer': 'https://blockchair.com/bitcoin-cash/blocks'}, {'id': 'near-protocol', 'rank': '17', 'symbol': 'NEAR', 'name': 'NEAR Protocol', 'supply': '1082557522.0000000000000000', 'maxSupply': None, 'marketCapUsd': '8131340373.2147795950942990', 'volumeUsd24Hr': '89679458.5095183929584607', 'priceUsd': '7.5112316971317295', 'changePercent24Hr': '3.7396624828235555', 'vwap24Hr': '7.4837130319585616', 'explorer': 'https://explorer.nearprotocol.com/'}, {'id': 'polygon', 'rank': '18', 'symbol': 'MATIC', 'name': 'Polygon', 'supply': '9897472464.0868050000000000', 'maxSupply': None, 'marketCapUsd': '7032290376.0205812015067699', 'volumeUsd24Hr': '60948200.8713103250703968', 'priceUsd': '0.7105137601076841', 'changePercent24Hr': '-0.2588662758980841', 'vwap24Hr': '0.7144127761803483', 'explorer': 'https://etherscan.io/token/0x7D1AfA7B718fb893dB30A3aBc0Cfc608AaCfeBB0'}, {'id': 'uniswap', 'rank': '19', 'symbol': 'UNI', 'name': 'Uniswap', 'supply': '599957294.7100000000000000', 'maxSupply': None, 'marketCapUsd': '6720155753.6639717828767255', 'volumeUsd24Hr': '411000913.4410157227462072', 'priceUsd': '11.2010568300736776', 'changePercent24Hr': '15.9362660496637719', 'vwap24Hr': '11.1367487206101759', 'explorer': 'https://etherscan.io/token/0x1f9840a85d5af5bf1d1762f925bdaddc4201f984'}, {'id': 'litecoin', 'rank': '20', 'symbol': 'LTC', 'name': 'Litecoin', 'supply': '74608362.3575049000000000', 'maxSupply': '84000000.0000000000000000', 'marketCapUsd': '6261734879.6954791537619237', 'volumeUsd24Hr': '155138622.1118502663777292', 'priceUsd': '83.9280568804176075', 'changePercent24Hr': '1.5500215791851124', 'vwap24Hr': '83.5328884089872769', 'explorer': 'http://explorer.litecoin.net/chain/Litecoin'}, {'id': 'internet-computer', 'rank': '21', 'symbol': 'ICP', 'name': 'Internet Computer', 'supply': '464458198.5703910600000000', 'maxSupply': None, 'marketCapUsd': '5719325495.5148334182548581', 'volumeUsd24Hr': '37946797.5463609710619454', 'priceUsd': '12.3139725235101859', 'changePercent24Hr': '-0.2716053282570885', 'vwap24Hr': '12.3453144197720001', 'explorer': 'https://www.dfinityexplorer.org/#/'}, {'id': 'unus-sed-leo', 'rank': '22', 'symbol': 'LEO', 'name': 'UNUS SED LEO', 'supply': '926270045.9000000000000000', 'maxSupply': None, 'marketCapUsd': '5520035252.5024568647847299', 'volumeUsd24Hr': '145760.0969234839512057', 'priceUsd': '5.9594232556003427', 'changePercent24Hr': '0.1350904526682726', 'vwap24Hr': '5.9433110395515361', 'explorer': 'https://eospark.com/account/bitfinexleo1'}, {'id': 'multi-collateral-dai', 'rank': '23', 'symbol': 'DAI', 'name': 'Multi Collateral DAI', 'supply': '5347888595.7464075000000000', 'maxSupply': None, 'marketCapUsd': '5352195501.8326148972835993', 'volumeUsd24Hr': '171432033.7856449780965834', 'priceUsd': '1.0008053470092165', 'changePercent24Hr': '0.1524888162205344', 'vwap24Hr': '0.9999755026967374', 'explorer': 'https://etherscan.io/token/0x89d24a6b4ccb1b6faa2625fe562bdd9a23260359'}, {'id': 'ethereum-classic', 'rank': '24', 'symbol': 'ETC', 'name': 'Ethereum Classic', 'supply': '147393000.9971825200000000', 'maxSupply': '210700000.0000000000000000', 'marketCapUsd': '4324477393.3131683560115258', 'volumeUsd24Hr': '68856388.8309328895869600', 'priceUsd': '29.3397743722975868', 'changePercent24Hr': '1.5434019315048079', 'vwap24Hr': '29.5514755742659505', 'explorer': 'http://gastracker.io/'}, {'id': 'render-token', 'rank': '25', 'symbol': 'RNDR', 'name': 'Render Token', 'supply': '369614008.1087959400000000', 'maxSupply': '536870912.0000000000000000', 'marketCapUsd': '3859361719.9929268929964595', 'volumeUsd24Hr': '11350309.7567442641473264', 'priceUsd': '10.4416002514085537', 'changePercent24Hr': '0.6676421343579958', 'vwap24Hr': '10.4647984592281344', 'explorer': 'https://etherscan.io/token/0x6de037ef9ad2725eb40118bb1702ebb27e4aeb24'}, {'id': 'filecoin', 'rank': '26', 'symbol': 'FIL', 'name': 'Filecoin', 'supply': '559906937.0000000000000000', 'maxSupply': None, 'marketCapUsd': '3338689135.8834273650267543', 'volumeUsd24Hr': '102454506.0432832638493605', 'priceUsd': '5.9629358296081039', 'changePercent24Hr': '1.6972177532916842', 'vwap24Hr': '5.9776070479084395', 'explorer': 'https://protocol.ai'}, {'id': 'stacks', 'rank': '27', 'symbol': 'STX', 'name': 'Stacks', 'supply': '1462785929.2107330000000000', 'maxSupply': '1818000000.0000000000000000', 'marketCapUsd': '3245133687.1273045856789082', 'volumeUsd24Hr': '58131132.0559907883769011', 'priceUsd': '2.2184611037913543', 'changePercent24Hr': '10.0459997210532723', 'vwap24Hr': '2.1561787017020236', 'explorer': 'https://explorer.xinfin.network/'}, {'id': 'stellar', 'rank': '28', 'symbol': 'XLM', 'name': 'Stellar', 'supply': '29039752374.5250050000000000', 'maxSupply': '50001806812.0000000000000000', 'marketCapUsd': '3093487043.7725729378763817', 'volumeUsd24Hr': '29690323.8535192755263112', 'priceUsd': '0.1065259442944259', 'changePercent24Hr': '0.7419998077379892', 'vwap24Hr': '0.1064452133234477', 'explorer': 'https://dashboard.stellar.org/'}, {'id': 'monero', 'rank': '29', 'symbol': 'XMR', 'name': 'Monero', 'supply': '18445963.5855500300000000', 'maxSupply': None, 'marketCapUsd': '3014548957.6190866300438134', 'volumeUsd24Hr': '46682067.2915696333270622', 'priceUsd': '163.4259410541494604', 'changePercent24Hr': '3.6826433940352460', 'vwap24Hr': '160.0439247234104852', 'explorer': 'http://moneroblocks.info/'}, {'id': 'crypto-com-coin', 'rank': '30', 'symbol': 'CRO', 'name': 'Crypto.com Coin', 'supply': '25263013692.0000000000000000', 'maxSupply': '30263013692.0000000000000000', 'marketCapUsd': '2953087856.1747677677854900', 'volumeUsd24Hr': '7670029.2139163061703687', 'priceUsd': '0.1168937282059075', 'changePercent24Hr': '7.3070888141263326', 'vwap24Hr': '0.1124898832398032', 'explorer': 'https://etherscan.io/token/0xa0b73e1ff0b80914ab6fe0444e65848c4c34450b'}, {'id': 'okb', 'rank': '31', 'symbol': 'OKB', 'name': 'OKB', 'supply': '60000000.0000000000000000', 'maxSupply': None, 'marketCapUsd': '2929107754.2265136520000000', 'volumeUsd24Hr': '501036.6395970295229500', 'priceUsd': '48.8184625704418942', 'changePercent24Hr': '2.0636542483486972', 'vwap24Hr': '48.6900665326322413', 'explorer': 'https://etherscan.io/token/0x75231f58b43240c9718dd58b4967c5114342a86c'}, {'id': 'arweave', 'rank': '32', 'symbol': 'AR', 'name': 'Arweave', 'supply': '65652466.0000000000000000', 'maxSupply': '66000000.0000000000000000', 'marketCapUsd': '2923871415.9198845207780698', 'volumeUsd24Hr': '46320247.0324000826920419', 'priceUsd': '44.5355916397700053', 'changePercent24Hr': '-3.4300924403786209', 'vwap24Hr': '45.5411818793046236', 'explorer': 'https://viewblock.io/arweave'}, {'id': 'the-graph', 'rank': '33', 'symbol': 'GRT', 'name': 'The Graph', 'supply': '9509671264.7660220000000000', 'maxSupply': None, 'marketCapUsd': '2848093944.0667596212765152', 'volumeUsd24Hr': '25212601.6552260435154622', 'priceUsd': '0.2994944688171442', 'changePercent24Hr': '-0.1702054755043590', 'vwap24Hr': '0.3003569692267089', 'explorer': 'https://etherscan.io/token/0xc944e90c64b2c07662a292be6244bdf05cda44a7'}, {'id': 'vechain', 'rank': '34', 'symbol': 'VET', 'name': 'VeChain', 'supply': '72714516834.0000000000000000', 'maxSupply': '86712634466.0000000000000000', 'marketCapUsd': '2539046921.4873997438387008', 'volumeUsd24Hr': '23427601.5606000340298351', 'priceUsd': '0.0349180195652512', 'changePercent24Hr': '2.3632257437392601', 'vwap24Hr': '0.0346040835982736', 'explorer': 'https://explore.veforge.com/'}, {'id': 'maker', 'rank': '35', 'symbol': 'MKR', 'name': 'Maker', 'supply': '927770.0324557000000000', 'maxSupply': '1005577.0000000000000000', 'marketCapUsd': '2465523724.0045173294465345', 'volumeUsd24Hr': '28383130.3902008383677707', 'priceUsd': '2657.4729057356607163', 'changePercent24Hr': '3.1007344110957056', 'vwap24Hr': '2636.2514814377809424', 'explorer': 'https://etherscan.io/token/Maker'}, {'id': 'fantom', 'rank': '36', 'symbol': 'FTM', 'name': 'Fantom', 'supply': '2803634835.5265927000000000', 'maxSupply': None, 'marketCapUsd': '2321682285.5313155281796491', 'volumeUsd24Hr': '68448879.3240870943344300', 'priceUsd': '0.8280972458010016', 'changePercent24Hr': '1.0308802004104154', 'vwap24Hr': '0.8360502194286011', 'explorer': 'https://etherscan.io/token/0x4e15361fd6b4bb609fa63c81a2be19d873717870'}, {'id': 'theta', 'rank': '37', 'symbol': 'THETA', 'name': 'THETA', 'supply': '1000000000.0000000000000000', 'maxSupply': '1000000000.0000000000000000', 'marketCapUsd': '2200054752.1661728000000000', 'volumeUsd24Hr': '11552838.7509581679486968', 'priceUsd': '2.2000547521661728', 'changePercent24Hr': '4.2258093472874275', 'vwap24Hr': '2.1730966088525054', 'explorer': 'https://explorer.thetatoken.org/'}, {'id': 'cosmos', 'rank': '38', 'symbol': 'ATOM', 'name': 'Cosmos', 'supply': '248453201.0000000000000000', 'maxSupply': None, 'marketCapUsd': '2131911782.3239816115991308', 'volumeUsd24Hr': '50672838.0715039044457495', 'priceUsd': '8.5807378361125708', 'changePercent24Hr': '1.7451431919358565', 'vwap24Hr': '8.5335454897201577', 'explorer': 'https://www.mintscan.io/'}, {'id': 'thorchain', 'rank': '39', 'symbol': 'RUNE', 'name': 'THORChain', 'supply': '334967874.0000000000000000', 'maxSupply': None, 'marketCapUsd': '2074594317.2092194388201854', 'volumeUsd24Hr': '53099882.8114694968360153', 'priceUsd': '6.1934127963842271', 'changePercent24Hr': '1.2165128106661535', 'vwap24Hr': '6.2207093780878485', 'explorer': 'https://explorer.binance.org/asset/RUNE-B1A'}, {'id': 'lido-dao', 'rank': '40', 'symbol': 'LDO', 'name': 'Lido DAO', 'supply': '892321246.9947464000000000', 'maxSupply': None, 'marketCapUsd': '2006190865.3263104620756990', 'volumeUsd24Hr': '4373670.1074397349787324', 'priceUsd': '2.2482831963073519', 'changePercent24Hr': '-2.4638584531511146', 'vwap24Hr': '2.3010887267040239', 'explorer': 'https://etherscan.io/token/0x5a98fcbea516cf06857215779fd812ca3bef1b32'}, {'id': 'injective-protocol', 'rank': '41', 'symbol': 'INJ', 'name': 'Injective', 'supply': '73005554.3300000000000000', 'maxSupply': '100000000.0000000000000000', 'marketCapUsd': '1907624293.8056284398838156', 'volumeUsd24Hr': '38759679.8427966140763218', 'priceUsd': '26.1298515066782103', 'changePercent24Hr': '4.1755979995662575', 'vwap24Hr': '25.9464413317193260', 'explorer': 'https://etherscan.io/token/0xe28b3b32b6c345a34ff64674606124dd5aceca30'}, {'id': 'fetch', 'rank': '42', 'symbol': 'FET', 'name': 'Fetch.ai', 'supply': '848193895.9129184000000000', 'maxSupply': None, 'marketCapUsd': '1816320036.5032400231386608', 'volumeUsd24Hr': '62819101.3023784160207626', 'priceUsd': '2.1413972032283009', 'changePercent24Hr': '0.8516841656635962', 'vwap24Hr': '2.1493099939419252', 'explorer': 'https://etherscan.io/token/0x1d287cc25dad7ccaf76a26bc660c5f7c8e2a05bd'}, {'id': 'algorand', 'rank': '43', 'symbol': 'ALGO', 'name': 'Algorand', 'supply': '8175360184.0828670000000000', 'maxSupply': '10000000000.0000000000000000', 'marketCapUsd': '1533068276.2120548129925808', 'volumeUsd24Hr': '27064511.3247775719842702', 'priceUsd': '0.1875230254927341', 'changePercent24Hr': '2.4127158380304475', 'vwap24Hr': '0.1864665179105806', 'explorer': 'https://algoexplorer.io/'}, {'id': 'aave', 'rank': '44', 'symbol': 'AAVE', 'name': 'Aave', 'supply': '14845425.2407286500000000', 'maxSupply': None, 'marketCapUsd': '1528286772.9323140307916285', 'volumeUsd24Hr': '26408138.1705818725945827', 'priceUsd': '102.9466484219957552', 'changePercent24Hr': '2.1592796949226560', 'vwap24Hr': '102.6699578548256920', 'explorer': 'https://etherscan.io/token/0x80fB784B7eD66730e8b1DBd9820aFD29931aab03'}, {'id': 'hedera-hashgraph', 'rank': '45', 'symbol': 'HBAR', 'name': 'Hedera Hashgraph', 'supply': '14832756028.0000000000000000', 'maxSupply': '50000000000.0000000000000000', 'marketCapUsd': '1517836032.0598094772182920', 'volumeUsd24Hr': '18867120.4081466701083935', 'priceUsd': '0.1023300072619390', 'changePercent24Hr': '1.2272875824778604', 'vwap24Hr': '0.1025009257460928', 'explorer': 'https://hash-hash.info/'}, {'id': 'gala', 'rank': '46', 'symbol': 'GALA', 'name': 'Gala', 'supply': '31570783817.9282500000000000', 'maxSupply': None, 'marketCapUsd': '1488304701.4076370338093100', 'volumeUsd24Hr': '77495200.5723450799969172', 'priceUsd': '0.0471418356284986', 'changePercent24Hr': '4.6709289344249971', 'vwap24Hr': '0.0465998590094336', 'explorer': 'https://ethplorer.io/es/address/0x15d4c048f83bd7e37d49ea4c83a07267ec4203da#chart=candlestick'}, {'id': 'flow', 'rank': '47', 'symbol': 'FLOW', 'name': 'Flow', 'supply': '1510362347.0000000000000000', 'maxSupply': None, 'marketCapUsd': '1406620194.5153753805160088', 'volumeUsd24Hr': '16318223.4182439871120093', 'priceUsd': '0.9313130702108104', 'changePercent24Hr': '5.7845985795802708', 'vwap24Hr': '0.9163454390437077', 'explorer': 'https://flowscan.org/'}, {'id': 'chiliz', 'rank': '48', 'symbol': 'CHZ', 'name': 'Chiliz', 'supply': '8888289967.1249620000000000', 'maxSupply': None, 'marketCapUsd': '1266206068.3845903702523658', 'volumeUsd24Hr': '41972857.5479770222474541', 'priceUsd': '0.1424577813131542', 'changePercent24Hr': '-2.6807846935469513', 'vwap24Hr': '0.1447867903611692', 'explorer': 'https://etherscan.io/token/0x3506424f91fd33084466f402d5d97f05f8e3b4af'}, {'id': 'axie-infinity', 'rank': '49', 'symbol': 'AXS', 'name': 'Axie Infinity', 'supply': '145582213.4503752600000000', 'maxSupply': None, 'marketCapUsd': '1245568778.4923333201891381', 'volumeUsd24Hr': '21443335.0921260197125049', 'priceUsd': '8.5557757982358983', 'changePercent24Hr': '5.5866183414899776', 'vwap24Hr': '8.2396619656706837', 'explorer': 'https://etherscan.io/token/0xf5d669627376ebd411e34b98f19c868c8aba5ada'}, {'id': 'bitcoin-sv', 'rank': '50', 'symbol': 'BSV', 'name': 'Bitcoin SV', 'supply': '19711175.0000000000000000', 'maxSupply': None, 'marketCapUsd': '1234758849.1754989297743050', 'volumeUsd24Hr': '3618600.9497295983618545', 'priceUsd': '62.6425796115908326', 'changePercent24Hr': '1.4811262855845513', 'vwap24Hr': '62.8917715865449157', 'explorer': 'https://bsvexplorer.io/'}, {'id': 'singularitynet', 'rank': '51', 'symbol': 'AGIX', 'name': 'SingularityNET', 'supply': '1284793189.6314576000000000', 'maxSupply': '2000000000.0000000000000000', 'marketCapUsd': '1160165499.4603747548412880', 'volumeUsd24Hr': '3031540.6729831905261490', 'priceUsd': '0.9029978589730599', 'changePercent24Hr': '1.4315361369952453', 'vwap24Hr': '0.9012597312128171', 'explorer': 'https://etherscan.io/token/0x8eb24319393716668d768dcec29356ae9cffe285'}, {'id': 'quant', 'rank': '52', 'symbol': 'QNT', 'name': 'Quant', 'supply': '12072738.0000000000000000', 'maxSupply': '14881364.0000000000000000', 'marketCapUsd': '1086554334.2265761827635546', 'volumeUsd24Hr': '8022565.6417302218678759', 'priceUsd': '90.0006555452935517', 'changePercent24Hr': '-0.3870681723983916', 'vwap24Hr': '90.7387904104137042', 'explorer': 'https://etherscan.io/token/0x4a220e6096b25eadb88358cb44068a3248254675'}, {'id': 'akash-network', 'rank': '53', 'symbol': 'AKT', 'name': 'Akash Network', 'supply': '239325651.2756240000000000', 'maxSupply': '388539008.0000000000000000', 'marketCapUsd': '1077169778.0120857293996576', 'volumeUsd24Hr': '4854451.2323728345678941', 'priceUsd': '4.5008538460908329', 'changePercent24Hr': '3.8321366286809593', 'vwap24Hr': '4.4663838567263738', 'explorer': 'https://akash.bigdipper.live/'}, {'id': 'neo', 'rank': '54', 'symbol': 'NEO', 'name': 'Neo', 'supply': '70538831.0000000000000000', 'maxSupply': '100000000.0000000000000000', 'marketCapUsd': '1071570524.4602978087988564', 'volumeUsd24Hr': '11670388.3944334269087270', 'priceUsd': '15.1912146723880044', 'changePercent24Hr': '1.3991163446466703', 'vwap24Hr': '15.2000518436563347', 'explorer': 'https://neotracker.io'}, {'id': 'the-sandbox', 'rank': '55', 'symbol': 'SAND', 'name': 'The Sandbox', 'supply': '2265731926.2233224000000000', 'maxSupply': None, 'marketCapUsd': '1061083494.5585415677627449', 'volumeUsd24Hr': '26037665.8532335006463759', 'priceUsd': '0.4683181987585038', 'changePercent24Hr': '2.7486776007340225', 'vwap24Hr': '0.4628898526014886', 'explorer': 'https://etherscan.io/token/0x3845badAde8e6dFF049820680d1F14bD3903a5d0'}, {'id': 'kucoin-token', 'rank': '56', 'symbol': 'KCS', 'name': 'KuCoin Token', 'supply': '95642961.2885607500000000', 'maxSupply': '170118638.0000000000000000', 'marketCapUsd': '966006222.3973635663189305', 'volumeUsd24Hr': '706932.7842688251882115', 'priceUsd': '10.1001287432209762', 'changePercent24Hr': '0.2153002427986778', 'vwap24Hr': '10.0887011384645296', 'explorer': 'https://etherscan.io/token/0xf34960d9d60be18cc1d5afc1a6f012a723a28811'}, {'id': 'mina', 'rank': '57', 'symbol': 'MINA', 'name': 'Mina', 'supply': '1115997009.8400393000000000', 'maxSupply': None, 'marketCapUsd': '962672656.7413796480117912', 'volumeUsd24Hr': '10066591.0028301162636026', 'priceUsd': '0.8626122187185463', 'changePercent24Hr': '2.2599286214925522', 'vwap24Hr': '0.8585390353088704', 'explorer': 'https://minaexplorer.com/'}, {'id': 'elrond-egld', 'rank': '58', 'symbol': 'EGLD', 'name': 'MultiversX', 'supply': '24184559.1898415400000000', 'maxSupply': '31415926.0000000000000000', 'marketCapUsd': '952949683.2986606531709013', 'volumeUsd24Hr': '16315916.7960838674324776', 'priceUsd': '39.4032273161686057', 'changePercent24Hr': '0.5094347152782471', 'vwap24Hr': '39.4494363286679052', 'explorer': 'https://explorer.elrond.com/'}, {'id': 'tezos', 'rank': '59', 'symbol': 'XTZ', 'name': 'Tezos', 'supply': '984330137.3620110000000000', 'maxSupply': None, 'marketCapUsd': '933231562.7173087886156561', 'volumeUsd24Hr': '19096091.7645618540030811', 'priceUsd': '0.9480879709914749', 'changePercent24Hr': '1.3805795685454048', 'vwap24Hr': '0.9484808505871234', 'explorer': 'https://tzkt.io/'}, {'id': 'pendle', 'rank': '60', 'symbol': 'PENDLE', 'name': 'Pendle', 'supply': '154274800.2480423500000000', 'maxSupply': None, 'marketCapUsd': '933022482.6580696275257124', 'volumeUsd24Hr': '2626212.1863241971552085', 'priceUsd': '6.0477957589830624', 'changePercent24Hr': '-1.2366010087143441', 'vwap24Hr': '6.1355737549334404', 'explorer': 'https://etherscan.io/token/0x808507121b80c02388fad14726482e061b8da827'}, {'id': 'ecash', 'rank': '61', 'symbol': 'XEC', 'name': 'eCash', 'supply': '19711432798092.0000000000000000', 'maxSupply': '21000000000000.0000000000000000', 'marketCapUsd': '922433638.5572368383390816', 'volumeUsd24Hr': '4997181.5646343566166616', 'priceUsd': '0.0000467968842248', 'changePercent24Hr': '1.9981103253617105', 'vwap24Hr': '0.0000468362689140', 'explorer': 'https://explorer.bitcoinabc.org/'}, {'id': 'eos', 'rank': '62', 'symbol': 'EOS', 'name': 'EOS', 'supply': '1127540931.1325000000000000', 'maxSupply': None, 'marketCapUsd': '905575015.1092045616080423', 'volumeUsd24Hr': '57001652.9765645350695823', 'priceUsd': '0.8031415890149963', 'changePercent24Hr': '0.1589396422815804', 'vwap24Hr': '0.8081352233649663', 'explorer': 'https://bloks.io/'}, {'id': 'conflux-network', 'rank': '63', 'symbol': 'CFX', 'name': 'Conflux', 'supply': '4044948533.4600000000000000', 'maxSupply': None, 'marketCapUsd': '904013825.5130336818925611', 'volumeUsd24Hr': '14095094.5852338181553154', 'priceUsd': '0.2234920464463243', 'changePercent24Hr': '2.2531800034254053', 'vwap24Hr': '0.2257340256140095', 'explorer': 'http://www.confluxscan.io/'}, {'id': 'decentraland', 'rank': '64', 'symbol': 'MANA', 'name': 'Decentraland', 'supply': '1908319865.3915880000000000', 'maxSupply': None, 'marketCapUsd': '892487038.6791057460142367', 'volumeUsd24Hr': '14002867.0638599753122599', 'priceUsd': '0.4676820981979177', 'changePercent24Hr': '1.3890398221871260', 'vwap24Hr': '0.4664664629813326', 'explorer': 'https://etherscan.io/token/decentraland'}, {'id': 'gnosis-gno', 'rank': '65', 'symbol': 'GNO', 'name': 'Gnosis', 'supply': '2589588.0000000000000000', 'maxSupply': '3000000.0000000000000000', 'marketCapUsd': '861186951.0100065246088608', 'volumeUsd24Hr': '9844296.4091398341096168', 'priceUsd': '332.5575153306265416', 'changePercent24Hr': '0.9681489707241775', 'vwap24Hr': '330.6765093457733915', 'explorer': 'https://etherscan.io/token/Gnosis'}, {'id': 'aioz-network', 'rank': '66', 'symbol': 'AIOZ', 'name': 'AIOZ Network', 'supply': '1098367146.0383960000000000', 'maxSupply': None, 'marketCapUsd': '830234645.9222270807467140', 'volumeUsd24Hr': '2642812.0884912457054640', 'priceUsd': '0.7558808080856456', 'changePercent24Hr': '5.1510370038864622', 'vwap24Hr': '0.7538951159588693', 'explorer': 'https://etherscan.io/token/0x626e8036deb333b408be468f951bdb42433cbf18'}, {'id': 'gatetoken', 'rank': '67', 'symbol': 'GT', 'name': 'GateToken', 'supply': '93240300.3813759800000000', 'maxSupply': None, 'marketCapUsd': '827735733.8281362459872170', 'volumeUsd24Hr': '6707173.0644311672118869', 'priceUsd': '8.8774460232591655', 'changePercent24Hr': '5.7066706005786893', 'vwap24Hr': '8.8422828504960781', 'explorer': None}, {'id': 'pancakeswap', 'rank': '68', 'symbol': 'CAKE', 'name': 'PancakeSwap', 'supply': '266320791.5881531500000000', 'maxSupply': '450000000.0000000000000000', 'marketCapUsd': '827638845.6662867079084550', 'volumeUsd24Hr': '80461643.9056882660431616', 'priceUsd': '3.1076764256024496', 'changePercent24Hr': '12.3200495504706299', 'vwap24Hr': '3.0738832409256645', 'explorer': 'https://bscscan.com/token/0x0e09fabb73bd3ade0a17ecc321fd13a19e81ce82'}, {'id': 'nexo', 'rank': '69', 'symbol': 'NEXO', 'name': 'Nexo', 'supply': '560000011.0000000000000000', 'maxSupply': None, 'marketCapUsd': '820510571.5420488644172315', 'volumeUsd24Hr': '601969.3672195373102749', 'priceUsd': '1.4651974204015665', 'changePercent24Hr': '4.6663615409432919', 'vwap24Hr': '1.4601136682870505', 'explorer': 'https://etherscan.io/token/0xb62132e35a6c13ee1ee0f84dc5d40bad8d815206'}, {'id': 'klaytn', 'rank': '70', 'symbol': 'KLAY', 'name': 'Klaytn', 'supply': '3692764216.8640532000000000', 'maxSupply': None, 'marketCapUsd': '788076564.4558205454198894', 'volumeUsd24Hr': '3983154.3011511011037454', 'priceUsd': '0.2134110162942020', 'changePercent24Hr': '-2.2912675717598205', 'vwap24Hr': '0.2167666764543592', 'explorer': 'https://scope.klaytn.com/blocks'}, {'id': 'dexe', 'rank': '71', 'symbol': 'DEXE', 'name': 'DeXe', 'supply': '57103082.8341114900000000', 'maxSupply': '98942301.0000000000000000', 'marketCapUsd': '780639604.2590001507220638', 'volumeUsd24Hr': '2365915.6401790122275949', 'priceUsd': '13.6707085767473120', 'changePercent24Hr': '3.6256321593625913', 'vwap24Hr': '13.3798916131940226', 'explorer': 'https://etherscan.io/token/0xde4EE8057785A7e8e800Db58F9784845A5C2Cbd6'}, {'id': 'oasis-network', 'rank': '72', 'symbol': 'ROSE', 'name': 'Oasis', 'supply': '6713599876.0000000000000000', 'maxSupply': None, 'marketCapUsd': '774133448.4427973140372288', 'volumeUsd24Hr': '16316658.0582632369552631', 'priceUsd': '0.1153082493358288', 'changePercent24Hr': '1.9012746732094756', 'vwap24Hr': '0.1154564361998507', 'explorer': 'https://www.oasisscan.com/'}, {'id': 'nervos-network', 'rank': '73', 'symbol': 'CKB', 'name': 'Nervos Network', 'supply': '44295742424.4981900000000000', 'maxSupply': None, 'marketCapUsd': '773059285.0259155386161797', 'volumeUsd24Hr': '116083818.3692046547783854', 'priceUsd': '0.0174522254896978', 'changePercent24Hr': '12.2443689594984644', 'vwap24Hr': '0.0181777002543673', 'explorer': 'https://explorer.nervos.org/'}, {'id': 'iota', 'rank': '74', 'symbol': 'IOTA', 'name': 'IOTA', 'supply': '3286918475.0000000000000000', 'maxSupply': None, 'marketCapUsd': '755354955.3649376294523250', 'volumeUsd24Hr': '14280310.0539607435345053', 'priceUsd': '0.2298064162862870', 'changePercent24Hr': '2.3371007074253702', 'vwap24Hr': '0.2331296130035518', 'explorer': 'https://thetangle.org/'}, {'id': 'kava', 'rank': '75', 'symbol': 'KAVA', 'name': 'Kava', 'supply': '1082856238.0000000000000000', 'maxSupply': '1082860679.0000000000000000', 'marketCapUsd': '747329835.2895029339788370', 'volumeUsd24Hr': '6432005.1781648253280180', 'priceUsd': '0.6901468625879615', 'changePercent24Hr': '4.6393429576718344', 'vwap24Hr': '0.6793393517256424', 'explorer': 'https://www.mintscan.io/kava'}, {'id': 'livepeer', 'rank': '76', 'symbol': 'LPT', 'name': 'Livepeer', 'supply': '32615411.2951117200000000', 'maxSupply': None, 'marketCapUsd': '694673536.6702647651700835', 'volumeUsd24Hr': '18248129.3057810453679862', 'priceUsd': '21.2989353525147765', 'changePercent24Hr': '-2.4099119365349355', 'vwap24Hr': '21.6477427605184285', 'explorer': 'https://explorer.livepeer.org/'}, {'id': 'synthetix-network-token', 'rank': '77', 'symbol': 'SNX', 'name': 'Synthetix', 'supply': '233716733.4900000000000000', 'maxSupply': '212424133.0000000000000000', 'marketCapUsd': '650671710.6355846402762643', 'volumeUsd24Hr': '12770024.5698331793354877', 'priceUsd': '2.7840185035934743', 'changePercent24Hr': '4.5883012692725416', 'vwap24Hr': '2.7483641188550765', 'explorer': 'https://etherscan.io/token/0xc011a72400e58ecd99ee497cf89e3775d4bd732f'}, {'id': 'helium', 'rank': '78', 'symbol': 'HNT', 'name': 'Helium', 'supply': '160875441.8242133300000000', 'maxSupply': None, 'marketCapUsd': '646834263.0345506355553352', 'volumeUsd24Hr': '7293003.1898478652956085', 'priceUsd': '4.0207147573297029', 'changePercent24Hr': '-1.2902618807415182', 'vwap24Hr': '4.0688100352950609', 'explorer': 'https://explorer.helium.com/'}, {'id': 'theta-fuel', 'rank': '79', 'symbol': 'TFUEL', 'name': 'Theta Fuel', 'supply': '6570829972.0000000000000000', 'maxSupply': None, 'marketCapUsd': '622702171.2046319070945576', 'volumeUsd24Hr': '1796889.3449911524380070', 'priceUsd': '0.0947676585542658', 'changePercent24Hr': '4.0761762446320465', 'vwap24Hr': '0.0937015122349277', 'explorer': 'https://explorer.thetatoken.org/'}, {'id': 'wootrade', 'rank': '80', 'symbol': 'WOO', 'name': 'WOO', 'supply': '1874845632.7667956000000000', 'maxSupply': None, 'marketCapUsd': '614609593.6854019957742455', 'volumeUsd24Hr': '12183389.6738111133999062', 'priceUsd': '0.3278187723532174', 'changePercent24Hr': '2.3232321340599723', 'vwap24Hr': '0.3278764724778403', 'explorer': 'https://etherscan.io/token/0x4691937a7508860f876c9c0a2a617e7d9e945d4b'}, {'id': 'iotex', 'rank': '81', 'symbol': 'IOTX', 'name': 'IoTeX', 'supply': '9441378955.0000000000000000', 'maxSupply': '10000000000.0000000000000000', 'marketCapUsd': '579580001.3716444716697795', 'volumeUsd24Hr': '8639290.2981674240146245', 'priceUsd': '0.0613872194023849', 'changePercent24Hr': '4.0224540078987270', 'vwap24Hr': '0.0614515543272422', 'explorer': 'https://etherscan.io/token/0x6fb3e0a217407efff7ca062d46c26e5d60a14d69'}, {'id': '1inch', 'rank': '82', 'symbol': '1INCH', 'name': '1inch Network', 'supply': '1186234881.6612947000000000', 'maxSupply': None, 'marketCapUsd': '574742308.8089601995099382', 'volumeUsd24Hr': '10910578.5435468320799366', 'priceUsd': '0.4845097018257015', 'changePercent24Hr': '3.0681610894606359', 'vwap24Hr': '0.4794651254212682', 'explorer': 'https://etherscan.io/token/0x111111111117dc0aa78b770fa6a738034120c302'}, {'id': 'trust-wallet-token', 'rank': '83', 'symbol': 'TWT', 'name': 'Trust Wallet Token', 'supply': '416649900.0000000000000000', 'maxSupply': None, 'marketCapUsd': '573488202.7215359852457600', 'volumeUsd24Hr': '16500691.7799253131206045', 'priceUsd': '1.3764270739571424', 'changePercent24Hr': '8.5567731848755151', 'vwap24Hr': '1.3589212280694793', 'explorer': 'https://explorer.binance.org/asset/TWT-8C2'}, {'id': 'curve-dao-token', 'rank': '84', 'symbol': 'CRV', 'name': 'Curve DAO Token', 'supply': '1232452359.0000000000000000', 'maxSupply': None, 'marketCapUsd': '567206039.6611240931090217', 'volumeUsd24Hr': '4717431.7331377861933982', 'priceUsd': '0.4602255296272463', 'changePercent24Hr': '-1.6150432378137612', 'vwap24Hr': '0.4660058474573448', 'explorer': 'https://etherscan.io/token/0xD533a949740bb3306d119CC777fa900bA034cd52'}, {'id': 'superfarm', 'rank': '85', 'symbol': 'SUPER', 'name': 'SuperVerse', 'supply': '487776093.4169172600000000', 'maxSupply': '1000000000.0000000000000000', 'marketCapUsd': '536536395.0598944648155975', 'volumeUsd24Hr': '6390431.8288465210597398', 'priceUsd': '1.0999645171238441', 'changePercent24Hr': '7.2762135755631706', 'vwap24Hr': '1.0895064133611276', 'explorer': 'https://etherscan.io/token/0xe53ec727dbdeb9e2d5456c3be40cff031ab40a55'}, {'id': 'ftx-token', 'rank': '86', 'symbol': 'FTT', 'name': 'FTX Token', 'supply': '328895103.8132070000000000', 'maxSupply': None, 'marketCapUsd': '525257806.9032638336540205', 'volumeUsd24Hr': '13005924.7323777609195397', 'priceUsd': '1.5970374773398246', 'changePercent24Hr': '2.2560924841802585', 'vwap24Hr': '1.6087314627916099', 'explorer': 'https://etherscan.io/token/0x50d1c9771902476076ecfc8b2a83ad6b9355a4c9'}, {'id': 'nxm', 'rank': '87', 'symbol': 'NXM', 'name': 'NXM', 'supply': '6594067.8412913900000000', 'maxSupply': None, 'marketCapUsd': '521637092.4247118462942488', 'volumeUsd24Hr': '7827736.3947262399740527', 'priceUsd': '79.1070254325065944', 'changePercent24Hr': '-1.4683351225578412', 'vwap24Hr': '79.9960363952998903', 'explorer': 'https://etherscan.io/token/0xd7c49cee7e9188cca6ad8ff264c1da2e69d4cf3b'}, {'id': 'ocean-protocol', 'rank': '88', 'symbol': 'OCEAN', 'name': 'Ocean Protocol', 'supply': '568381102.7486407000000000', 'maxSupply': '1410000000.0000000000000000', 'marketCapUsd': '514500724.2207686097860442', 'volumeUsd24Hr': '6159399.5145327792621540', 'priceUsd': '0.9052037826956045', 'changePercent24Hr': '0.4171979646587173', 'vwap24Hr': '0.9086355545492214', 'explorer': 'https://etherscan.io/token/0x7AFeBBB46fDb47ed17b22ed075Cde2447694fB9e'}, {'id': 'golem-network-tokens', 'rank': '89', 'symbol': 'GLM', 'name': 'Golem', 'supply': '1000000000.0000000000000000', 'maxSupply': None, 'marketCapUsd': '506290038.6660831000000000', 'volumeUsd24Hr': '681221.2453599054992938', 'priceUsd': '0.5062900386660831', 'changePercent24Hr': '8.2662888794911732', 'vwap24Hr': '0.4938278149497876', 'explorer': 'https://etherscan.io/token/Golem'}, {'id': 'trueusd', 'rank': '90', 'symbol': 'TUSD', 'name': 'TrueUSD', 'supply': '498201479.0100000000000000', 'maxSupply': None, 'marketCapUsd': '498249646.9461899476767804', 'volumeUsd24Hr': '8005129.7198600664823598', 'priceUsd': '1.0000966836475188', 'changePercent24Hr': '-0.0099381612433227', 'vwap24Hr': '1.0002020656020722', 'explorer': 'https://etherscan.io/token/0x8dd5fbce2f6a956c3022ba3663759011dd51e73e'}, {'id': 'compound', 'rank': '91', 'symbol': 'COMP', 'name': 'Compound', 'supply': '8324365.2581172300000000', 'maxSupply': None, 'marketCapUsd': '495641448.3445975073973202', 'volumeUsd24Hr': '19210145.5498825246127168', 'priceUsd': '59.5410500351710432', 'changePercent24Hr': '0.9327229113663074', 'vwap24Hr': '59.8337282737747337', 'explorer': 'https://etherscan.io/token/0xc00e94cb662c3520282e6f5717214004a7f26888'}, {'id': 'wemix', 'rank': '92', 'symbol': 'WEMIX', 'name': 'WEMIX', 'supply': '361826511.2253543000000000', 'maxSupply': '980000000.0000000000000000', 'marketCapUsd': '492649552.1206975549646435', 'volumeUsd24Hr': '1371261.7510579461262867', 'priceUsd': '1.3615628950247471', 'changePercent24Hr': '-0.0182817868860341', 'vwap24Hr': '1.3728385303230744', 'explorer': 'https://scope.klaytn.com/token/0x5096db80b21ef45230c9e423c373f1fc9c0198dd?tabId=kctTransfer'}, {'id': 'xinfin-network', 'rank': '93', 'symbol': 'XDC', 'name': 'XinFin Network', 'supply': '12293293518.5500000000000000', 'maxSupply': None, 'marketCapUsd': '484291912.2456619478495209', 'volumeUsd24Hr': '1317152.3627665667674546', 'priceUsd': '0.0393948059171359', 'changePercent24Hr': '2.0960635426213600', 'vwap24Hr': '0.0365635208886023', 'explorer': 'https://etherscan.io/token/0x41ab1b6fcbb2fa9dced81acbdec13ea6315f2bf2'}, {'id': 'raydium', 'rank': '94', 'symbol': 'RAY', 'name': 'Raydium', 'supply': '262842336.7973760000000000', 'maxSupply': None, 'marketCapUsd': '478671263.8894780793006067', 'volumeUsd24Hr': '9141787.2278520100579266', 'priceUsd': '1.8211345619655012', 'changePercent24Hr': '3.1428059693367341', 'vwap24Hr': '1.8018727965626724', 'explorer': 'https://explorer.solana.com/address/4k3Dyjzvzp8eMZWUXbBCjEvwSkkk59S5iCNLY3QrkX6R'}, {'id': 'mantra-dao', 'rank': '95', 'symbol': 'OM', 'name': 'MANTRA DAO', 'supply': '500205033.1781248500000000', 'maxSupply': '888888888.0000000000000000', 'marketCapUsd': '463576702.8856737710099293', 'volumeUsd24Hr': '33855130.3405865913426778', 'priceUsd': '0.9267733671935932', 'changePercent24Hr': '2.8137002172486665', 'vwap24Hr': '0.9440208644170255', 'explorer': 'https://etherscan.io/token/0x3593d125a4f7849a1b059e64f4517a86dd60c95d'}, {'id': '0x', 'rank': '96', 'symbol': 'ZRX', 'name': '0x Protocol', 'supply': '847496054.8027713000000000', 'maxSupply': '1000000000.0000000000000000', 'marketCapUsd': '456939473.0027980090508575', 'volumeUsd24Hr': '12010400.0311133404003709', 'priceUsd': '0.5391641299252262', 'changePercent24Hr': '6.3653977600075258', 'vwap24Hr': '0.5272977685472120', 'explorer': 'https://etherscan.io/token/ZRX'}, {'id': 'celo', 'rank': '97', 'symbol': 'CELO', 'name': 'Celo', 'supply': '539537130.0000000000000000', 'maxSupply': '1000000000.0000000000000000', 'marketCapUsd': '445997738.4346841410681650', 'volumeUsd24Hr': '3030402.8504589322290153', 'priceUsd': '0.8266302977789205', 'changePercent24Hr': '0.4740608905381696', 'vwap24Hr': '0.8316009625159600', 'explorer': 'https://explorer.celo.org/blocks'}, {'id': 'enjin-coin', 'rank': '98', 'symbol': 'ENJ', 'name': 'Enjin Coin', 'supply': '1467617220.1923869000000000', 'maxSupply': None, 'marketCapUsd': '443457053.7968373692944464', 'volumeUsd24Hr': '14034510.2756199418675403', 'priceUsd': '0.3021612500149770', 'changePercent24Hr': '0.9804337333037152', 'vwap24Hr': '0.2981143003721081', 'explorer': 'https://etherscan.io/token/0xf629cbd94d3791c9250152bd8dfbdf380e2a3b9c'}, {'id': 'holo', 'rank': '99', 'symbol': 'HOT', 'name': 'Holo', 'supply': '173416737599.1556700000000000', 'maxSupply': None, 'marketCapUsd': '442234305.0161188182621717', 'volumeUsd24Hr': '3291032.2085957817939165', 'priceUsd': '0.0025501246946435', 'changePercent24Hr': '2.0901990697156409', 'vwap24Hr': '0.0025563408764025', 'explorer': 'https://etherscan.io/token/0x6c6ee5e31d828de241282b9606c8e98ea48526e2'}, {'id': 'zilliqa', 'rank': '100', 'symbol': 'ZIL', 'name': 'Zilliqa', 'supply': '18466564812.1682550000000000', 'maxSupply': '21000000000.0000000000000000', 'marketCapUsd': '434540871.8523547734524412', 'volumeUsd24Hr': '6459038.1788912080750221', 'priceUsd': '0.0235312239321317', 'changePercent24Hr': '1.1636744556582177', 'vwap24Hr': '0.0235790349511436', 'explorer': 'https://etherscan.io/token/0x05f4a42e251f2d52b8ed15e9fedaacfcef1fad27'}]\n",
      "-> timestamp : 1717597355906\n",
      "It is a nested JSON, with two key-value pais: data and timestamp.\n",
      "The actual information comes in the 'data' key along with its associated 'timestamp' as another key.\n",
      "How many key-value pairs in the 'data' key: 100\n",
      "Let's explore the first element of 'data': {'id': 'bitcoin', 'rank': '1', 'symbol': 'BTC', 'name': 'Bitcoin', 'supply': '19707950.0000000000000000', 'maxSupply': '21000000.0000000000000000', 'marketCapUsd': '1390226307046.3059559047385650', 'volumeUsd24Hr': '10207734021.5157522211242496', 'priceUsd': '70541.3960887005475407', 'changePercent24Hr': '0.8787348433905804', 'vwap24Hr': '70672.9205297634327363', 'explorer': 'https://blockchain.info/'}\n",
      "-> There are 12 features in a single record of 'data'.\n",
      "-> In total, there are 100 records stored in 'data' and each record has 12 features.\n",
      "We should see the same when storing in Dataframe.\n"
     ]
    }
   ],
   "source": [
    "# Exploring the JSON structure\n",
    "print(\"This is the Json's type from the API request:\", type(raw_data_json))\n",
    "print(\"It's a dict, so let's check how many keys it has:\", len(raw_data_json))\n",
    "\n",
    "# Saving Keys and Values as Lists\n",
    "raw_data_json_keys_ls = list(raw_data_json.keys())\n",
    "raw_data_json_values_ls = list(raw_data_json.values())\n",
    "\n",
    "print(\"Let's print both keys:\", raw_data_json_keys_ls)\n",
    "for key, value in raw_data_json.items():\n",
    "    print(\"->\", key, \":\", raw_data_json[key])\n",
    "\n",
    "print(\"It is a nested JSON, with two key-value pais: data and timestamp.\")\n",
    "print(\"The actual information comes in the 'data' key along with its associated 'timestamp' as another key.\")\n",
    "print(\"How many key-value pairs in the 'data' key:\", len(raw_data_json_values_ls[0]))\n",
    "print(\"Let's explore the first element of 'data':\", raw_data_json_values_ls[0][0])\n",
    "potential_columns = len(raw_data_json_values_ls[0][0])\n",
    "potential_rows = len(raw_data_json_values_ls[0])\n",
    "print(f\"-> There are {potential_columns} features in a single record of 'data'.\")\n",
    "print(f\"-> In total, there are {potential_rows} records stored in 'data' and each record has {potential_columns} features.\")\n",
    "print(\"We should see the same when storing in Dataframe.\")\n"
   ]
  },
  {
   "cell_type": "markdown",
   "metadata": {},
   "source": [
    "### Transformation Function\n",
    "Notes: \n",
    "* The list of records are stored in the 'data' key of the JSON file, as seen above.\n",
    "* Before creating the transformation function, we performed a data exploration:\n",
    "    * There were some columns that are supposed to be **Numerical** data, but are stored as **Categorical** (`object`) data. We converted them.\n",
    "    * There were some **Missing** (`NULL`) data ('maxSupply', 'explorer'). We handled it by hardcoding within the transformation function."
   ]
  },
  {
   "cell_type": "code",
   "execution_count": 5,
   "metadata": {},
   "outputs": [],
   "source": [
    "# For the Converting part\n",
    "# Selecting the columns and their correct types\n",
    "cols_datatypes = {\n",
    "    'rank' : int,\n",
    "    'supply' : float,\n",
    "    'maxSupply' : float,\n",
    "    'marketCapUsd' : float,\n",
    "    'volumeUsd24Hr' : float,\n",
    "    'priceUsd' : float,\n",
    "    'changePercent24Hr' : float,\n",
    "    'vwap24Hr' : float\n",
    "}\n",
    "\n",
    "# For the Rounding part\n",
    "# Selecting the columns we want to round to some decimal places\n",
    "cols_to_round = ['supply', 'maxSupply', 'marketCapUsd', 'priceUsd', 'changePercent24Hr', 'vwap24Hr']"
   ]
  },
  {
   "cell_type": "code",
   "execution_count": 6,
   "metadata": {},
   "outputs": [],
   "source": [
    "def transform(raw_data_json, cols_datatypes, cols_to_round):\n",
    "    \"\"\"\n",
    "    Create and return a raw dataset in the DataFrame format based on a JSON.\n",
    "    Here, the function is not automated to both the missing values and the rounding parts.\n",
    "    You need to hardcode it here how to handle each case.\n",
    "\n",
    "    Args:\n",
    "        raw_data_json: The raw json returned by the extraction function.\n",
    "        cols_datatypes: A dictionary of columns and the associated types you want for them.\n",
    "    Returns:\n",
    "        raw_normalized_data_df: a raw, normalized dataset in the DataFrame format.\n",
    "    \"\"\"    \n",
    "    \n",
    "    # 1) Data Normalization\n",
    "    # record_path = \"data\": path to list of records.\n",
    "    # sep = \".\": Nested records will generate names separated by 'sep'.\n",
    "    raw_normalized_data_df = pd.json_normalize(raw_data_json, record_path = \"data\", sep = '.') \n",
    "\n",
    "    # Assert that the transform function returns a pd.DataFrame\n",
    "    assert isinstance(raw_normalized_data_df, pd.DataFrame)\n",
    "    \n",
    "    # 2) Data Cleaning\n",
    "    # Inner Function to Convert Categorical to Numerical\n",
    "    def convert_cols_cat_to_num(df, cols_datatypes):\n",
    "        \"\"\"\n",
    "        Gets a dataframe with specific categorical columns and convert them into numerical columns. \n",
    "\n",
    "        Args:\n",
    "            df: The dataframe with the columns you want to convert.\n",
    "            cols_datatypes: A dictionary of columns and the associated types you want for them. \n",
    "\n",
    "        Returns:\n",
    "            Engine: A dataframe with columns converted to the types you want. \n",
    "        \"\"\"\n",
    "        for col, datatype in cols_datatypes.items():\n",
    "            if col in df.columns:\n",
    "                df[col] = df[col].astype(datatype)\n",
    "        return df\n",
    "    \n",
    "    # Converting Categorical to Numerical\n",
    "    converted_data_df = convert_cols_cat_to_num(raw_normalized_data_df, cols_datatypes)\n",
    "    # Save a copy\n",
    "    cleaned_data_df = converted_data_df.copy()\n",
    "    \n",
    "    # Handling Missing Values\n",
    "    cleaned_data_df[\"maxSupply\"] = cleaned_data_df[\"maxSupply\"].fillna(0)\n",
    "    cleaned_data_df[\"explorer\"] = cleaned_data_df[\"explorer\"].fillna('not available')    \n",
    "\n",
    "    # Inner function to round columns\n",
    "    # def round_to_two_decimal_places(number):\n",
    "    #     return round(number, 2)\n",
    "\n",
    "    # Rounding columns\n",
    "    # Note: 'applymap' applies a function that accepts and returns a scalar to every element of a DataFrame\n",
    "    cleaned_data_df[cols_to_round] = cleaned_data_df[cols_to_round].apply(lambda x: x.round(2))\n",
    "\n",
    "    return cleaned_data_df\n",
    "\n",
    "# Try-except block for the transform function\n",
    "try:\n",
    "    # Transform the raw_data_json into a cleaned and tabular dataframe\n",
    "    cleaned_data_df = transform(raw_data_json, cols_datatypes, cols_to_round)\n",
    "except:\n",
    "    print(\"There is an error with the transform function.\")"
   ]
  },
  {
   "cell_type": "code",
   "execution_count": 7,
   "metadata": {},
   "outputs": [
    {
     "name": "stdout",
     "output_type": "stream",
     "text": [
      "<class 'pandas.core.frame.DataFrame'>\n",
      "RangeIndex: 100 entries, 0 to 99\n",
      "Data columns (total 12 columns):\n",
      " #   Column             Non-Null Count  Dtype  \n",
      "---  ------             --------------  -----  \n",
      " 0   id                 100 non-null    object \n",
      " 1   rank               100 non-null    int64  \n",
      " 2   symbol             100 non-null    object \n",
      " 3   name               100 non-null    object \n",
      " 4   supply             100 non-null    float64\n",
      " 5   maxSupply          100 non-null    float64\n",
      " 6   marketCapUsd       100 non-null    float64\n",
      " 7   volumeUsd24Hr      100 non-null    float64\n",
      " 8   priceUsd           100 non-null    float64\n",
      " 9   changePercent24Hr  100 non-null    float64\n",
      " 10  vwap24Hr           100 non-null    float64\n",
      " 11  explorer           100 non-null    object \n",
      "dtypes: float64(7), int64(1), object(4)\n",
      "memory usage: 9.5+ KB\n"
     ]
    }
   ],
   "source": [
    "# Checking the cleaned dataset\n",
    "cleaned_data_df.info()"
   ]
  },
  {
   "cell_type": "code",
   "execution_count": 8,
   "metadata": {},
   "outputs": [
    {
     "data": {
      "text/html": [
       "<div>\n",
       "<style scoped>\n",
       "    .dataframe tbody tr th:only-of-type {\n",
       "        vertical-align: middle;\n",
       "    }\n",
       "\n",
       "    .dataframe tbody tr th {\n",
       "        vertical-align: top;\n",
       "    }\n",
       "\n",
       "    .dataframe thead th {\n",
       "        text-align: right;\n",
       "    }\n",
       "</style>\n",
       "<table border=\"1\" class=\"dataframe\">\n",
       "  <thead>\n",
       "    <tr style=\"text-align: right;\">\n",
       "      <th></th>\n",
       "      <th>id</th>\n",
       "      <th>rank</th>\n",
       "      <th>symbol</th>\n",
       "      <th>name</th>\n",
       "      <th>supply</th>\n",
       "      <th>maxSupply</th>\n",
       "      <th>marketCapUsd</th>\n",
       "      <th>volumeUsd24Hr</th>\n",
       "      <th>priceUsd</th>\n",
       "      <th>changePercent24Hr</th>\n",
       "      <th>vwap24Hr</th>\n",
       "      <th>explorer</th>\n",
       "    </tr>\n",
       "  </thead>\n",
       "  <tbody>\n",
       "    <tr>\n",
       "      <th>0</th>\n",
       "      <td>bitcoin</td>\n",
       "      <td>1</td>\n",
       "      <td>BTC</td>\n",
       "      <td>Bitcoin</td>\n",
       "      <td>1.970795e+07</td>\n",
       "      <td>21000000.0</td>\n",
       "      <td>1.390226e+12</td>\n",
       "      <td>1.020773e+10</td>\n",
       "      <td>70541.40</td>\n",
       "      <td>0.88</td>\n",
       "      <td>70672.92</td>\n",
       "      <td>https://blockchain.info/</td>\n",
       "    </tr>\n",
       "    <tr>\n",
       "      <th>1</th>\n",
       "      <td>ethereum</td>\n",
       "      <td>2</td>\n",
       "      <td>ETH</td>\n",
       "      <td>Ethereum</td>\n",
       "      <td>1.201484e+08</td>\n",
       "      <td>0.0</td>\n",
       "      <td>4.556307e+11</td>\n",
       "      <td>5.061351e+09</td>\n",
       "      <td>3792.23</td>\n",
       "      <td>0.02</td>\n",
       "      <td>3805.94</td>\n",
       "      <td>https://etherscan.io/</td>\n",
       "    </tr>\n",
       "    <tr>\n",
       "      <th>2</th>\n",
       "      <td>binance-coin</td>\n",
       "      <td>3</td>\n",
       "      <td>BNB</td>\n",
       "      <td>BNB</td>\n",
       "      <td>1.668011e+08</td>\n",
       "      <td>166801148.0</td>\n",
       "      <td>1.168316e+11</td>\n",
       "      <td>1.022159e+09</td>\n",
       "      <td>700.42</td>\n",
       "      <td>6.46</td>\n",
       "      <td>687.22</td>\n",
       "      <td>https://etherscan.io/token/0xB8c77482e45F1F44d...</td>\n",
       "    </tr>\n",
       "    <tr>\n",
       "      <th>3</th>\n",
       "      <td>tether</td>\n",
       "      <td>4</td>\n",
       "      <td>USDT</td>\n",
       "      <td>Tether</td>\n",
       "      <td>1.123168e+11</td>\n",
       "      <td>0.0</td>\n",
       "      <td>1.123850e+11</td>\n",
       "      <td>1.719355e+10</td>\n",
       "      <td>1.00</td>\n",
       "      <td>0.05</td>\n",
       "      <td>1.00</td>\n",
       "      <td>https://www.omniexplorer.info/asset/31</td>\n",
       "    </tr>\n",
       "    <tr>\n",
       "      <th>4</th>\n",
       "      <td>solana</td>\n",
       "      <td>5</td>\n",
       "      <td>SOL</td>\n",
       "      <td>Solana</td>\n",
       "      <td>4.599249e+08</td>\n",
       "      <td>0.0</td>\n",
       "      <td>7.905343e+10</td>\n",
       "      <td>7.691093e+08</td>\n",
       "      <td>171.88</td>\n",
       "      <td>3.14</td>\n",
       "      <td>171.41</td>\n",
       "      <td>https://explorer.solana.com/</td>\n",
       "    </tr>\n",
       "  </tbody>\n",
       "</table>\n",
       "</div>"
      ],
      "text/plain": [
       "             id  rank symbol      name        supply    maxSupply  \\\n",
       "0       bitcoin     1    BTC   Bitcoin  1.970795e+07   21000000.0   \n",
       "1      ethereum     2    ETH  Ethereum  1.201484e+08          0.0   \n",
       "2  binance-coin     3    BNB       BNB  1.668011e+08  166801148.0   \n",
       "3        tether     4   USDT    Tether  1.123168e+11          0.0   \n",
       "4        solana     5    SOL    Solana  4.599249e+08          0.0   \n",
       "\n",
       "   marketCapUsd  volumeUsd24Hr  priceUsd  changePercent24Hr  vwap24Hr  \\\n",
       "0  1.390226e+12   1.020773e+10  70541.40               0.88  70672.92   \n",
       "1  4.556307e+11   5.061351e+09   3792.23               0.02   3805.94   \n",
       "2  1.168316e+11   1.022159e+09    700.42               6.46    687.22   \n",
       "3  1.123850e+11   1.719355e+10      1.00               0.05      1.00   \n",
       "4  7.905343e+10   7.691093e+08    171.88               3.14    171.41   \n",
       "\n",
       "                                            explorer  \n",
       "0                           https://blockchain.info/  \n",
       "1                              https://etherscan.io/  \n",
       "2  https://etherscan.io/token/0xB8c77482e45F1F44d...  \n",
       "3             https://www.omniexplorer.info/asset/31  \n",
       "4                       https://explorer.solana.com/  "
      ]
     },
     "execution_count": 8,
     "metadata": {},
     "output_type": "execute_result"
    }
   ],
   "source": [
    "# Checking the first records\n",
    "cleaned_data_df.head()"
   ]
  },
  {
   "cell_type": "markdown",
   "metadata": {},
   "source": [
    "## [L] Load\n",
    "* Loading data to Postgres.\n",
    "    * Open a SQL connection with SQLAlchemy\n",
    "    * .to_sql()\n",
    "* Data Quality checks:\n",
    "    * Validate that data was correctly persisted in postgres\n",
    "        * Ensure it can be queried\n",
    "            * pd.read_sql()\n",
    "        * Make sure counts match\n",
    "        * Validate each row is present"
   ]
  },
  {
   "cell_type": "code",
   "execution_count": 9,
   "metadata": {},
   "outputs": [],
   "source": [
    "# Create a Function that created the SQL Engine based on SQLAlchemy\n",
    "def create_db_engine(connection_uri: str) -> Engine: # Arrow indicates that the function returns an object of type Engine\n",
    "    \"\"\"\n",
    "    Create and return a SQLAlchemy engine based on the provided connection URI.\n",
    "\n",
    "    Args:\n",
    "        connection_uri (str): The connection URI for the database.\n",
    "\n",
    "    Returns:\n",
    "        Engine: A SQLAlchemy engine connected to the specified database.\n",
    "    \"\"\"\n",
    "    db_engine = create_engine(connection_uri)\n",
    "    return db_engine"
   ]
  },
  {
   "cell_type": "code",
   "execution_count": 10,
   "metadata": {},
   "outputs": [],
   "source": [
    "# Load environment variables from .env file\n",
    "load_dotenv()\n",
    "\n",
    "# Retrieve individual components from environment variables\n",
    "user = os.getenv('POSTGRES_USER')\n",
    "password = os.getenv('POSTGRES_PASSWORD')\n",
    "host = os.getenv('POSTGRES_HOST')\n",
    "db_name = os.getenv('POSTGRES_DB')\n",
    "\n",
    "# Ensure the connection URI is retrieved successfully\n",
    "if not all([user, password, host, db_name]):\n",
    "    raise ValueError(\"One or more environment variables for the database connection are not set\")\n",
    "\n",
    "# Construct the connection URI\n",
    "connection_uri = f\"postgresql://{user}:{password}@{host}/{db_name}\"\n",
    "\n",
    "# Ensure the connection URI is retrieved successfully\n",
    "if connection_uri is None:\n",
    "    raise ValueError(\"DATABASE_URL environment variable is not set\")\n",
    "\n",
    "# Create the database engine\n",
    "db_engine = create_db_engine(connection_uri)"
   ]
  },
  {
   "cell_type": "code",
   "execution_count": 11,
   "metadata": {},
   "outputs": [],
   "source": [
    "# Load/Persist data in Postgres\n",
    "def load(cleaned_data_df, con_engine):\n",
    "    \"\"\"\n",
    "    Load/persist data in PostgreSQL database.\n",
    "\n",
    "    Args:\n",
    "        raw_normalized_data_df (DataFrame): The DataFrame containing the data to be loaded.\n",
    "        con_engine (Engine): SQLAlchemy engine for database connection.\n",
    "\n",
    "    Returns:\n",
    "        None\n",
    "    \"\"\"\n",
    "    # to_sql: Write records stored in a DataFrame to a SQL database.\n",
    "    cleaned_data_df.to_sql(name=\"crypto_mkt\", con=con_engine, if_exists=\"replace\", index=False)"
   ]
  },
  {
   "cell_type": "code",
   "execution_count": 12,
   "metadata": {},
   "outputs": [
    {
     "name": "stdout",
     "output_type": "stream",
     "text": [
      "             id  rank symbol      name        supply    maxSupply  \\\n",
      "0       bitcoin     1    BTC   Bitcoin  1.970795e+07   21000000.0   \n",
      "1      ethereum     2    ETH  Ethereum  1.201484e+08          0.0   \n",
      "2  binance-coin     3    BNB       BNB  1.668011e+08  166801148.0   \n",
      "3        tether     4   USDT    Tether  1.123168e+11          0.0   \n",
      "4        solana     5    SOL    Solana  4.599249e+08          0.0   \n",
      "\n",
      "   marketCapUsd  volumeUsd24Hr  priceUsd  changePercent24Hr  vwap24Hr  \\\n",
      "0  1.390226e+12   1.020773e+10  70541.40               0.88  70672.92   \n",
      "1  4.556307e+11   5.061351e+09   3792.23               0.02   3805.94   \n",
      "2  1.168316e+11   1.022159e+09    700.42               6.46    687.22   \n",
      "3  1.123850e+11   1.719355e+10      1.00               0.05      1.00   \n",
      "4  7.905343e+10   7.691093e+08    171.88               3.14    171.41   \n",
      "\n",
      "                                            explorer  \n",
      "0                           https://blockchain.info/  \n",
      "1                              https://etherscan.io/  \n",
      "2  https://etherscan.io/token/0xB8c77482e45F1F44d...  \n",
      "3             https://www.omniexplorer.info/asset/31  \n",
      "4                       https://explorer.solana.com/  \n"
     ]
    }
   ],
   "source": [
    "# Call the load function to load the transformed data to persistent storage\n",
    "load(cleaned_data_df, db_engine)\n",
    "\n",
    "# Query the data in the crypto_mkt table, check the head of the DataFrame\n",
    "to_validate = pd.read_sql(\"SELECT * FROM crypto_mkt\", con=db_engine)\n",
    "print(to_validate.head())"
   ]
  }
 ],
 "metadata": {
  "kernelspec": {
   "display_name": "Python 3",
   "language": "python",
   "name": "python3"
  },
  "language_info": {
   "codemirror_mode": {
    "name": "ipython",
    "version": 3
   },
   "file_extension": ".py",
   "mimetype": "text/x-python",
   "name": "python",
   "nbconvert_exporter": "python",
   "pygments_lexer": "ipython3",
   "version": "3.9.13"
  }
 },
 "nbformat": 4,
 "nbformat_minor": 2
}
